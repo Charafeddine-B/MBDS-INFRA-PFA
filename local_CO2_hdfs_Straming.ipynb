{
 "cells": [
  {
   "cell_type": "code",
   "execution_count": null,
   "id": "f0d2f49b-585f-4f93-ab99-edbebaa3e1d4",
   "metadata": {},
   "outputs": [],
   "source": [
    "!pip install hdfs3\n"
   ]
  },
  {
   "cell_type": "code",
   "execution_count": null,
   "id": "97345895-e2bd-4843-8aa7-eafb8ea56d51",
   "metadata": {},
   "outputs": [],
   "source": [
    "# Import necessary libraries\n",
    "from pyspark.sql import SparkSession\n",
    "\n",
    "# Initialize SparkSession\n",
    "spark = SparkSession.builder \\\n",
    "    .appName(\"CSV to HDFS\") \\\n",
    "    .getOrCreate()\n",
    "\n",
    "# Load CSV file into DataFrame\n",
    "df = spark.read.csv(\"./Cleaned/cleaned_CO2_data.csv/part-00000-c21cff60-17f7-42d4-9de3-9ccb3fa18730-c000.csv\", header=True, inferSchema=True)\n",
    "\n",
    "# Write DataFrame to HDFS\n",
    "# Replace \"hdfs:///path/to/output\" with your desired HDFS output path\n",
    "df.write.csv(\"hdfs://172.20.0.6:9000/CO2/cc.csv\", mode=\"overwrite\")\n",
    "\n",
    "# Stop SparkSession\n",
    "spark.stop()\n"
   ]
  },
  {
   "cell_type": "code",
   "execution_count": null,
   "id": "fd96e71e-07b3-479f-ab66-87df3f3e4bd2",
   "metadata": {},
   "outputs": [],
   "source": []
  }
 ],
 "metadata": {
  "kernelspec": {
   "display_name": "Python 3 (ipykernel)",
   "language": "python",
   "name": "python3"
  },
  "language_info": {
   "codemirror_mode": {
    "name": "ipython",
    "version": 3
   },
   "file_extension": ".py",
   "mimetype": "text/x-python",
   "name": "python",
   "nbconvert_exporter": "python",
   "pygments_lexer": "ipython3",
   "version": "3.11.6"
  }
 },
 "nbformat": 4,
 "nbformat_minor": 5
}
