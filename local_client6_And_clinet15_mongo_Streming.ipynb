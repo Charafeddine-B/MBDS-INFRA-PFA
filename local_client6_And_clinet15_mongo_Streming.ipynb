{
 "cells": [
  {
   "cell_type": "code",
   "execution_count": null,
   "id": "4e8b62aa-3251-47c8-b95e-a305e2021997",
   "metadata": {},
   "outputs": [],
   "source": [
    "!pip install pymongo"
   ]
  },
  {
   "cell_type": "code",
   "execution_count": null,
   "id": "fbd64bff-11da-4f62-8de1-0aaad24f8e42",
   "metadata": {},
   "outputs": [],
   "source": [
    "import pyspark\n",
    "from pyspark import SparkContext\n",
    "from pyspark.sql import SparkSession\n",
    "from pyspark.sql import SQLContext"
   ]
  },
  {
   "cell_type": "code",
   "execution_count": null,
   "id": "24416ebf-c099-4142-b42d-9959739dab0d",
   "metadata": {},
   "outputs": [],
   "source": [
    "# First Load all the required library and also Start Spark Session\n",
    "# Load all the required library\n",
    "from pyspark.sql import SparkSession"
   ]
  },
  {
   "cell_type": "code",
   "execution_count": null,
   "id": "6d9f3830-6b5a-4d76-93a3-0aed47d0aff1",
   "metadata": {},
   "outputs": [],
   "source": [
    "# Import necessary libraries\n",
    "from pyspark.sql import SparkSession\n",
    "from pymongo import MongoClient\n",
    "import json\n",
    "\n",
    "# Define MongoDB connection parameters\n",
    "mongo_host = '172.20.0.10'\n",
    "mongo_port = 27017\n",
    "mongo_db = 'Clients'\n",
    "mongo_collection = 'Client15'\n",
    "\n",
    "# Initialize SparkSession\n",
    "spark = SparkSession.builder \\\n",
    "    .appName(\"CSV to MongoDB\") \\\n",
    "    .getOrCreate()\n",
    "\n",
    "# Load CSV file into DataFrame\n",
    "df = spark.read.csv(\"./Cleaned/Client_15/part-00000-5fc386f7-2e4f-4845-8532-76d90d8dc2c5-c000.csv\", header=True, inferSchema=True)\n",
    "\n",
    "# Convert DataFrame to RDD of dictionaries\n",
    "rdd = df.rdd.map(lambda row: row.asDict())\n",
    "\n",
    "# Connect to MongoDB\n",
    "client = MongoClient(mongo_host, mongo_port)\n",
    "db = client[mongo_db]\n",
    "collection = db[mongo_collection]\n",
    "\n",
    "# Stream data to MongoDB\n",
    "for doc in rdd.collect():\n",
    "    collection.insert_one(doc)\n",
    "\n",
    "# Close the MongoDB connection\n",
    "client.close()\n",
    "\n",
    "# Stop SparkSession\n",
    "spark.stop()\n"
   ]
  },
  {
   "cell_type": "code",
   "execution_count": null,
   "id": "4fabbaa5-fd5e-4edd-87fd-cb0b01472fac",
   "metadata": {},
   "outputs": [],
   "source": [
    "!pip install pymongo"
   ]
  },
  {
   "cell_type": "code",
   "execution_count": null,
   "id": "7155d736-00e5-46e0-a281-901197615d9d",
   "metadata": {},
   "outputs": [],
   "source": [
    "# Import necessary libraries\n",
    "from pyspark.sql import SparkSession\n",
    "from pymongo import MongoClient\n",
    "import json\n",
    "\n",
    "# Define MongoDB connection parameters\n",
    "mongo_host = '172.20.0.10'\n",
    "mongo_port = 27017\n",
    "mongo_db = 'Clients'\n",
    "mongo_collection = 'Client6'\n",
    "\n",
    "# Initialize SparkSession\n",
    "spark = SparkSession.builder \\\n",
    "    .appName(\"CSV to MongoDB\") \\\n",
    "    .getOrCreate()\n",
    "\n",
    "# Load CSV file into DataFrame\n",
    "df = spark.read.csv(\"./Cleaned/Client6/part-00000-683cc5a9-b804-45be-920d-225d7d348275-c000.csv\", header=True, inferSchema=True)\n",
    "\n",
    "# Convert DataFrame to RDD of dictionaries\n",
    "rdd = df.rdd.map(lambda row: row.asDict())\n",
    "\n",
    "# Connect to MongoDB\n",
    "client = MongoClient(mongo_host, mongo_port)\n",
    "db = client[mongo_db]\n",
    "collection = db[mongo_collection]\n",
    "\n",
    "# Stream data to MongoDB\n",
    "for doc in rdd.collect():\n",
    "    collection.insert_one(doc)\n",
    "\n",
    "# Close the MongoDB connection\n",
    "client.close()\n",
    "\n",
    "# Stop SparkSession\n",
    "spark.stop()\n"
   ]
  },
  {
   "cell_type": "code",
   "execution_count": null,
   "id": "d5ce2553-17ec-4808-a204-92ab47fb67ef",
   "metadata": {},
   "outputs": [],
   "source": []
  }
 ],
 "metadata": {
  "kernelspec": {
   "display_name": "Python 3 (ipykernel)",
   "language": "python",
   "name": "python3"
  },
  "language_info": {
   "codemirror_mode": {
    "name": "ipython",
    "version": 3
   },
   "file_extension": ".py",
   "mimetype": "text/x-python",
   "name": "python",
   "nbconvert_exporter": "python",
   "pygments_lexer": "ipython3",
   "version": "3.11.6"
  }
 },
 "nbformat": 4,
 "nbformat_minor": 5
}
