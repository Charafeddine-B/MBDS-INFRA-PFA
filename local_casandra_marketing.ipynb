{
 "cells": [
  {
   "cell_type": "code",
   "execution_count": 3,
   "id": "34f868be-bc5d-4532-8975-68bd2a8d3686",
   "metadata": {},
   "outputs": [
    {
     "name": "stdout",
     "output_type": "stream",
     "text": [
      "Collecting cassandra-driver\n",
      "  Downloading cassandra_driver-3.29.1-cp311-cp311-manylinux_2_17_x86_64.manylinux2014_x86_64.whl.metadata (5.9 kB)\n",
      "Collecting geomet<0.3,>=0.1 (from cassandra-driver)\n",
      "  Downloading geomet-0.2.1.post1-py3-none-any.whl.metadata (1.0 kB)\n",
      "Requirement already satisfied: click in /opt/conda/lib/python3.11/site-packages (from geomet<0.3,>=0.1->cassandra-driver) (8.1.7)\n",
      "Requirement already satisfied: six in /opt/conda/lib/python3.11/site-packages (from geomet<0.3,>=0.1->cassandra-driver) (1.16.0)\n",
      "Downloading cassandra_driver-3.29.1-cp311-cp311-manylinux_2_17_x86_64.manylinux2014_x86_64.whl (20.1 MB)\n",
      "\u001b[2K   \u001b[90m━━━━━━━━━━━━━━━━━━━━━━━━━━━━━━━━━━━━━━━━\u001b[0m \u001b[32m20.1/20.1 MB\u001b[0m \u001b[31m43.2 MB/s\u001b[0m eta \u001b[36m0:00:00\u001b[0m:00:01\u001b[0m00:01\u001b[0m\n",
      "\u001b[?25hDownloading geomet-0.2.1.post1-py3-none-any.whl (18 kB)\n",
      "Installing collected packages: geomet, cassandra-driver\n",
      "Successfully installed cassandra-driver-3.29.1 geomet-0.2.1.post1\n"
     ]
    }
   ],
   "source": [
    "!pip install cassandra-driver "
   ]
  },
  {
   "cell_type": "code",
   "execution_count": 12,
   "id": "13e3b071-67aa-45a0-a158-bf799b673e28",
   "metadata": {},
   "outputs": [
    {
     "name": "stdout",
     "output_type": "stream",
     "text": [
      "Data inserted successfully!\n"
     ]
    }
   ],
   "source": [
    "from cassandra.cluster import Cluster\n",
    "import pandas as pd\n",
    "\n",
    "# Connect to Cassandra\n",
    "cluster = Cluster(['172.20.0.7'], port=9042)\n",
    "session = cluster.connect()\n",
    "\n",
    "# Define your keyspace name\n",
    "keyspace_name = 'marketing'\n",
    "\n",
    "# Define replication strategy and replication factor\n",
    "replication_strategy = \"{'class': 'SimpleStrategy', 'replication_factor': 1}\"\n",
    "\n",
    "# Create keyspace if it doesn't exist\n",
    "create_keyspace_query = \"\"\"\n",
    "    CREATE KEYSPACE IF NOT EXISTS {}\n",
    "    WITH replication = {}\n",
    "\"\"\".format(keyspace_name, replication_strategy)\n",
    "\n",
    "# Execute the create keyspace query\n",
    "session.execute(create_keyspace_query)\n",
    "\n",
    "# Set the keyspace\n",
    "session.set_keyspace(keyspace_name)\n",
    "\n",
    "# Read data from CSV into Pandas DataFrame\n",
    "csv_file = 'Cleaned/Marketing/part-00000-117a3db8-0857-44ef-8418-f8baab849b4a-c000.csv'\n",
    "data = pd.read_csv(csv_file)\n",
    "\n",
    "# Define your table schema if it doesn't exist already\n",
    "create_table_query = \"\"\"\n",
    "    CREATE TABLE IF NOT EXISTS marketing_table (\n",
    "        age INT,\n",
    "        sexe TEXT,\n",
    "        taux INT,\n",
    "        situationFamiliale TEXT,\n",
    "        nbEnfantsAcharge INT,\n",
    "        deuxieme_voiture BOOLEAN,\n",
    "        PRIMARY KEY (age, sexe) // Define your primary key\n",
    "    )\n",
    "\"\"\"\n",
    "\n",
    "# Execute the create table query\n",
    "session.execute(create_table_query)\n",
    "\n",
    "# Define your insert query\n",
    "insert_query = \"\"\"\n",
    "    INSERT INTO marketing_table (age, sexe, taux, situationFamiliale, nbEnfantsAcharge, deuxieme_voiture)\n",
    "    VALUES (%s, %s, %s, %s, %s, %s)\n",
    "\"\"\"\n",
    "\n",
    "# Iterate over the DataFrame and insert rows into Cassandra\n",
    "for index, row in data.iterrows():\n",
    "    session.execute(insert_query, (row['age'], row['sexe'], row['taux'], row['situationFamiliale'], row['nbEnfantsAcharge'], row['2eme voiture']))\n",
    "\n",
    "print(\"Data inserted successfully!\")\n",
    "\n",
    "# Close the connection\n",
    "cluster.shutdown()\n"
   ]
  },
  {
   "cell_type": "code",
   "execution_count": 7,
   "id": "699eeec2-c7ec-4c20-890a-708167479053",
   "metadata": {},
   "outputs": [
    {
     "name": "stdout",
     "output_type": "stream",
     "text": [
      "Keyspace and table created successfully!\n"
     ]
    }
   ],
   "source": [
    "from cassandra.cluster import Cluster\n",
    "\n",
    "# Connect to Cassandra\n",
    "cluster = Cluster(['172.20.0.7'], port=9042)\n",
    "session = cluster.connect()\n",
    "\n",
    "# Define your keyspace name\n",
    "keyspace_name = 'your_keyspace_name'\n",
    "\n",
    "# Define replication strategy and replication factor\n",
    "replication_strategy = \"{'class': 'SimpleStrategy', 'replication_factor': 1}\"\n",
    "\n",
    "# Create keyspace if it doesn't exist\n",
    "create_keyspace_query = \"\"\"\n",
    "    CREATE KEYSPACE IF NOT EXISTS {}\n",
    "    WITH replication = {}\n",
    "\"\"\".format(keyspace_name, replication_strategy)\n",
    "\n",
    "session.execute(create_keyspace_query)\n",
    "\n",
    "# Close the connection to the default keyspace (system)\n",
    "session.shutdown()\n",
    "\n",
    "# Reconnect to Cassandra and set the keyspace\n",
    "session = cluster.connect(keyspace_name)\n",
    "\n",
    "# Define your table schema if it doesn't exist already\n",
    "create_table_query = \"\"\"\n",
    "    CREATE TABLE IF NOT EXISTS your_table_name (\n",
    "        age INT,\n",
    "        sexe TEXT,\n",
    "        taux INT,\n",
    "        situationFamiliale TEXT,\n",
    "        nbEnfantsAcharge INT,\n",
    "        deuxieme_voiture BOOLEAN,\n",
    "        PRIMARY KEY (age, sexe) // Define your primary key\n",
    "    )\n",
    "\"\"\"\n",
    "\n",
    "# Execute the create table query\n",
    "session.execute(create_table_query)\n",
    "\n",
    "print(\"Keyspace and table created successfully!\")\n",
    "\n",
    "# Close the connection\n",
    "cluster.shutdown()\n"
   ]
  },
  {
   "cell_type": "code",
   "execution_count": null,
   "id": "9bec1ca9-4048-4c50-8661-a30b40ddf01c",
   "metadata": {},
   "outputs": [],
   "source": []
  }
 ],
 "metadata": {
  "kernelspec": {
   "display_name": "Python 3 (ipykernel)",
   "language": "python",
   "name": "python3"
  },
  "language_info": {
   "codemirror_mode": {
    "name": "ipython",
    "version": 3
   },
   "file_extension": ".py",
   "mimetype": "text/x-python",
   "name": "python",
   "nbconvert_exporter": "python",
   "pygments_lexer": "ipython3",
   "version": "3.11.6"
  }
 },
 "nbformat": 4,
 "nbformat_minor": 5
}
