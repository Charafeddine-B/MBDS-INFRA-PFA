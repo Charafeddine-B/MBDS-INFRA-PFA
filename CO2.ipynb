{
 "cells": [
  {
   "cell_type": "code",
   "execution_count": 14,
   "id": "8ba4d581-662c-424e-9d09-c94fc0562be8",
   "metadata": {},
   "outputs": [],
   "source": [
    "from pyspark.sql import SparkSession\n",
    "from pyspark.sql.functions import regexp_replace, when, col"
   ]
  },
  {
   "cell_type": "code",
   "execution_count": 15,
   "id": "dd3b521c-2136-4bc6-97e2-97f0337e0379",
   "metadata": {},
   "outputs": [],
   "source": [
    "# Initialize SparkSession\n",
    "spark = SparkSession.builder \\\n",
    "    .appName(\"DataCleaning\") \\\n",
    "    .getOrCreate()"
   ]
  },
  {
   "cell_type": "code",
   "execution_count": 16,
   "id": "5fa54506-0d2f-4838-9ce7-963285314b57",
   "metadata": {},
   "outputs": [
    {
     "name": "stdout",
     "output_type": "stream",
     "text": [
      "+---+--------------------+-------------+---------------+-----------+\n",
      "|_c0|     Marque / Modele|Bonus / Malus|Rejets CO2 g/km|Cout enerie|\n",
      "+---+--------------------+-------------+---------------+-----------+\n",
      "|  2|AUDI E-TRON SPORT...|    -6 000€ 1|              0|      319 €|\n",
      "|  3|AUDI E-TRON SPORT...|    -6 000€ 1|              0|      356 €|\n",
      "|  4|AUDI E-TRON 55 (4...|    -6 000€ 1|              0|      357 €|\n",
      "|  5|AUDI E-TRON 50 (3...|    -6 000€ 1|              0|      356 €|\n",
      "|  6|       BMW i3 120 Ah|    -6 000€ 1|              0|      204 €|\n",
      "|  7|      BMW i3s 120 Ah|    -6 000€ 1|              0|      204 €|\n",
      "|  8|    CITROEN BERLINGO|    -6 000€ 1|              0|      203 €|\n",
      "|  9|      CITROEN C-ZERO|    -6 000€ 1|              0|      491 €|\n",
      "| 10|DS DS3 CROSSBACK ...|    -6 000€ 1|              0|      251 €|\n",
      "| 11|HYUNDAI KONA elec...|    -6 000€ 1|              0|      205 €|\n",
      "| 12|HYUNDAI KONA elec...|    -6 000€ 1|              0|      205 €|\n",
      "| 13|JAGUAR I-PACE EV4...|    -6 000€ 1|              0|      271 €|\n",
      "| 14|KIA e-NIRO Moteur...|    -6 000€ 1|              0|      212 €|\n",
      "| 15|KIA e-NIRO Moteur...|    -6 000€ 1|              0|      203 €|\n",
      "| 16|KIA SOUL Moteur Ã...|    -6 000€ 1|              0|      214 €|\n",
      "| 17|KIA SOUL Moteur Ã...|    -6 000€ 1|              0|      214 €|\n",
      "| 18|MERCEDES EQC 400 ...|    -6 000€ 1|              0|      291 €|\n",
      "| 19|MERCEDES VITO Tou...|    -6 000€ 1|              0|      411 €|\n",
      "| 20|MERCEDES VITO Tou...|    -6 000€ 1|              0|      411 €|\n",
      "| 21|MINI MINI Cooper ...|    -6 000€ 1|              0|      199 €|\n",
      "+---+--------------------+-------------+---------------+-----------+\n",
      "only showing top 20 rows\n",
      "\n"
     ]
    }
   ],
   "source": [
    "\n",
    "# Read the CSV file\n",
    "df = spark.read.csv('./data/CO2.csv', header=True, inferSchema=True)\n",
    "\n",
    "# Set the option to prevent escaping of special characters\n",
    "spark.conf.set(\"spark.sql.sources.escapeQuotes\", \"false\")\n",
    "df.show()"
   ]
  },
  {
   "cell_type": "code",
   "execution_count": 19,
   "id": "2129e7b2-dcfd-457e-995e-20e2363c1c76",
   "metadata": {},
   "outputs": [
    {
     "name": "stdout",
     "output_type": "stream",
     "text": [
      "+---+--------------------+-------------+---------------+-----------+\n",
      "|_c0|     Marque / Modele|Bonus / Malus|Rejets CO2 g/km|Cout enerie|\n",
      "+---+--------------------+-------------+---------------+-----------+\n",
      "|  2|AUDI ETRON SPORTB...|         6000|              0|        319|\n",
      "|  3|AUDI ETRON SPORTB...|         6000|              0|        356|\n",
      "|  4|AUDI ETRON 55 408...|         6000|              0|        357|\n",
      "|  5|AUDI ETRON 50 313...|         6000|              0|        356|\n",
      "|  6|       BMW i3 120 Ah|         6000|              0|        204|\n",
      "|  7|      BMW i3s 120 Ah|         6000|              0|        204|\n",
      "|  8|    CITROEN BERLINGO|         6000|              0|        203|\n",
      "|  9|       CITROEN CZERO|         6000|              0|        491|\n",
      "| 10|DS DS3 CROSSBACK ...|         6000|              0|        251|\n",
      "| 11|HYUNDAI KONA elec...|         6000|              0|        205|\n",
      "| 12|HYUNDAI KONA elec...|         6000|              0|        205|\n",
      "| 13|JAGUAR IPACE EV40...|         6000|              0|        271|\n",
      "| 14|KIA eNIRO Moteur ...|         6000|              0|        212|\n",
      "| 15|KIA eNIRO Moteur ...|         6000|              0|        203|\n",
      "| 16|KIA SOUL Moteur l...|         6000|              0|        214|\n",
      "| 17|KIA SOUL Moteur l...|         6000|              0|        214|\n",
      "| 18|MERCEDES EQC 400 ...|         6000|              0|        291|\n",
      "| 19|MERCEDES VITO Tou...|         6000|              0|        411|\n",
      "| 20|MERCEDES VITO Tou...|         6000|              0|        411|\n",
      "| 21|MINI MINI Cooper ...|         6000|              0|        199|\n",
      "+---+--------------------+-------------+---------------+-----------+\n",
      "only showing top 20 rows\n",
      "\n"
     ]
    }
   ],
   "source": [
    "\n",
    "\n",
    "# Remove special characters from the 'Marque / Modele' column\n",
    "df = df.withColumn(\"Marque / Modele\", regexp_replace(\"Marque / Modele\", \"[^A-Za-z0-9\\s]\", \"\"))\n",
    "\n",
    "# Remove the Euro sign (€) and any non-numeric characters from the 'Bonus / Malus' and 'Cout enerie' columns\n",
    "# Remove everything after the Euro sign in the 'Bonus / Malus' column\n",
    "df = df.withColumn(\"Bonus / Malus\", regexp_replace(\"Bonus / Malus\", \"€.*1\", \"\"))\n",
    "#df = df.withColumn(\"Bonus / Malus\", regexp_replace(\"Bonus / Malus\", \"-\", \"0\"))\n",
    "df = df.withColumn(\"Marque / Modele\", regexp_replace(\"Marque / Modele\", \"[©Ã]\", \"\"))\n",
    "df = df.withColumn(\"Marque / Modele\", regexp_replace(\"Marque / Modele\", \",\", \"\"))\n",
    "df = df.withColumn(\"Bonus / Malus\", regexp_replace(\"Bonus / Malus\", \"-\", \"\"))\n",
    "df = df.withColumn(\"Cout enerie\", regexp_replace(\"Cout enerie\", \"[^\\d]\", \"\"))\n",
    "\n",
    "\n",
    "\n",
    "# Remove unnecessary double quotes from 'Marque / Modele' column\n",
    "df = df.withColumn(\"Marque / Modele\", regexp_replace(\"Marque / Modele\", '\"', ''))\n",
    "# Replace values containing only \"-\" with 0 in the 'Bonus / Malus' column\n",
    "df = df.withColumn(\"Bonus / Malus\", when(col(\"Bonus / Malus\") == \"-\", 0).otherwise(col(\"Bonus / Malus\")))\n",
    "\n",
    "df.show()\n",
    "# Write the cleaned data to a new CSV file\n",
    "df.write.csv(\"Cleaned/cleaned_CO2_data.csv\", header=True, mode=\"overwrite\")\n"
   ]
  },
  {
   "cell_type": "code",
   "execution_count": 5,
   "id": "0fa9ad61-73c2-476a-b893-c47466ba8439",
   "metadata": {},
   "outputs": [
    {
     "name": "stdout",
     "output_type": "stream",
     "text": [
      "+---+--------------------+-------------+---------------+-----------+\n",
      "|_c0|     Marque / Modele|Bonus / Malus|Rejets CO2 g/km|Cout enerie|\n",
      "+---+--------------------+-------------+---------------+-----------+\n",
      "|  2|AUDI E-TRON SPORT...|     -60001.0|              0|      319.0|\n",
      "|  3|AUDI E-TRON SPORT...|     -60001.0|              0|      356.0|\n",
      "|  4|AUDI E-TRON 55 (4...|     -60001.0|              0|      357.0|\n",
      "|  5|AUDI E-TRON 50 (3...|     -60001.0|              0|      356.0|\n",
      "|  6|       BMW i3 120 Ah|     -60001.0|              0|      204.0|\n",
      "|  7|      BMW i3s 120 Ah|     -60001.0|              0|      204.0|\n",
      "|  8|    CITROEN BERLINGO|     -60001.0|              0|      203.0|\n",
      "|  9|      CITROEN C-ZERO|     -60001.0|              0|      491.0|\n",
      "| 10|DS DS3 CROSSBACK ...|     -60001.0|              0|      251.0|\n",
      "| 11|HYUNDAI KONA elec...|     -60001.0|              0|      205.0|\n",
      "| 12|HYUNDAI KONA elec...|     -60001.0|              0|      205.0|\n",
      "| 13|JAGUAR I-PACE EV4...|     -60001.0|              0|      271.0|\n",
      "| 14|KIA e-NIRO Moteur...|     -60001.0|              0|      212.0|\n",
      "| 15|KIA e-NIRO Moteur...|     -60001.0|              0|      203.0|\n",
      "| 16|KIA SOUL Moteur l...|     -60001.0|              0|      214.0|\n",
      "| 17|KIA SOUL Moteur l...|     -60001.0|              0|      214.0|\n",
      "| 18|MERCEDES EQC 400 ...|     -60001.0|              0|      291.0|\n",
      "| 19|MERCEDES VITO Tou...|     -60001.0|              0|      411.0|\n",
      "| 20|MERCEDES VITO Tou...|     -60001.0|              0|      411.0|\n",
      "| 21|MINI MINI Cooper ...|     -60001.0|              0|      199.0|\n",
      "+---+--------------------+-------------+---------------+-----------+\n",
      "only showing top 20 rows\n",
      "\n"
     ]
    }
   ],
   "source": [
    "from pyspark.sql import SparkSession\n",
    "from pyspark.sql.functions import regexp_replace, when\n",
    "\n",
    "# Create a SparkSession\n",
    "spark = SparkSession.builder \\\n",
    "    .appName(\"DataCleaning\") \\\n",
    "    .getOrCreate()\n",
    "\n",
    "# Read the CSV file into a Spark DataFrame\n",
    "df = spark.read.csv(\"./data/CO2.csv\", header=True)\n",
    "\n",
    "# Remove the Euro sign (€) and any non-numeric characters from the 'Bonus / Malus' and 'Cout enerie' columns\n",
    "df = df.withColumn(\"Marque / Modele\", regexp_replace(\"Marque / Modele\", \"[©Ã]\", \"\"))\n",
    "df = df.withColumn(\"Marque / Modele\", regexp_replace(\"Marque / Modele\", \",\", \"\"))\n",
    "df = df.withColumn(\"Bonus / Malus\", regexp_replace(\"Bonus / Malus\", \"[^\\d-]\", \"\"))\n",
    "df = df.withColumn(\"Cout enerie\", regexp_replace(\"Cout enerie\", \"[^\\d]\", \"\"))\n",
    "\n",
    "# Replace empty values in 'Bonus / Malus' column with 0\n",
    "df = df.withColumn(\"Bonus / Malus\", when(df[\"Bonus / Malus\"] == \"-\", 0).otherwise(df[\"Bonus / Malus\"]))\n",
    "\n",
    "# Remove unnecessary double quotes from 'Marque / Modele' column\n",
    "df = df.withColumn(\"Marque / Modele\", regexp_replace(\"Marque / Modele\", '\"', ''))\n",
    "\n",
    "# Convert 'Bonus / Malus' and 'Cout enerie' columns to double data type\n",
    "df = df.withColumn('Bonus / Malus', df['Bonus / Malus'].cast('double'))\n",
    "df = df.withColumn('Cout enerie', df['Cout enerie'].cast('double'))\n",
    "\n",
    "# Write the cleaned data to a new CSV file\n",
    "df.write.csv(\"cleaned_data.csv\", header=True, mode=\"overwrite\")\n",
    "\n",
    "df.show()\n"
   ]
  },
  {
   "cell_type": "code",
   "execution_count": 41,
   "id": "4e73f4e9-b24e-4658-9148-9dedaf57f7e1",
   "metadata": {},
   "outputs": [
    {
     "name": "stdout",
     "output_type": "stream",
     "text": [
      "+---+--------------------+-------------+---------------+-----------+\n",
      "|_c0|     Marque / Modele|Bonus / Malus|Rejets CO2 g/km|Cout enerie|\n",
      "+---+--------------------+-------------+---------------+-----------+\n",
      "|  2|AUDI ETRON SPORTB...|     -6000100|              0|      31900|\n",
      "|  3|AUDI ETRON SPORTB...|     -6000100|              0|      35600|\n",
      "|  4|AUDI ETRON 55 408...|     -6000100|              0|      35700|\n",
      "|  5|AUDI ETRON 50 313...|     -6000100|              0|      35600|\n",
      "|  6|       BMW i3 120 Ah|     -6000100|              0|      20400|\n",
      "|  7|      BMW i3s 120 Ah|     -6000100|              0|      20400|\n",
      "|  8|    CITROEN BERLINGO|     -6000100|              0|      20300|\n",
      "|  9|       CITROEN CZERO|     -6000100|              0|      49100|\n",
      "| 10|DS DS3 CROSSBACK ...|     -6000100|              0|      25100|\n",
      "| 11|HYUNDAI KONA elec...|     -6000100|              0|      20500|\n",
      "| 12|HYUNDAI KONA elec...|     -6000100|              0|      20500|\n",
      "| 13|JAGUAR IPACE EV40...|     -6000100|              0|      27100|\n",
      "| 14|KIA eNIRO Moteur ...|     -6000100|              0|      21200|\n",
      "| 15|KIA eNIRO Moteur ...|     -6000100|              0|      20300|\n",
      "| 16|KIA SOUL Moteur l...|     -6000100|              0|      21400|\n",
      "| 17|KIA SOUL Moteur l...|     -6000100|              0|      21400|\n",
      "| 18|MERCEDES EQC 400 ...|     -6000100|              0|      29100|\n",
      "| 19|MERCEDES VITO Tou...|     -6000100|              0|      41100|\n",
      "| 20|MERCEDES VITO Tou...|     -6000100|              0|      41100|\n",
      "| 21|MINI MINI Cooper ...|     -6000100|              0|      19900|\n",
      "+---+--------------------+-------------+---------------+-----------+\n",
      "only showing top 20 rows\n",
      "\n"
     ]
    }
   ],
   "source": [
    "\n",
    "# Remove the euro sign (€) and spaces from the 'Bonus / Malus' and 'Cout enerie' columns\n",
    "df = df.withColumn('Bonus / Malus', df['Bonus / Malus'].cast('string').cast('double'))\n",
    "df = df.withColumn('Cout enerie', df['Cout enerie'].cast('string').cast('double'))\n",
    "\n",
    "\n",
    "# Remove the Euro sign (€) and any non-numeric characters from the 'Bonus / Malus' and 'Cout enerie' columns\n",
    "df = df.withColumn(\"Marque / Modele\", regexp_replace(\"Marque / Modele\", \"[©Ã]\", \"\"))\n",
    "df = df.withColumn(\"Marque / Modele\", regexp_replace(\"Marque / Modele\", \",\", \"\"))\n",
    "df = df.withColumn(\"Bonus / Malus\", regexp_replace(\"Bonus / Malus\", \"[^\\d-]\", \"\"))\n",
    "df = df.withColumn(\"Cout enerie\", regexp_replace(\"Cout enerie\", \"[^\\d]\", \"\"))\n",
    "\n",
    "# Replace empty values in 'Bonus / Malus' column with 0\n",
    "df = df.withColumn(\"Bonus / Malus\", when(df[\"Bonus / Malus\"] == \"-\", 0).otherwise(df[\"Bonus / Malus\"]))\n",
    "\n",
    "# Remove unnecessary double quotes from 'Marque / Modele' column\n",
    "df = df.withColumn(\"Marque / Modele\", regexp_replace(\"Marque / Modele\", '\"', ''))\n",
    "df.show()\n",
    "# Write the cleaned data to a new CSV file\n",
    "df.write.csv(\"cleaned_data.csv\", header=True, mode=\"overwrite\")\n",
    "\n"
   ]
  },
  {
   "cell_type": "code",
   "execution_count": 37,
   "id": "6152aaa0-a8c8-4d18-a3ff-6316250d42fa",
   "metadata": {},
   "outputs": [
    {
     "name": "stdout",
     "output_type": "stream",
     "text": [
      "+---+--------------------+-------------+---------------+-----------+\n",
      "|_c0|     Marque / Modele|Bonus / Malus|Rejets CO2 g/km|Cout enerie|\n",
      "+---+--------------------+-------------+---------------+-----------+\n",
      "|  2|AUDI E-TRON SPORT...|      -600010|              0|       3190|\n",
      "|  3|AUDI E-TRON SPORT...|      -600010|              0|       3560|\n",
      "|  4|AUDI E-TRON 55 (4...|      -600010|              0|       3570|\n",
      "|  5|AUDI E-TRON 50 (3...|      -600010|              0|       3560|\n",
      "|  6|       BMW i3 120 Ah|      -600010|              0|       2040|\n",
      "|  7|      BMW i3s 120 Ah|      -600010|              0|       2040|\n",
      "|  8|    CITROEN BERLINGO|      -600010|              0|       2030|\n",
      "|  9|      CITROEN C-ZERO|      -600010|              0|       4910|\n",
      "| 10|DS DS3 CROSSBACK ...|      -600010|              0|       2510|\n",
      "| 11|HYUNDAI KONA elec...|      -600010|              0|       2050|\n",
      "| 12|HYUNDAI KONA elec...|      -600010|              0|       2050|\n",
      "| 13|JAGUAR I-PACE EV4...|      -600010|              0|       2710|\n",
      "| 14|KIA e-NIRO Moteur...|      -600010|              0|       2120|\n",
      "| 15|KIA e-NIRO Moteur...|      -600010|              0|       2030|\n",
      "| 16|KIA SOUL Moteur l...|      -600010|              0|       2140|\n",
      "| 17|KIA SOUL Moteur l...|      -600010|              0|       2140|\n",
      "| 18|MERCEDES EQC 400 ...|      -600010|              0|       2910|\n",
      "| 19|MERCEDES VITO Tou...|      -600010|              0|       4110|\n",
      "| 20|MERCEDES VITO Tou...|      -600010|              0|       4110|\n",
      "| 21|MINI MINI Cooper ...|      -600010|              0|       1990|\n",
      "+---+--------------------+-------------+---------------+-----------+\n",
      "only showing top 20 rows\n",
      "\n"
     ]
    }
   ],
   "source": [
    "df.show()"
   ]
  },
  {
   "cell_type": "code",
   "execution_count": 42,
   "id": "a5c6466c-aa5e-42f7-aaa0-5690fcf93816",
   "metadata": {},
   "outputs": [
    {
     "name": "stdout",
     "output_type": "stream",
     "text": [
      "Nombre de lignes avec des valeurs nulles dans la colonne _c0 : 0\n",
      "Nombre de lignes avec des valeurs nulles dans la colonne Marque / Modele : 0\n",
      "Nombre de lignes avec des valeurs nulles dans la colonne Bonus / Malus : 0\n",
      "Nombre de lignes avec des valeurs nulles dans la colonne Rejets CO2 g/km : 0\n",
      "Nombre de lignes avec des valeurs nulles dans la colonne Cout enerie : 0\n",
      "Nombre total de lignes avec des valeurs nulles dans le DataFrame : 0\n"
     ]
    }
   ],
   "source": [
    "from pyspark.sql import SparkSession\n",
    "from pyspark.sql.functions import col\n",
    "\n",
    "# Créer la session Spark\n",
    "spark = SparkSession.builder \\\n",
    "    .appName(\"Count Null Rows\") \\\n",
    "    .getOrCreate()\n",
    "\n",
    "\n",
    "\n",
    "# Initialiser le compteur\n",
    "total_null_rows = 0\n",
    "\n",
    "# Parcourir toutes les colonnes du DataFrame\n",
    "for col_name in df.columns:\n",
    "    # Compter le nombre de lignes avec des valeurs nulles dans cette colonne\n",
    "    null_rows_count = df.filter(df[col_name].isNull()).count()\n",
    "    # Ajouter au compteur total\n",
    "    total_null_rows += null_rows_count\n",
    "    # Afficher le nombre de lignes avec des valeurs nulles dans cette colonne\n",
    "    print(\"Nombre de lignes avec des valeurs nulles dans la colonne\", col_name, \":\", null_rows_count)\n",
    "\n",
    "# Afficher le nombre total de lignes avec des valeurs nulles dans le DataFrame\n",
    "print(\"Nombre total de lignes avec des valeurs nulles dans le DataFrame :\", total_null_rows)\n",
    "\n"
   ]
  },
  {
   "cell_type": "code",
   "execution_count": 32,
   "id": "b3867498-abab-420e-bb1a-8bed55d12285",
   "metadata": {},
   "outputs": [
    {
     "name": "stdout",
     "output_type": "stream",
     "text": [
      "Nombre de lignes avec des valeurs nulles dans la colonne _c0 : 0\n",
      "Nombre de lignes avec des valeurs nulles dans la colonne Marque / Modele : 0\n",
      "Nombre de lignes avec des valeurs nulles dans la colonne Bonus / Malus : 0\n",
      "Nombre de lignes avec des valeurs nulles dans la colonne Rejets CO2 g/km : 0\n",
      "Nombre de lignes avec des valeurs nulles dans la colonne Cout enerie : 0\n",
      "Nombre total de lignes avec des valeurs nulles dans le DataFrame : 0\n"
     ]
    }
   ],
   "source": [
    "from pyspark.sql import SparkSession\n",
    "from pyspark.sql.functions import col\n",
    "\n",
    "# Créer la session Spark\n",
    "spark = SparkSession.builder \\\n",
    "    .appName(\"Count Null Rows\") \\\n",
    "    .getOrCreate()\n",
    "\n",
    "\n",
    "\n",
    "# Initialiser le compteur\n",
    "total_null_rows = 0\n",
    "\n",
    "# Parcourir toutes les colonnes du DataFrame\n",
    "for col_name in df.columns:\n",
    "    # Compter le nombre de lignes avec des valeurs nulles dans cette colonne\n",
    "    null_rows_count = df.filter(df[col_name].isNull()).count()\n",
    "    # Ajouter au compteur total\n",
    "    total_null_rows += null_rows_count\n",
    "    # Afficher le nombre de lignes avec des valeurs nulles dans cette colonne\n",
    "    print(\"Nombre de lignes avec des valeurs nulles dans la colonne\", col_name, \":\", null_rows_count)\n",
    "\n",
    "# Afficher le nombre total de lignes avec des valeurs nulles dans le DataFrame\n",
    "print(\"Nombre total de lignes avec des valeurs nulles dans le DataFrame :\", total_null_rows)\n",
    "\n",
    "# Write the cleaned data to a new CSV file\n",
    "df.write.csv(\"Cleaned/CO2.csv\", header=True, mode=\"overwrite\")\n",
    "\n"
   ]
  },
  {
   "cell_type": "code",
   "execution_count": null,
   "id": "9074b6c5-1cb5-4344-b45d-34eb07ba4d0d",
   "metadata": {},
   "outputs": [],
   "source": []
  },
  {
   "cell_type": "code",
   "execution_count": null,
   "id": "78aee314-9d2d-44e8-acee-0497be163bb7",
   "metadata": {},
   "outputs": [],
   "source": []
  }
 ],
 "metadata": {
  "kernelspec": {
   "display_name": "Python 3 (ipykernel)",
   "language": "python",
   "name": "python3"
  },
  "language_info": {
   "codemirror_mode": {
    "name": "ipython",
    "version": 3
   },
   "file_extension": ".py",
   "mimetype": "text/x-python",
   "name": "python",
   "nbconvert_exporter": "python",
   "pygments_lexer": "ipython3",
   "version": "3.11.6"
  }
 },
 "nbformat": 4,
 "nbformat_minor": 5
}
