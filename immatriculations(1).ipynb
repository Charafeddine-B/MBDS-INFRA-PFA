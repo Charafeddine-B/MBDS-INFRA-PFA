{
 "cells": [
  {
   "cell_type": "code",
   "execution_count": 1,
   "id": "47654842-cfae-43e1-9610-eab1d856ad78",
   "metadata": {},
   "outputs": [
    {
     "name": "stdout",
     "output_type": "stream",
     "text": [
      "+---------------+----------+--------------+---------+-----------+--------+--------+-------+--------+-----+\n",
      "|immatriculation|    marque|           nom|puissance|   longueur|nbPlaces|nbPortes|couleur|occasion| prix|\n",
      "+---------------+----------+--------------+---------+-----------+--------+--------+-------+--------+-----+\n",
      "|     3176 TS 67|   Renault|   Laguna 2.0T|      170|     longue|       5|       5|  blanc|   false|27300|\n",
      "|     3721 QS 49|     Volvo|        S80 T6|      272|tr�s longue|       5|       5|   noir|   false|50500|\n",
      "|     9099 UV 26|Volkswagen|  Golf 2.0 FSI|      150|    moyenne|       5|       5|   gris|    true|16029|\n",
      "|     3563 LA 55|   Peugeot|      1007 1.4|       75|     courte|       5|       5|  blanc|    true| 9625|\n",
      "|     6963 AX 34|      Audi|        A2 1.4|       75|     courte|       5|       5|   gris|   false|18310|\n",
      "|     5592 HQ 89|     Skoda| Superb 2.8 V6|      193|tr�s longue|       5|       5|   bleu|   false|31790|\n",
      "|      674 CE 26|   Renault|Megane 2.0 16V|      135|    moyenne|       5|       5|   gris|   false|22350|\n",
      "|     1756 PR 31|  Mercedes|          A200|      136|    moyenne|       5|       5|   noir|    true|18130|\n",
      "|     6705 GX 50|       BMW|          120i|      150|    moyenne|       5|       5|   noir|    true|25060|\n",
      "|     4487 DR 75|      Saab|      9.3 1.8T|      150|     longue|       5|       5|   gris|    true|27020|\n",
      "|     7080 NW 34|    Jaguar| X-Type 2.5 V6|      197|     longue|       5|       5|  blanc|    true|25970|\n",
      "|     9626 HF 36|      Audi|        A2 1.4|       75|     courte|       5|       5|  rouge|   false|18310|\n",
      "|     2401 PA 98|     Volvo|        S80 T6|      272|tr�s longue|       5|       5|   bleu|    true|35350|\n",
      "|      826 YF 89|   Renault|   Laguna 2.0T|      170|     longue|       5|       5|  rouge|   false|27300|\n",
      "|     8216 GR 23|     Skoda| Superb 2.8 V6|      193|tr�s longue|       5|       5|   bleu|   false|31790|\n",
      "|     8076 YM 23|    Jaguar| X-Type 2.5 V6|      197|     longue|       5|       5|   noir|   false|37100|\n",
      "|     9277 JN 49|       BMW|            M5|      507|tr�s longue|       5|       5|  rouge|    true|66360|\n",
      "|     4231 HC 31|      Audi|        A2 1.4|       75|     courte|       5|       5|  rouge|   false|18310|\n",
      "|     2319 IQ 28|      Ford|    Mondeo 1.8|      125|     longue|       5|       5|   gris|   false|23900|\n",
      "|      148 RS 75|       BMW|            M5|      507|tr�s longue|       5|       5|  blanc|    true|66360|\n",
      "+---------------+----------+--------------+---------+-----------+--------+--------+-------+--------+-----+\n",
      "only showing top 20 rows\n",
      "\n"
     ]
    }
   ],
   "source": [
    "# Import SparkSession\n",
    "from pyspark.sql import SparkSession\n",
    "from pyspark.sql.functions import col, regexp_replace\n",
    "\n",
    "# Create SparkSession\n",
    "spark = SparkSession.builder \\\n",
    "    .appName(\"Read CSV Immatriculations\") \\\n",
    "    .getOrCreate()\n",
    "\n",
    "# Read CSV into DataFrame\n",
    "df = spark.read.csv(\"./data/Immatriculations.csv\", header=True, inferSchema=True)\n",
    "\n",
    "# Display DataFrame\n",
    "df.show()"
   ]
  },
  {
   "cell_type": "code",
   "execution_count": 2,
   "id": "f6ea6d10-5440-415f-ad63-78905891506b",
   "metadata": {},
   "outputs": [
    {
     "name": "stdout",
     "output_type": "stream",
     "text": [
      "+---------------+----------+--------------+---------+-----------+--------+--------+-------+--------+-----+\n",
      "|immatriculation|    marque|           nom|puissance|   longueur|nbPlaces|nbPortes|couleur|occasion| prix|\n",
      "+---------------+----------+--------------+---------+-----------+--------+--------+-------+--------+-----+\n",
      "|     3176 TS 67|   Renault|   Laguna 2.0T|      170|     longue|       5|       5|  blanc|   false|27300|\n",
      "|     3721 QS 49|     Volvo|        S80 T6|      272|tres longue|       5|       5|   noir|   false|50500|\n",
      "|     9099 UV 26|Volkswagen|  Golf 2.0 FSI|      150|    moyenne|       5|       5|   gris|    true|16029|\n",
      "|     3563 LA 55|   Peugeot|      1007 1.4|       75|     courte|       5|       5|  blanc|    true| 9625|\n",
      "|     6963 AX 34|      Audi|        A2 1.4|       75|     courte|       5|       5|   gris|   false|18310|\n",
      "|     5592 HQ 89|     Skoda| Superb 2.8 V6|      193|tres longue|       5|       5|   bleu|   false|31790|\n",
      "|      674 CE 26|   Renault|Megane 2.0 16V|      135|    moyenne|       5|       5|   gris|   false|22350|\n",
      "|     1756 PR 31|  Mercedes|          A200|      136|    moyenne|       5|       5|   noir|    true|18130|\n",
      "|     6705 GX 50|       BMW|          120i|      150|    moyenne|       5|       5|   noir|    true|25060|\n",
      "|     4487 DR 75|      Saab|      9.3 1.8T|      150|     longue|       5|       5|   gris|    true|27020|\n",
      "|     7080 NW 34|    Jaguar| X-Type 2.5 V6|      197|     longue|       5|       5|  blanc|    true|25970|\n",
      "|     9626 HF 36|      Audi|        A2 1.4|       75|     courte|       5|       5|  rouge|   false|18310|\n",
      "|     2401 PA 98|     Volvo|        S80 T6|      272|tres longue|       5|       5|   bleu|    true|35350|\n",
      "|      826 YF 89|   Renault|   Laguna 2.0T|      170|     longue|       5|       5|  rouge|   false|27300|\n",
      "|     8216 GR 23|     Skoda| Superb 2.8 V6|      193|tres longue|       5|       5|   bleu|   false|31790|\n",
      "|     8076 YM 23|    Jaguar| X-Type 2.5 V6|      197|     longue|       5|       5|   noir|   false|37100|\n",
      "|     9277 JN 49|       BMW|            M5|      507|tres longue|       5|       5|  rouge|    true|66360|\n",
      "|     4231 HC 31|      Audi|        A2 1.4|       75|     courte|       5|       5|  rouge|   false|18310|\n",
      "|     2319 IQ 28|      Ford|    Mondeo 1.8|      125|     longue|       5|       5|   gris|   false|23900|\n",
      "|      148 RS 75|       BMW|            M5|      507|tres longue|       5|       5|  blanc|    true|66360|\n",
      "+---------------+----------+--------------+---------+-----------+--------+--------+-------+--------+-----+\n",
      "only showing top 20 rows\n",
      "\n"
     ]
    }
   ],
   "source": [
    "# Define a regular expression pattern to replace é with e\n",
    "df = df.withColumn(\"longueur\", regexp_replace(col(\"longueur\"), \"�\", \"e\"))\n",
    "\n",
    "# Display the cleaned DataFrame\n",
    "df.show()"
   ]
  },
  {
   "cell_type": "code",
   "execution_count": 4,
   "id": "d1da5712-515d-4524-abcb-bb78332ff9ae",
   "metadata": {},
   "outputs": [
    {
     "name": "stdout",
     "output_type": "stream",
     "text": [
      "Cleaned DataFrame has been saved to: ./Cleaned/Immatriculations\n"
     ]
    }
   ],
   "source": [
    "# Define the path for the cleaned CSV file\n",
    "output_path = \"./Cleaned/Immatriculations\"\n",
    "\n",
    "# Save the cleaned DataFrame to a new CSV file\n",
    "df.write.csv(output_path, header=True, mode=\"overwrite\")\n",
    "\n",
    "# Display a message to confirm the save\n",
    "print(\"Cleaned DataFrame has been saved to:\", output_path)"
   ]
  },
  {
   "cell_type": "code",
   "execution_count": 5,
   "id": "0ee6091a-a412-41ac-8700-10a64a80d199",
   "metadata": {},
   "outputs": [
    {
     "name": "stdout",
     "output_type": "stream",
     "text": [
      "There are no empty values in the column: nbPortes\n"
     ]
    }
   ],
   "source": [
    "from pyspark.sql.functions import col\n",
    "\n",
    "# Define the column name you want to check for empty values\n",
    "column_name = \"nbPortes\"\n",
    "\n",
    "# Filter rows with null or empty values in the specified column\n",
    "empty_values_df = df.filter((col(column_name) == \"\") | col(column_name).isNull())\n",
    "\n",
    "# Check if there are any empty values in the specified column\n",
    "if empty_values_df.count() > 0:\n",
    "    print(\"There are empty values in the column:\", column_name)\n",
    "    # Display the rows with empty values\n",
    "    empty_values_df.show()\n",
    "else:\n",
    "    print(\"There are no empty values in the column:\", column_name)"
   ]
  },
  {
   "cell_type": "code",
   "execution_count": 43,
   "id": "e627229b-d919-4923-9020-1bcc2bedf1c1",
   "metadata": {},
   "outputs": [
    {
     "name": "stdout",
     "output_type": "stream",
     "text": [
      "There are no empty values in the column: immatriculation\n",
      "There are no empty values in the column: marque\n",
      "There are no empty values in the column: nom\n",
      "There are no empty values in the column: puissance\n",
      "There are no empty values in the column: longueur\n",
      "There are no empty values in the column: nbPlaces\n",
      "There are empty values in the column: nbPortes\n",
      "+---------------+-------+--------+---------+--------+--------+--------+-------+--------+----+\n",
      "|immatriculation| marque|     nom|puissance|longueur|nbPlaces|nbPortes|couleur|occasion|prix|\n",
      "+---------------+-------+--------+---------+--------+--------+--------+-------+--------+----+\n",
      "|     3235 YX 64|Peugeot|1007 1.4|       75|  courte|       5|    NULL|   NULL|    NULL|NULL|\n",
      "+---------------+-------+--------+---------+--------+--------+--------+-------+--------+----+\n",
      "\n",
      "There are empty values in the column: couleur\n",
      "+---------------+-------+--------+---------+--------+--------+--------+-------+--------+----+\n",
      "|immatriculation| marque|     nom|puissance|longueur|nbPlaces|nbPortes|couleur|occasion|prix|\n",
      "+---------------+-------+--------+---------+--------+--------+--------+-------+--------+----+\n",
      "|     3235 YX 64|Peugeot|1007 1.4|       75|  courte|       5|    NULL|   NULL|    NULL|NULL|\n",
      "+---------------+-------+--------+---------+--------+--------+--------+-------+--------+----+\n",
      "\n",
      "There are empty values in the column: occasion\n",
      "+---------------+-------+--------+---------+--------+--------+--------+-------+--------+----+\n",
      "|immatriculation| marque|     nom|puissance|longueur|nbPlaces|nbPortes|couleur|occasion|prix|\n",
      "+---------------+-------+--------+---------+--------+--------+--------+-------+--------+----+\n",
      "|     3235 YX 64|Peugeot|1007 1.4|       75|  courte|       5|    NULL|   NULL|    NULL|NULL|\n",
      "+---------------+-------+--------+---------+--------+--------+--------+-------+--------+----+\n",
      "\n",
      "There are empty values in the column: prix\n",
      "+---------------+-------+--------+---------+--------+--------+--------+-------+--------+----+\n",
      "|immatriculation| marque|     nom|puissance|longueur|nbPlaces|nbPortes|couleur|occasion|prix|\n",
      "+---------------+-------+--------+---------+--------+--------+--------+-------+--------+----+\n",
      "|     3235 YX 64|Peugeot|1007 1.4|       75|  courte|       5|    NULL|   NULL|    NULL|NULL|\n",
      "+---------------+-------+--------+---------+--------+--------+--------+-------+--------+----+\n",
      "\n"
     ]
    }
   ],
   "source": [
    "from pyspark.sql.functions import col\n",
    "\n",
    "# Iterate over each column\n",
    "for column_name in df.columns:\n",
    "    # Filter rows with null or empty values in the column\n",
    "    empty_values_df = df.filter((col(column_name) == \"\") | col(column_name).isNull())\n",
    "    \n",
    "    # Check if there are any empty values in the column\n",
    "    if empty_values_df.count() > 0:\n",
    "        print(\"There are empty values in the column:\", column_name)\n",
    "        # Display the rows with empty values\n",
    "        empty_values_df.show()\n",
    "    else:\n",
    "        print(\"There are no empty values in the column:\", column_name)\n"
   ]
  },
  {
   "cell_type": "code",
   "execution_count": 44,
   "id": "d4895686-b429-4f7f-b2bd-3093f7fa659c",
   "metadata": {},
   "outputs": [
    {
     "name": "stdout",
     "output_type": "stream",
     "text": [
      "+---------------+----------+--------------+---------+-----------+--------+--------+-------+--------+-----+\n",
      "|immatriculation|    marque|           nom|puissance|   longueur|nbPlaces|nbPortes|couleur|occasion| prix|\n",
      "+---------------+----------+--------------+---------+-----------+--------+--------+-------+--------+-----+\n",
      "|     3176 TS 67|   Renault|   Laguna 2.0T|      170|     longue|       5|       5|  blanc|   false|27300|\n",
      "|     3721 QS 49|     Volvo|        S80 T6|      272|tres longue|       5|       5|   noir|   false|50500|\n",
      "|     9099 UV 26|Volkswagen|  Golf 2.0 FSI|      150|    moyenne|       5|       5|   gris|    true|16029|\n",
      "|     3563 LA 55|   Peugeot|      1007 1.4|       75|     courte|       5|       5|  blanc|    true| 9625|\n",
      "|     6963 AX 34|      Audi|        A2 1.4|       75|     courte|       5|       5|   gris|   false|18310|\n",
      "|     5592 HQ 89|     Skoda| Superb 2.8 V6|      193|tres longue|       5|       5|   bleu|   false|31790|\n",
      "|      674 CE 26|   Renault|Megane 2.0 16V|      135|    moyenne|       5|       5|   gris|   false|22350|\n",
      "|     1756 PR 31|  Mercedes|          A200|      136|    moyenne|       5|       5|   noir|    true|18130|\n",
      "|     6705 GX 50|       BMW|          120i|      150|    moyenne|       5|       5|   noir|    true|25060|\n",
      "|     4487 DR 75|      Saab|      9.3 1.8T|      150|     longue|       5|       5|   gris|    true|27020|\n",
      "|     7080 NW 34|    Jaguar| X-Type 2.5 V6|      197|     longue|       5|       5|  blanc|    true|25970|\n",
      "|     9626 HF 36|      Audi|        A2 1.4|       75|     courte|       5|       5|  rouge|   false|18310|\n",
      "|     2401 PA 98|     Volvo|        S80 T6|      272|tres longue|       5|       5|   bleu|    true|35350|\n",
      "|      826 YF 89|   Renault|   Laguna 2.0T|      170|     longue|       5|       5|  rouge|   false|27300|\n",
      "|     8216 GR 23|     Skoda| Superb 2.8 V6|      193|tres longue|       5|       5|   bleu|   false|31790|\n",
      "|     8076 YM 23|    Jaguar| X-Type 2.5 V6|      197|     longue|       5|       5|   noir|   false|37100|\n",
      "|     9277 JN 49|       BMW|            M5|      507|tres longue|       5|       5|  rouge|    true|66360|\n",
      "|     4231 HC 31|      Audi|        A2 1.4|       75|     courte|       5|       5|  rouge|   false|18310|\n",
      "|     2319 IQ 28|      Ford|    Mondeo 1.8|      125|     longue|       5|       5|   gris|   false|23900|\n",
      "|      148 RS 75|       BMW|            M5|      507|tres longue|       5|       5|  blanc|    true|66360|\n",
      "+---------------+----------+--------------+---------+-----------+--------+--------+-------+--------+-----+\n",
      "only showing top 20 rows\n",
      "\n"
     ]
    }
   ],
   "source": [
    "df.show()"
   ]
  },
  {
   "cell_type": "code",
   "execution_count": 6,
   "id": "81dc64aa-62ea-4577-b3c7-9d73da180a4c",
   "metadata": {},
   "outputs": [
    {
     "name": "stdout",
     "output_type": "stream",
     "text": [
      "There are no empty values in the column: immatriculation\n",
      "There are no empty values in the column: marque\n",
      "There are no empty values in the column: nom\n",
      "There are no empty values in the column: puissance\n",
      "There are no empty values in the column: longueur\n",
      "There are no empty values in the column: nbPlaces\n",
      "There are no empty values in the column: nbPortes\n",
      "There are no empty values in the column: couleur\n",
      "There are no empty values in the column: occasion\n",
      "There are no empty values in the column: prix\n"
     ]
    }
   ],
   "source": [
    "from pyspark.sql.functions import col\n",
    "\n",
    "# Iterate over each column\n",
    "for column_name in df.columns:\n",
    "    # Filter rows with null or empty values in the column\n",
    "    empty_values_df = df.filter((col(column_name) == \"\") | col(column_name).isNull())\n",
    "    \n",
    "    # Check if there are any empty values in the column\n",
    "    if empty_values_df.count() > 0:\n",
    "        print(\"There are empty values in the column:\", column_name)\n",
    "        # Display the rows with empty values\n",
    "        empty_values_df.show()\n",
    "    else:\n",
    "        print(\"There are no empty values in the column:\", column_name)"
   ]
  },
  {
   "cell_type": "code",
   "execution_count": 5,
   "id": "1ccbbeba-e1bb-4059-9240-04bd4b409291",
   "metadata": {},
   "outputs": [
    {
     "name": "stdout",
     "output_type": "stream",
     "text": [
      "Nombre de lignes avec des valeurs nulles dans la colonne immatriculation : 0\n",
      "Nombre de lignes avec des valeurs nulles dans la colonne marque : 0\n",
      "Nombre de lignes avec des valeurs nulles dans la colonne nom : 0\n",
      "Nombre de lignes avec des valeurs nulles dans la colonne puissance : 0\n",
      "Nombre de lignes avec des valeurs nulles dans la colonne longueur : 0\n",
      "Nombre de lignes avec des valeurs nulles dans la colonne nbPlaces : 0\n",
      "Nombre de lignes avec des valeurs nulles dans la colonne nbPortes : 0\n",
      "Nombre de lignes avec des valeurs nulles dans la colonne couleur : 0\n",
      "Nombre de lignes avec des valeurs nulles dans la colonne occasion : 0\n",
      "Nombre de lignes avec des valeurs nulles dans la colonne prix : 0\n",
      "Nombre total de lignes avec des valeurs nulles dans le DataFrame : 0\n"
     ]
    }
   ],
   "source": [
    "from pyspark.sql import SparkSession\n",
    "from pyspark.sql.functions import col\n",
    "\n",
    "# Créer la session Spark\n",
    "spark = SparkSession.builder \\\n",
    "    .appName(\"Count Null Rows\") \\\n",
    "    .getOrCreate()\n",
    "\n",
    "\n",
    "\n",
    "# Initialiser le compteur\n",
    "total_null_rows = 0\n",
    "\n",
    "# Parcourir toutes les colonnes du DataFrame\n",
    "for col_name in df.columns:\n",
    "    # Compter le nombre de lignes avec des valeurs nulles dans cette colonne\n",
    "    null_rows_count = df.filter(df[col_name].isNull()).count()\n",
    "    # Ajouter au compteur total\n",
    "    total_null_rows += null_rows_count\n",
    "    # Afficher le nombre de lignes avec des valeurs nulles dans cette colonne\n",
    "    print(\"Nombre de lignes avec des valeurs nulles dans la colonne\", col_name, \":\", null_rows_count)\n",
    "\n",
    "# Afficher le nombre total de lignes avec des valeurs nulles dans le DataFrame\n",
    "print(\"Nombre total de lignes avec des valeurs nulles dans le DataFrame :\", total_null_rows)\n"
   ]
  },
  {
   "cell_type": "code",
   "execution_count": 7,
   "id": "b6ca0b23-27ed-4d19-b48c-57e5ed78bd27",
   "metadata": {},
   "outputs": [
    {
     "name": "stdout",
     "output_type": "stream",
     "text": [
      "DataFrame après remplacement des valeurs nulles :\n",
      "+---------------+----------+--------------+---------+-----------+--------+--------+-------+--------+-----+\n",
      "|immatriculation|    marque|           nom|puissance|   longueur|nbPlaces|nbPortes|couleur|occasion| prix|\n",
      "+---------------+----------+--------------+---------+-----------+--------+--------+-------+--------+-----+\n",
      "|     3176 TS 67|   Renault|   Laguna 2.0T|      170|     longue|       5|       5|  blanc|   false|27300|\n",
      "|     3721 QS 49|     Volvo|        S80 T6|      272|tres longue|       5|       5|   noir|   false|50500|\n",
      "|     9099 UV 26|Volkswagen|  Golf 2.0 FSI|      150|    moyenne|       5|       5|   gris|    true|16029|\n",
      "|     3563 LA 55|   Peugeot|      1007 1.4|       75|     courte|       5|       5|  blanc|    true| 9625|\n",
      "|     6963 AX 34|      Audi|        A2 1.4|       75|     courte|       5|       5|   gris|   false|18310|\n",
      "|     5592 HQ 89|     Skoda| Superb 2.8 V6|      193|tres longue|       5|       5|   bleu|   false|31790|\n",
      "|      674 CE 26|   Renault|Megane 2.0 16V|      135|    moyenne|       5|       5|   gris|   false|22350|\n",
      "|     1756 PR 31|  Mercedes|          A200|      136|    moyenne|       5|       5|   noir|    true|18130|\n",
      "|     6705 GX 50|       BMW|          120i|      150|    moyenne|       5|       5|   noir|    true|25060|\n",
      "|     4487 DR 75|      Saab|      9.3 1.8T|      150|     longue|       5|       5|   gris|    true|27020|\n",
      "|     7080 NW 34|    Jaguar| X-Type 2.5 V6|      197|     longue|       5|       5|  blanc|    true|25970|\n",
      "|     9626 HF 36|      Audi|        A2 1.4|       75|     courte|       5|       5|  rouge|   false|18310|\n",
      "|     2401 PA 98|     Volvo|        S80 T6|      272|tres longue|       5|       5|   bleu|    true|35350|\n",
      "|      826 YF 89|   Renault|   Laguna 2.0T|      170|     longue|       5|       5|  rouge|   false|27300|\n",
      "|     8216 GR 23|     Skoda| Superb 2.8 V6|      193|tres longue|       5|       5|   bleu|   false|31790|\n",
      "|     8076 YM 23|    Jaguar| X-Type 2.5 V6|      197|     longue|       5|       5|   noir|   false|37100|\n",
      "|     9277 JN 49|       BMW|            M5|      507|tres longue|       5|       5|  rouge|    true|66360|\n",
      "|     4231 HC 31|      Audi|        A2 1.4|       75|     courte|       5|       5|  rouge|   false|18310|\n",
      "|     2319 IQ 28|      Ford|    Mondeo 1.8|      125|     longue|       5|       5|   gris|   false|23900|\n",
      "|      148 RS 75|       BMW|            M5|      507|tres longue|       5|       5|  blanc|    true|66360|\n",
      "+---------------+----------+--------------+---------+-----------+--------+--------+-------+--------+-----+\n",
      "only showing top 20 rows\n",
      "\n"
     ]
    }
   ],
   "source": [
    "# Remplacer les valeurs nulles dans la colonne 'immatriculation' par '3467 SB 72|'\n",
    "df = df.fillna({'nbPortes': '5'})\n",
    "\n",
    "# Afficher le DataFrame après remplacement\n",
    "print(\"DataFrame après remplacement des valeurs nulles :\")\n",
    "df.show()"
   ]
  },
  {
   "cell_type": "code",
   "execution_count": 7,
   "id": "0bfb3481-0075-4c93-91e3-1a373c04d02e",
   "metadata": {},
   "outputs": [
    {
     "name": "stdout",
     "output_type": "stream",
     "text": [
      "DataFrame après remplacement des valeurs nulles :\n",
      "+---------------+----------+--------------+---------+-----------+--------+--------+-------+--------+-----+\n",
      "|immatriculation|    marque|           nom|puissance|   longueur|nbPlaces|nbPortes|couleur|occasion| prix|\n",
      "+---------------+----------+--------------+---------+-----------+--------+--------+-------+--------+-----+\n",
      "|     3176 TS 67|   Renault|   Laguna 2.0T|      170|     longue|       5|       5|  blanc|   false|27300|\n",
      "|     3721 QS 49|     Volvo|        S80 T6|      272|tres longue|       5|       5|   noir|   false|50500|\n",
      "|     9099 UV 26|Volkswagen|  Golf 2.0 FSI|      150|    moyenne|       5|       5|   gris|    true|16029|\n",
      "|     3563 LA 55|   Peugeot|      1007 1.4|       75|     courte|       5|       5|  blanc|    true| 9625|\n",
      "|     6963 AX 34|      Audi|        A2 1.4|       75|     courte|       5|       5|   gris|   false|18310|\n",
      "|     5592 HQ 89|     Skoda| Superb 2.8 V6|      193|tres longue|       5|       5|   bleu|   false|31790|\n",
      "|      674 CE 26|   Renault|Megane 2.0 16V|      135|    moyenne|       5|       5|   gris|   false|22350|\n",
      "|     1756 PR 31|  Mercedes|          A200|      136|    moyenne|       5|       5|   noir|    true|18130|\n",
      "|     6705 GX 50|       BMW|          120i|      150|    moyenne|       5|       5|   noir|    true|25060|\n",
      "|     4487 DR 75|      Saab|      9.3 1.8T|      150|     longue|       5|       5|   gris|    true|27020|\n",
      "|     7080 NW 34|    Jaguar| X-Type 2.5 V6|      197|     longue|       5|       5|  blanc|    true|25970|\n",
      "|     9626 HF 36|      Audi|        A2 1.4|       75|     courte|       5|       5|  rouge|   false|18310|\n",
      "|     2401 PA 98|     Volvo|        S80 T6|      272|tres longue|       5|       5|   bleu|    true|35350|\n",
      "|      826 YF 89|   Renault|   Laguna 2.0T|      170|     longue|       5|       5|  rouge|   false|27300|\n",
      "|     8216 GR 23|     Skoda| Superb 2.8 V6|      193|tres longue|       5|       5|   bleu|   false|31790|\n",
      "|     8076 YM 23|    Jaguar| X-Type 2.5 V6|      197|     longue|       5|       5|   noir|   false|37100|\n",
      "|     9277 JN 49|       BMW|            M5|      507|tres longue|       5|       5|  rouge|    true|66360|\n",
      "|     4231 HC 31|      Audi|        A2 1.4|       75|     courte|       5|       5|  rouge|   false|18310|\n",
      "|     2319 IQ 28|      Ford|    Mondeo 1.8|      125|     longue|       5|       5|   gris|   false|23900|\n",
      "|      148 RS 75|       BMW|            M5|      507|tres longue|       5|       5|  blanc|    true|66360|\n",
      "+---------------+----------+--------------+---------+-----------+--------+--------+-------+--------+-----+\n",
      "only showing top 20 rows\n",
      "\n"
     ]
    }
   ],
   "source": [
    "# Remplacer les valeurs nulles dans la colonne 'immatriculation' par '3467 SB 72|'\n",
    "df = df.fillna({'couleur': 'blanc'})\n",
    "\n",
    "# Afficher le DataFrame après remplacement\n",
    "print(\"DataFrame après remplacement des valeurs nulles :\")\n",
    "df.show()"
   ]
  },
  {
   "cell_type": "code",
   "execution_count": 8,
   "id": "383a98d4-a65b-4f05-a0f6-0bbb510d6300",
   "metadata": {},
   "outputs": [
    {
     "name": "stdout",
     "output_type": "stream",
     "text": [
      "DataFrame après remplacement des valeurs nulles :\n",
      "+---------------+----------+--------------+---------+-----------+--------+--------+-------+--------+-----+\n",
      "|immatriculation|    marque|           nom|puissance|   longueur|nbPlaces|nbPortes|couleur|occasion| prix|\n",
      "+---------------+----------+--------------+---------+-----------+--------+--------+-------+--------+-----+\n",
      "|     3176 TS 67|   Renault|   Laguna 2.0T|      170|     longue|       5|       5|  blanc|   false|27300|\n",
      "|     3721 QS 49|     Volvo|        S80 T6|      272|tres longue|       5|       5|   noir|   false|50500|\n",
      "|     9099 UV 26|Volkswagen|  Golf 2.0 FSI|      150|    moyenne|       5|       5|   gris|    true|16029|\n",
      "|     3563 LA 55|   Peugeot|      1007 1.4|       75|     courte|       5|       5|  blanc|    true| 9625|\n",
      "|     6963 AX 34|      Audi|        A2 1.4|       75|     courte|       5|       5|   gris|   false|18310|\n",
      "|     5592 HQ 89|     Skoda| Superb 2.8 V6|      193|tres longue|       5|       5|   bleu|   false|31790|\n",
      "|      674 CE 26|   Renault|Megane 2.0 16V|      135|    moyenne|       5|       5|   gris|   false|22350|\n",
      "|     1756 PR 31|  Mercedes|          A200|      136|    moyenne|       5|       5|   noir|    true|18130|\n",
      "|     6705 GX 50|       BMW|          120i|      150|    moyenne|       5|       5|   noir|    true|25060|\n",
      "|     4487 DR 75|      Saab|      9.3 1.8T|      150|     longue|       5|       5|   gris|    true|27020|\n",
      "|     7080 NW 34|    Jaguar| X-Type 2.5 V6|      197|     longue|       5|       5|  blanc|    true|25970|\n",
      "|     9626 HF 36|      Audi|        A2 1.4|       75|     courte|       5|       5|  rouge|   false|18310|\n",
      "|     2401 PA 98|     Volvo|        S80 T6|      272|tres longue|       5|       5|   bleu|    true|35350|\n",
      "|      826 YF 89|   Renault|   Laguna 2.0T|      170|     longue|       5|       5|  rouge|   false|27300|\n",
      "|     8216 GR 23|     Skoda| Superb 2.8 V6|      193|tres longue|       5|       5|   bleu|   false|31790|\n",
      "|     8076 YM 23|    Jaguar| X-Type 2.5 V6|      197|     longue|       5|       5|   noir|   false|37100|\n",
      "|     9277 JN 49|       BMW|            M5|      507|tres longue|       5|       5|  rouge|    true|66360|\n",
      "|     4231 HC 31|      Audi|        A2 1.4|       75|     courte|       5|       5|  rouge|   false|18310|\n",
      "|     2319 IQ 28|      Ford|    Mondeo 1.8|      125|     longue|       5|       5|   gris|   false|23900|\n",
      "|      148 RS 75|       BMW|            M5|      507|tres longue|       5|       5|  blanc|    true|66360|\n",
      "+---------------+----------+--------------+---------+-----------+--------+--------+-------+--------+-----+\n",
      "only showing top 20 rows\n",
      "\n"
     ]
    }
   ],
   "source": [
    "# Remplacer les valeurs nulles dans la colonne 'immatriculation' par '3467 SB 72|'\n",
    "df = df.fillna({'occasion': 'false'})\n",
    "\n",
    "# Afficher le DataFrame après remplacement\n",
    "print(\"DataFrame après remplacement des valeurs nulles :\")\n",
    "df.show()"
   ]
  },
  {
   "cell_type": "code",
   "execution_count": 9,
   "id": "cc016432-8c53-42f3-8308-f32282d2d03d",
   "metadata": {},
   "outputs": [
    {
     "name": "stdout",
     "output_type": "stream",
     "text": [
      "DataFrame après remplacement des valeurs nulles :\n",
      "+---------------+----------+--------------+---------+-----------+--------+--------+-------+--------+-----+\n",
      "|immatriculation|    marque|           nom|puissance|   longueur|nbPlaces|nbPortes|couleur|occasion| prix|\n",
      "+---------------+----------+--------------+---------+-----------+--------+--------+-------+--------+-----+\n",
      "|     3176 TS 67|   Renault|   Laguna 2.0T|      170|     longue|       5|       5|  blanc|   false|27300|\n",
      "|     3721 QS 49|     Volvo|        S80 T6|      272|tres longue|       5|       5|   noir|   false|50500|\n",
      "|     9099 UV 26|Volkswagen|  Golf 2.0 FSI|      150|    moyenne|       5|       5|   gris|    true|16029|\n",
      "|     3563 LA 55|   Peugeot|      1007 1.4|       75|     courte|       5|       5|  blanc|    true| 9625|\n",
      "|     6963 AX 34|      Audi|        A2 1.4|       75|     courte|       5|       5|   gris|   false|18310|\n",
      "|     5592 HQ 89|     Skoda| Superb 2.8 V6|      193|tres longue|       5|       5|   bleu|   false|31790|\n",
      "|      674 CE 26|   Renault|Megane 2.0 16V|      135|    moyenne|       5|       5|   gris|   false|22350|\n",
      "|     1756 PR 31|  Mercedes|          A200|      136|    moyenne|       5|       5|   noir|    true|18130|\n",
      "|     6705 GX 50|       BMW|          120i|      150|    moyenne|       5|       5|   noir|    true|25060|\n",
      "|     4487 DR 75|      Saab|      9.3 1.8T|      150|     longue|       5|       5|   gris|    true|27020|\n",
      "|     7080 NW 34|    Jaguar| X-Type 2.5 V6|      197|     longue|       5|       5|  blanc|    true|25970|\n",
      "|     9626 HF 36|      Audi|        A2 1.4|       75|     courte|       5|       5|  rouge|   false|18310|\n",
      "|     2401 PA 98|     Volvo|        S80 T6|      272|tres longue|       5|       5|   bleu|    true|35350|\n",
      "|      826 YF 89|   Renault|   Laguna 2.0T|      170|     longue|       5|       5|  rouge|   false|27300|\n",
      "|     8216 GR 23|     Skoda| Superb 2.8 V6|      193|tres longue|       5|       5|   bleu|   false|31790|\n",
      "|     8076 YM 23|    Jaguar| X-Type 2.5 V6|      197|     longue|       5|       5|   noir|   false|37100|\n",
      "|     9277 JN 49|       BMW|            M5|      507|tres longue|       5|       5|  rouge|    true|66360|\n",
      "|     4231 HC 31|      Audi|        A2 1.4|       75|     courte|       5|       5|  rouge|   false|18310|\n",
      "|     2319 IQ 28|      Ford|    Mondeo 1.8|      125|     longue|       5|       5|   gris|   false|23900|\n",
      "|      148 RS 75|       BMW|            M5|      507|tres longue|       5|       5|  blanc|    true|66360|\n",
      "+---------------+----------+--------------+---------+-----------+--------+--------+-------+--------+-----+\n",
      "only showing top 20 rows\n",
      "\n"
     ]
    }
   ],
   "source": [
    "# Remplacer les valeurs nulles dans la colonne 'immatriculation' par '3467 SB 72|'\n",
    "df = df.fillna({'prix': '27300'})\n",
    "\n",
    "# Afficher le DataFrame après remplacement\n",
    "print(\"DataFrame après remplacement des valeurs nulles :\")\n",
    "df.show()"
   ]
  },
  {
   "cell_type": "code",
   "execution_count": 10,
   "id": "a9f36204-d48e-429d-b6cc-9d1ec16d8904",
   "metadata": {},
   "outputs": [
    {
     "name": "stdout",
     "output_type": "stream",
     "text": [
      "Nombre de lignes avec des valeurs nulles dans la colonne immatriculation : 0\n",
      "Nombre de lignes avec des valeurs nulles dans la colonne marque : 0\n",
      "Nombre de lignes avec des valeurs nulles dans la colonne nom : 0\n",
      "Nombre de lignes avec des valeurs nulles dans la colonne puissance : 0\n",
      "Nombre de lignes avec des valeurs nulles dans la colonne longueur : 0\n",
      "Nombre de lignes avec des valeurs nulles dans la colonne nbPlaces : 0\n",
      "Nombre de lignes avec des valeurs nulles dans la colonne nbPortes : 0\n",
      "Nombre de lignes avec des valeurs nulles dans la colonne couleur : 0\n",
      "Nombre de lignes avec des valeurs nulles dans la colonne occasion : 0\n",
      "Nombre de lignes avec des valeurs nulles dans la colonne prix : 0\n",
      "Nombre total de lignes avec des valeurs nulles dans le DataFrame : 0\n"
     ]
    }
   ],
   "source": [
    "from pyspark.sql import SparkSession\n",
    "from pyspark.sql.functions import col\n",
    "\n",
    "# Créer la session Spark\n",
    "spark = SparkSession.builder \\\n",
    "    .appName(\"Count Null Rows\") \\\n",
    "    .getOrCreate()\n",
    "\n",
    "\n",
    "\n",
    "# Initialiser le compteur\n",
    "total_null_rows = 0\n",
    "\n",
    "# Parcourir toutes les colonnes du DataFrame\n",
    "for col_name in df.columns:\n",
    "    # Compter le nombre de lignes avec des valeurs nulles dans cette colonne\n",
    "    null_rows_count = df.filter(df[col_name].isNull()).count()\n",
    "    # Ajouter au compteur total\n",
    "    total_null_rows += null_rows_count\n",
    "    # Afficher le nombre de lignes avec des valeurs nulles dans cette colonne\n",
    "    print(\"Nombre de lignes avec des valeurs nulles dans la colonne\", col_name, \":\", null_rows_count)\n",
    "\n",
    "# Afficher le nombre total de lignes avec des valeurs nulles dans le DataFrame\n",
    "print(\"Nombre total de lignes avec des valeurs nulles dans le DataFrame :\", total_null_rows)\n"
   ]
  },
  {
   "cell_type": "code",
   "execution_count": 12,
   "id": "a9dfc874-5cfb-427f-848f-ce7face70ba5",
   "metadata": {},
   "outputs": [
    {
     "name": "stdout",
     "output_type": "stream",
     "text": [
      "Cleaned DataFrame has been saved to: ./Cleaned/Immatriculations\n"
     ]
    }
   ],
   "source": [
    "# Define the path for the cleaned CSV file\n",
    "output_path = \"./Cleaned/Immatriculations\"\n",
    "\n",
    "# Save the cleaned DataFrame to a new CSV file\n",
    "df.write.csv(output_path, header=True, mode=\"overwrite\")\n",
    "\n",
    "# Display a message to confirm the save\n",
    "print(\"Cleaned DataFrame has been saved to:\", output_path)"
   ]
  },
  {
   "cell_type": "code",
   "execution_count": null,
   "id": "db4a8c3f-814f-4bf8-ad8d-71f3972dee52",
   "metadata": {},
   "outputs": [],
   "source": []
  }
 ],
 "metadata": {
  "kernelspec": {
   "display_name": "Python 3 (ipykernel)",
   "language": "python",
   "name": "python3"
  },
  "language_info": {
   "codemirror_mode": {
    "name": "ipython",
    "version": 3
   },
   "file_extension": ".py",
   "mimetype": "text/x-python",
   "name": "python",
   "nbconvert_exporter": "python",
   "pygments_lexer": "ipython3",
   "version": "3.11.6"
  }
 },
 "nbformat": 4,
 "nbformat_minor": 5
}
