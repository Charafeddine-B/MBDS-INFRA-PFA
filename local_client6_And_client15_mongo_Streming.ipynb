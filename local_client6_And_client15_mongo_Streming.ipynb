{
 "cells": [
  {
   "cell_type": "code",
   "execution_count": 11,
   "id": "4e8b62aa-3251-47c8-b95e-a305e2021997",
   "metadata": {},
   "outputs": [
    {
     "name": "stdout",
     "output_type": "stream",
     "text": [
      "Collecting pymongo\n",
      "  Downloading pymongo-4.7.0-cp311-cp311-manylinux_2_17_x86_64.manylinux2014_x86_64.whl.metadata (22 kB)\n",
      "Collecting dnspython<3.0.0,>=1.16.0 (from pymongo)\n",
      "  Downloading dnspython-2.6.1-py3-none-any.whl.metadata (5.8 kB)\n",
      "Downloading pymongo-4.7.0-cp311-cp311-manylinux_2_17_x86_64.manylinux2014_x86_64.whl (672 kB)\n",
      "\u001b[2K   \u001b[90m━━━━━━━━━━━━━━━━━━━━━━━━━━━━━━━━━━━━━━━━\u001b[0m \u001b[32m672.1/672.1 kB\u001b[0m \u001b[31m34.5 MB/s\u001b[0m eta \u001b[36m0:00:00\u001b[0m\n",
      "\u001b[?25hDownloading dnspython-2.6.1-py3-none-any.whl (307 kB)\n",
      "\u001b[2K   \u001b[90m━━━━━━━━━━━━━━━━━━━━━━━━━━━━━━━━━━━━━━━━\u001b[0m \u001b[32m307.7/307.7 kB\u001b[0m \u001b[31m30.0 MB/s\u001b[0m eta \u001b[36m0:00:00\u001b[0m\n",
      "\u001b[?25hInstalling collected packages: dnspython, pymongo\n",
      "Successfully installed dnspython-2.6.1 pymongo-4.7.0\n"
     ]
    }
   ],
   "source": [
    "!pip install pymongo"
   ]
  },
  {
   "cell_type": "code",
   "execution_count": null,
   "id": "1f6ae8c3-d502-4c37-bbbc-dc7b1f50f8c5",
   "metadata": {},
   "outputs": [],
   "source": [
    "from pymongo import MongoClient\n",
    "\n",
    "# Define MongoDB connection parameters\n",
    "mongo_host = '172.19.0.7'\n",
    "mongo_port = 27017\n",
    "mongo_db = 'testos'\n",
    "mongo_collection = 'user'\n",
    "\n",
    "# Connect to MongoDB\n",
    "client = MongoClient(mongo_host, mongo_port)\n",
    "\n",
    "# Access the specified database\n",
    "db = client[mongo_db]\n",
    "\n",
    "# Access the specified collection\n",
    "collection = db[mongo_collection]\n",
    "\n",
    "# Example: Insert a document into the collection\n",
    "data = {'name': 'John', 'age': 30, 'city': 'New York'}\n",
    "collection.insert_one(data)\n",
    "\n",
    "# Example: Query documents from the collection\n",
    "cursor = collection.find({'name': 'John'})\n",
    "for document in cursor:\n",
    "    print(document)\n",
    "\n",
    "# Close the MongoDB connection\n",
    "client.close()\n"
   ]
  },
  {
   "cell_type": "code",
   "execution_count": 12,
   "id": "de5b0d0c-193a-432c-a788-ba58abef8330",
   "metadata": {},
   "outputs": [],
   "source": [
    "# Import package\n",
    "import pymongo\n",
    "\n",
    "# Make connection\n",
    "client = pymongo.MongoClient(\"mongodb://127.0.0.1:27017/\")"
   ]
  },
  {
   "cell_type": "code",
   "execution_count": 13,
   "id": "fbd64bff-11da-4f62-8de1-0aaad24f8e42",
   "metadata": {},
   "outputs": [],
   "source": [
    "import pyspark\n",
    "from pyspark import SparkContext\n",
    "from pyspark.sql import SparkSession\n",
    "from pyspark.sql import SQLContext"
   ]
  },
  {
   "cell_type": "code",
   "execution_count": 14,
   "id": "3353f1d5-4dbe-4917-9f89-a196b20cfe34",
   "metadata": {},
   "outputs": [],
   "source": [
    "# MongoDB Details\n",
    "mongo_ip = \"mongodb://127.0.0.1:27017/testos.\""
   ]
  },
  {
   "cell_type": "code",
   "execution_count": 18,
   "id": "24416ebf-c099-4142-b42d-9959739dab0d",
   "metadata": {},
   "outputs": [],
   "source": [
    "# First Load all the required library and also Start Spark Session\n",
    "# Load all the required library\n",
    "from pyspark.sql import SparkSession"
   ]
  },
  {
   "cell_type": "code",
   "execution_count": 32,
   "id": "a5e388dd-2f0a-4ec4-92a6-2bc12cb6e7f0",
   "metadata": {},
   "outputs": [],
   "source": [
    "#Start Spark Session\n",
    "spark = SparkSession.builder.appName(\"chapter2\")\\\n",
    "        .config('spark.jars.packages', 'org.mongodb.spark:mongo-spark-connector_2.11:2.0')\\\n",
    "        .config('spark.driver.extraClassPath', working_directory) \\\n",
    "        .getOrCreate()\n",
    "sqlContext = SparkSession(spark)\n",
    "#Dont Show warning only error\n",
    "spark.sparkContext.setLogLevel(\"ERROR\")"
   ]
  },
  {
   "cell_type": "code",
   "execution_count": 3,
   "id": "6d9f3830-6b5a-4d76-93a3-0aed47d0aff1",
   "metadata": {},
   "outputs": [],
   "source": [
    "# Import necessary libraries\n",
    "from pyspark.sql import SparkSession\n",
    "from pymongo import MongoClient\n",
    "import json\n",
    "\n",
    "# Define MongoDB connection parameters\n",
    "mongo_host = '172.20.0.10'\n",
    "mongo_port = 27017\n",
    "mongo_db = 'Clients'\n",
    "mongo_collection = 'Client15'\n",
    "\n",
    "# Initialize SparkSession\n",
    "spark = SparkSession.builder \\\n",
    "    .appName(\"CSV to MongoDB\") \\\n",
    "    .getOrCreate()\n",
    "\n",
    "# Load CSV file into DataFrame\n",
    "df = spark.read.csv(\"./Cleaned/Client_15/part-00000-c99b9093-b3b3-4677-bb30-c584a9c12576-c000.csv\", header=True, inferSchema=True)\n",
    "\n",
    "# Convert DataFrame to RDD of dictionaries\n",
    "rdd = df.rdd.map(lambda row: row.asDict())\n",
    "\n",
    "# Connect to MongoDB\n",
    "client = MongoClient(mongo_host, mongo_port)\n",
    "db = client[mongo_db]\n",
    "collection = db[mongo_collection]\n",
    "\n",
    "# Stream data to MongoDB\n",
    "for doc in rdd.collect():\n",
    "    collection.insert_one(doc)\n",
    "\n",
    "# Close the MongoDB connection\n",
    "client.close()\n",
    "\n",
    "# Stop SparkSession\n",
    "spark.stop()\n"
   ]
  },
  {
   "cell_type": "code",
   "execution_count": 2,
   "id": "7155d736-00e5-46e0-a281-901197615d9d",
   "metadata": {},
   "outputs": [],
   "source": [
    "# Import necessary libraries\n",
    "from pyspark.sql import SparkSession\n",
    "from pymongo import MongoClient\n",
    "import json\n",
    "\n",
    "# Define MongoDB connection parameters\n",
    "mongo_host = '172.20.0.10'\n",
    "mongo_port = 27017\n",
    "mongo_db = 'Clients'\n",
    "mongo_collection = 'Client6'\n",
    "\n",
    "# Initialize SparkSession\n",
    "spark = SparkSession.builder \\\n",
    "    .appName(\"CSV to MongoDB\") \\\n",
    "    .getOrCreate()\n",
    "\n",
    "# Load CSV file into DataFrame\n",
    "df = spark.read.csv(\"./Cleaned/Client6/part-00000-683cc5a9-b804-45be-920d-225d7d348275-c000.csv\", header=True, inferSchema=True)\n",
    "\n",
    "# Convert DataFrame to RDD of dictionaries\n",
    "rdd = df.rdd.map(lambda row: row.asDict())\n",
    "\n",
    "# Connect to MongoDB\n",
    "client = MongoClient(mongo_host, mongo_port)\n",
    "db = client[mongo_db]\n",
    "collection = db[mongo_collection]\n",
    "\n",
    "# Stream data to MongoDB\n",
    "for doc in rdd.collect():\n",
    "    collection.insert_one(doc)\n",
    "\n",
    "# Close the MongoDB connection\n",
    "client.close()\n",
    "\n",
    "# Stop SparkSession\n",
    "spark.stop()\n"
   ]
  },
  {
   "cell_type": "code",
   "execution_count": null,
   "id": "d5ce2553-17ec-4808-a204-92ab47fb67ef",
   "metadata": {},
   "outputs": [],
   "source": []
  }
 ],
 "metadata": {
  "kernelspec": {
   "display_name": "Python 3 (ipykernel)",
   "language": "python",
   "name": "python3"
  },
  "language_info": {
   "codemirror_mode": {
    "name": "ipython",
    "version": 3
   },
   "file_extension": ".py",
   "mimetype": "text/x-python",
   "name": "python",
   "nbconvert_exporter": "python",
   "pygments_lexer": "ipython3",
   "version": "3.11.6"
  }
 },
 "nbformat": 4,
 "nbformat_minor": 5
}
