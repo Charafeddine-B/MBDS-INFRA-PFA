{
 "cells": [
  {
   "cell_type": "code",
   "execution_count": 6,
   "id": "df7aa422-e564-42e9-9179-89810f6a81f9",
   "metadata": {},
   "outputs": [
    {
     "name": "stdout",
     "output_type": "stream",
     "text": [
      "+---+-----+----+------------------+----------------+------------+---------------+\n",
      "|age| sexe|taux|situationFamiliale|nbEnfantsAcharge|2eme voiture|immatriculation|\n",
      "+---+-----+----+------------------+----------------+------------+---------------+\n",
      "| 40|    F| 513|         En Couple|               2|       false|     8638 TQ 28|\n",
      "| 47|    M| 546|       C�libataire|               0|       false|     1673 XO 64|\n",
      "| 27|Homme| 505|         En Couple|               0|       false|     3226 JN 69|\n",
      "| 26|    M| 527|         En Couple|               1|       false|     4198 RJ 72|\n",
      "| 35|    M| 489|         En Couple|               3|       false|     4491 LL 56|\n",
      "| 20|    M|1059|       C�libataire|               0|       false|     9433 KO 45|\n",
      "| 19|    M| 507|       C�libataire|               0|       false|     4945 ZP 98|\n",
      "| 76|    F|1222|         En Couple|               0|       false|      376 WN 83|\n",
      "| 26|    M| 154|       C�libataire|               0|       false|     5175 XJ 18|\n",
      "| 61|    M|1292|         En Couple|               0|       false|      931 PG 41|\n",
      "| 83|    M| 593|       C�libataire|               0|       false|     6836 BP 45|\n",
      "| 40|    M|1039|         En Couple|               1|       false|     9044 VD 92|\n",
      "| 29|    M| 536|         En Couple|               1|       false|     1829 HQ 31|\n",
      "| 47|    F| 209|       C�libataire|               0|       false|     3807 EZ 21|\n",
      "| 47|    M| 563|         En Couple|               2|       false|     3382 YO 89|\n",
      "| 56|    F| 165|       C�libataire|               0|       false|     1044 XB 74|\n",
      "| 47|    M| 463|       C�libataire|               0|       false|     6504 AR 40|\n",
      "| 20|    M| 159|         En Couple|               3|        true|     9066 RZ 11|\n",
      "| 25|    F| 587|       C�libataire|               0|       false|     2041 GB 89|\n",
      "| 78|    M| 559|       C�libataire|               0|       false|     1220 ZA 66|\n",
      "+---+-----+----+------------------+----------------+------------+---------------+\n",
      "only showing top 20 rows\n",
      "\n"
     ]
    }
   ],
   "source": [
    "# Import SparkSession\n",
    "from pyspark.sql import SparkSession\n",
    "from pyspark.sql.functions import col, regexp_replace\n",
    "from pyspark.sql.functions import when\n",
    "\n",
    "# Create SparkSession\n",
    "spark = SparkSession.builder \\\n",
    "    .appName(\"Read CSV Clients_15\") \\\n",
    "    .getOrCreate()\n",
    "\n",
    "# Read CSV into DataFrame\n",
    "df = spark.read.csv(\"./data/Clients_15.csv\", header=True, inferSchema=True)\n",
    "\n",
    "# Display DataFrame\n",
    "df.show()\n"
   ]
  },
  {
   "cell_type": "code",
   "execution_count": 7,
   "id": "f5e7d8d3-de3e-4bc6-bc99-f0747d9e4318",
   "metadata": {},
   "outputs": [
    {
     "name": "stdout",
     "output_type": "stream",
     "text": [
      "+---+----+----+------------------+----------------+------------+---------------+\n",
      "|age|sexe|taux|situationFamiliale|nbEnfantsAcharge|2eme voiture|immatriculation|\n",
      "+---+----+----+------------------+----------------+------------+---------------+\n",
      "| 40|   F| 513|         En Couple|               2|       false|     8638 TQ 28|\n",
      "| 47|   M| 546|       Celibataire|               0|       false|     1673 XO 64|\n",
      "| 27|   M| 505|         En Couple|               0|       false|     3226 JN 69|\n",
      "| 26|   M| 527|         En Couple|               1|       false|     4198 RJ 72|\n",
      "| 35|   M| 489|         En Couple|               3|       false|     4491 LL 56|\n",
      "| 20|   M|1059|       Celibataire|               0|       false|     9433 KO 45|\n",
      "| 19|   M| 507|       Celibataire|               0|       false|     4945 ZP 98|\n",
      "| 76|   F|1222|         En Couple|               0|       false|      376 WN 83|\n",
      "| 26|   M| 154|       Celibataire|               0|       false|     5175 XJ 18|\n",
      "| 61|   M|1292|         En Couple|               0|       false|      931 PG 41|\n",
      "| 83|   M| 593|       Celibataire|               0|       false|     6836 BP 45|\n",
      "| 40|   M|1039|         En Couple|               1|       false|     9044 VD 92|\n",
      "| 29|   M| 536|         En Couple|               1|       false|     1829 HQ 31|\n",
      "| 47|   F| 209|       Celibataire|               0|       false|     3807 EZ 21|\n",
      "| 47|   M| 563|         En Couple|               2|       false|     3382 YO 89|\n",
      "| 56|   F| 165|       Celibataire|               0|       false|     1044 XB 74|\n",
      "| 47|   M| 463|       Celibataire|               0|       false|     6504 AR 40|\n",
      "| 20|   M| 159|         En Couple|               3|        true|     9066 RZ 11|\n",
      "| 25|   F| 587|       Celibataire|               0|       false|     2041 GB 89|\n",
      "| 78|   M| 559|       Celibataire|               0|       false|     1220 ZA 66|\n",
      "+---+----+----+------------------+----------------+------------+---------------+\n",
      "only showing top 20 rows\n",
      "\n"
     ]
    }
   ],
   "source": [
    "from pyspark.sql.functions import when\n",
    "\n",
    "# Define the DataFrame with replacements\n",
    "df = df.withColumn(\"situationFamiliale\", regexp_replace(col(\"situationFamiliale\"), \"�\", \"e\")) \\\n",
    "               .withColumn(\"sexe\", \n",
    "                           when(col(\"sexe\").rlike(\"Homme|Masculin\"), \"M\")\n",
    "                           .when(col(\"sexe\").rlike(\"Femme|F�minin\"), \"F\")\n",
    "                           .otherwise(col(\"sexe\")))\n",
    "                \n",
    "                \n",
    "\n",
    "# Display the cleaned DataFrame\n",
    "df.show()"
   ]
  },
  {
   "cell_type": "code",
   "execution_count": 9,
   "id": "d7951f18-9c55-419b-bf86-ed1f2f23fd99",
   "metadata": {},
   "outputs": [
    {
     "name": "stdout",
     "output_type": "stream",
     "text": [
      "Cleaned DataFrame has been saved to: ./Cleaned/Client_15\n"
     ]
    }
   ],
   "source": [
    "# Define the path for the cleaned CSV file\n",
    "output_path = \"./Cleaned/Client_15\"\n",
    "\n",
    "# Save the cleaned DataFrame to a new CSV file\n",
    "df.write.csv(output_path, header=True, mode=\"overwrite\")\n",
    "\n",
    "# Display a message to confirm the save\n",
    "print(\"Cleaned DataFrame has been saved to:\", output_path)"
   ]
  },
  {
   "cell_type": "code",
   "execution_count": 4,
   "id": "642d989f-f191-4ffd-850a-895cc5e37362",
   "metadata": {},
   "outputs": [
    {
     "ename": "NameError",
     "evalue": "name 'cleaned_df' is not defined",
     "output_type": "error",
     "traceback": [
      "\u001b[0;31m---------------------------------------------------------------------------\u001b[0m",
      "\u001b[0;31mNameError\u001b[0m                                 Traceback (most recent call last)",
      "Cell \u001b[0;32mIn[4], line 7\u001b[0m\n\u001b[1;32m      4\u001b[0m spark\u001b[38;5;241m.\u001b[39mconf\u001b[38;5;241m.\u001b[39mset(\u001b[38;5;124m\"\u001b[39m\u001b[38;5;124mspark.sql.repl.eagerEval.enabled\u001b[39m\u001b[38;5;124m\"\u001b[39m, \u001b[38;5;28;01mTrue\u001b[39;00m)\n\u001b[1;32m      6\u001b[0m \u001b[38;5;66;03m# Iterate over each column\u001b[39;00m\n\u001b[0;32m----> 7\u001b[0m \u001b[38;5;28;01mfor\u001b[39;00m column_name \u001b[38;5;129;01min\u001b[39;00m \u001b[43mcleaned_df\u001b[49m\u001b[38;5;241m.\u001b[39mcolumns:\n\u001b[1;32m      8\u001b[0m     \u001b[38;5;66;03m# Filter rows with null or empty values in the column\u001b[39;00m\n\u001b[1;32m      9\u001b[0m     empty_values_df \u001b[38;5;241m=\u001b[39m cleaned_df\u001b[38;5;241m.\u001b[39mfilter((col(column_name) \u001b[38;5;241m==\u001b[39m \u001b[38;5;124m\"\u001b[39m\u001b[38;5;124m\"\u001b[39m) \u001b[38;5;241m|\u001b[39m col(column_name)\u001b[38;5;241m.\u001b[39misNull() \u001b[38;5;241m|\u001b[39m (col(column_name) \u001b[38;5;241m==\u001b[39m \u001b[38;5;124m\"\u001b[39m\u001b[38;5;124m?\u001b[39m\u001b[38;5;124m\"\u001b[39m) )\n\u001b[1;32m     11\u001b[0m     \u001b[38;5;66;03m# Check if there are any empty values in the column\u001b[39;00m\n",
      "\u001b[0;31mNameError\u001b[0m: name 'cleaned_df' is not defined"
     ]
    }
   ],
   "source": [
    "# Set the configuration to display all rows\n",
    "\n",
    "from pyspark.sql.functions import col\n",
    "spark.conf.set(\"spark.sql.repl.eagerEval.enabled\", True)\n",
    "\n",
    "# Iterate over each column\n",
    "for column_name in cleaned_df.columns:\n",
    "    # Filter rows with null or empty values in the column\n",
    "    empty_values_df = cleaned_df.filter((col(column_name) == \"\") | col(column_name).isNull() | (col(column_name) == \"?\") )\n",
    "    \n",
    "    # Check if there are any empty values in the column\n",
    "    if empty_values_df.count() > 0:\n",
    "        print(\"There are empty values in the column:\", column_name)\n",
    "        # Display the rows with empty values\n",
    "        empty_values_df.show()\n",
    "    else:\n",
    "        print(\"There are no empty values in the column:\", column_name)\n"
   ]
  },
  {
   "cell_type": "code",
   "execution_count": 5,
   "id": "9c5fe54b-38d7-4d7e-a125-37f0ca456427",
   "metadata": {},
   "outputs": [
    {
     "data": {
      "text/html": [
       "<table border='1'>\n",
       "<tr><th>age</th><th>sexe</th><th>taux</th><th>situationFamiliale</th><th>nbEnfantsAcharge</th><th>2eme voiture</th><th>immatriculation</th></tr>\n",
       "<tr><td>40</td><td>F</td><td>513</td><td>En Couple</td><td>2</td><td>false</td><td>8638 TQ 28</td></tr>\n",
       "<tr><td>47</td><td>M</td><td>546</td><td>Celibataire</td><td>0</td><td>false</td><td>1673 XO 64</td></tr>\n",
       "<tr><td>27</td><td>M</td><td>505</td><td>En Couple</td><td>0</td><td>false</td><td>3226 JN 69</td></tr>\n",
       "<tr><td>26</td><td>M</td><td>527</td><td>En Couple</td><td>1</td><td>false</td><td>4198 RJ 72</td></tr>\n",
       "<tr><td>35</td><td>M</td><td>489</td><td>En Couple</td><td>3</td><td>false</td><td>4491 LL 56</td></tr>\n",
       "<tr><td>20</td><td>M</td><td>1059</td><td>Celibataire</td><td>0</td><td>false</td><td>9433 KO 45</td></tr>\n",
       "<tr><td>19</td><td>M</td><td>507</td><td>Celibataire</td><td>0</td><td>false</td><td>4945 ZP 98</td></tr>\n",
       "<tr><td>76</td><td>F</td><td>1222</td><td>En Couple</td><td>0</td><td>false</td><td>376 WN 83</td></tr>\n",
       "<tr><td>26</td><td>M</td><td>154</td><td>Celibataire</td><td>0</td><td>false</td><td>5175 XJ 18</td></tr>\n",
       "<tr><td>61</td><td>M</td><td>1292</td><td>En Couple</td><td>0</td><td>false</td><td>931 PG 41</td></tr>\n",
       "<tr><td>83</td><td>M</td><td>593</td><td>Celibataire</td><td>0</td><td>false</td><td>6836 BP 45</td></tr>\n",
       "<tr><td>40</td><td>M</td><td>1039</td><td>En Couple</td><td>1</td><td>false</td><td>9044 VD 92</td></tr>\n",
       "<tr><td>29</td><td>M</td><td>536</td><td>En Couple</td><td>1</td><td>false</td><td>1829 HQ 31</td></tr>\n",
       "<tr><td>47</td><td>F</td><td>209</td><td>Celibataire</td><td>0</td><td>false</td><td>3807 EZ 21</td></tr>\n",
       "<tr><td>47</td><td>M</td><td>563</td><td>En Couple</td><td>2</td><td>false</td><td>3382 YO 89</td></tr>\n",
       "<tr><td>56</td><td>F</td><td>165</td><td>Celibataire</td><td>0</td><td>false</td><td>1044 XB 74</td></tr>\n",
       "<tr><td>47</td><td>M</td><td>463</td><td>Celibataire</td><td>0</td><td>false</td><td>6504 AR 40</td></tr>\n",
       "<tr><td>20</td><td>M</td><td>159</td><td>En Couple</td><td>3</td><td>true</td><td>9066 RZ 11</td></tr>\n",
       "<tr><td>25</td><td>F</td><td>587</td><td>Celibataire</td><td>0</td><td>false</td><td>2041 GB 89</td></tr>\n",
       "<tr><td>78</td><td>M</td><td>559</td><td>Celibataire</td><td>0</td><td>false</td><td>1220 ZA 66</td></tr>\n",
       "</table>\n",
       "only showing top 20 rows\n"
      ],
      "text/plain": [
       "+---+----+----+------------------+----------------+------------+---------------+\n",
       "|age|sexe|taux|situationFamiliale|nbEnfantsAcharge|2eme voiture|immatriculation|\n",
       "+---+----+----+------------------+----------------+------------+---------------+\n",
       "| 40|   F| 513|         En Couple|               2|       false|     8638 TQ 28|\n",
       "| 47|   M| 546|       Celibataire|               0|       false|     1673 XO 64|\n",
       "| 27|   M| 505|         En Couple|               0|       false|     3226 JN 69|\n",
       "| 26|   M| 527|         En Couple|               1|       false|     4198 RJ 72|\n",
       "| 35|   M| 489|         En Couple|               3|       false|     4491 LL 56|\n",
       "| 20|   M|1059|       Celibataire|               0|       false|     9433 KO 45|\n",
       "| 19|   M| 507|       Celibataire|               0|       false|     4945 ZP 98|\n",
       "| 76|   F|1222|         En Couple|               0|       false|      376 WN 83|\n",
       "| 26|   M| 154|       Celibataire|               0|       false|     5175 XJ 18|\n",
       "| 61|   M|1292|         En Couple|               0|       false|      931 PG 41|\n",
       "| 83|   M| 593|       Celibataire|               0|       false|     6836 BP 45|\n",
       "| 40|   M|1039|         En Couple|               1|       false|     9044 VD 92|\n",
       "| 29|   M| 536|         En Couple|               1|       false|     1829 HQ 31|\n",
       "| 47|   F| 209|       Celibataire|               0|       false|     3807 EZ 21|\n",
       "| 47|   M| 563|         En Couple|               2|       false|     3382 YO 89|\n",
       "| 56|   F| 165|       Celibataire|               0|       false|     1044 XB 74|\n",
       "| 47|   M| 463|       Celibataire|               0|       false|     6504 AR 40|\n",
       "| 20|   M| 159|         En Couple|               3|        true|     9066 RZ 11|\n",
       "| 25|   F| 587|       Celibataire|               0|       false|     2041 GB 89|\n",
       "| 78|   M| 559|       Celibataire|               0|       false|     1220 ZA 66|\n",
       "+---+----+----+------------------+----------------+------------+---------------+\n",
       "only showing top 20 rows"
      ]
     },
     "execution_count": 5,
     "metadata": {},
     "output_type": "execute_result"
    }
   ],
   "source": [
    "df"
   ]
  },
  {
   "cell_type": "code",
   "execution_count": 6,
   "id": "5d0588fb-eabf-4460-8178-a32add69417b",
   "metadata": {},
   "outputs": [
    {
     "data": {
      "text/html": [
       "<table border='1'>\n",
       "<tr><th>age</th><th>sexe</th><th>taux</th><th>situationFamiliale</th><th>nbEnfantsAcharge</th><th>2eme voiture</th><th>immatriculation</th></tr>\n",
       "<tr><td>40</td><td>F</td><td>513</td><td>En Couple</td><td>2</td><td>false</td><td>8638 TQ 28</td></tr>\n",
       "<tr><td>47</td><td>M</td><td>546</td><td>Celibataire</td><td>0</td><td>false</td><td>1673 XO 64</td></tr>\n",
       "<tr><td>27</td><td>M</td><td>505</td><td>En Couple</td><td>0</td><td>false</td><td>3226 JN 69</td></tr>\n",
       "<tr><td>26</td><td>M</td><td>527</td><td>En Couple</td><td>1</td><td>false</td><td>4198 RJ 72</td></tr>\n",
       "<tr><td>35</td><td>M</td><td>489</td><td>En Couple</td><td>3</td><td>false</td><td>4491 LL 56</td></tr>\n",
       "<tr><td>20</td><td>M</td><td>1059</td><td>Celibataire</td><td>0</td><td>false</td><td>9433 KO 45</td></tr>\n",
       "<tr><td>19</td><td>M</td><td>507</td><td>Celibataire</td><td>0</td><td>false</td><td>4945 ZP 98</td></tr>\n",
       "<tr><td>76</td><td>F</td><td>1222</td><td>En Couple</td><td>0</td><td>false</td><td>376 WN 83</td></tr>\n",
       "<tr><td>26</td><td>M</td><td>154</td><td>Celibataire</td><td>0</td><td>false</td><td>5175 XJ 18</td></tr>\n",
       "<tr><td>61</td><td>M</td><td>1292</td><td>En Couple</td><td>0</td><td>false</td><td>931 PG 41</td></tr>\n",
       "<tr><td>83</td><td>M</td><td>593</td><td>Celibataire</td><td>0</td><td>false</td><td>6836 BP 45</td></tr>\n",
       "<tr><td>40</td><td>M</td><td>1039</td><td>En Couple</td><td>1</td><td>false</td><td>9044 VD 92</td></tr>\n",
       "<tr><td>29</td><td>M</td><td>536</td><td>En Couple</td><td>1</td><td>false</td><td>1829 HQ 31</td></tr>\n",
       "<tr><td>47</td><td>F</td><td>209</td><td>Celibataire</td><td>0</td><td>false</td><td>3807 EZ 21</td></tr>\n",
       "<tr><td>47</td><td>M</td><td>563</td><td>En Couple</td><td>2</td><td>false</td><td>3382 YO 89</td></tr>\n",
       "<tr><td>56</td><td>F</td><td>165</td><td>Celibataire</td><td>0</td><td>false</td><td>1044 XB 74</td></tr>\n",
       "<tr><td>47</td><td>M</td><td>463</td><td>Celibataire</td><td>0</td><td>false</td><td>6504 AR 40</td></tr>\n",
       "<tr><td>20</td><td>M</td><td>159</td><td>En Couple</td><td>3</td><td>true</td><td>9066 RZ 11</td></tr>\n",
       "<tr><td>25</td><td>F</td><td>587</td><td>Celibataire</td><td>0</td><td>false</td><td>2041 GB 89</td></tr>\n",
       "<tr><td>78</td><td>M</td><td>559</td><td>Celibataire</td><td>0</td><td>false</td><td>1220 ZA 66</td></tr>\n",
       "</table>\n",
       "only showing top 20 rows\n"
      ],
      "text/plain": [
       "DataFrame[age: string, sexe: string, taux: string, situationFamiliale: string, nbEnfantsAcharge: string, 2eme voiture: string, immatriculation: string]"
      ]
     },
     "execution_count": 6,
     "metadata": {},
     "output_type": "execute_result"
    }
   ],
   "source": [
    "df"
   ]
  },
  {
   "cell_type": "code",
   "execution_count": 7,
   "id": "e3da1e2f-f43f-4e72-b356-387719587b1c",
   "metadata": {},
   "outputs": [
    {
     "name": "stdout",
     "output_type": "stream",
     "text": [
      "Nombre de lignes avec des valeurs nulles dans la colonne age : 0\n",
      "Nombre de lignes avec des valeurs nulles dans la colonne sexe : 0\n",
      "Nombre de lignes avec des valeurs nulles dans la colonne taux : 0\n",
      "Nombre de lignes avec des valeurs nulles dans la colonne situationFamiliale : 0\n",
      "Nombre de lignes avec des valeurs nulles dans la colonne nbEnfantsAcharge : 0\n",
      "Nombre de lignes avec des valeurs nulles dans la colonne 2eme voiture : 0\n",
      "Nombre de lignes avec des valeurs nulles dans la colonne immatriculation : 0\n",
      "Nombre total de lignes avec des valeurs nulles dans le DataFrame : 0\n"
     ]
    }
   ],
   "source": [
    "from pyspark.sql import SparkSession\n",
    "from pyspark.sql.functions import col\n",
    "\n",
    "# Créer la session Spark\n",
    "spark = SparkSession.builder \\\n",
    "    .appName(\"Count Null Rows\") \\\n",
    "    .getOrCreate()\n",
    "\n",
    "\n",
    "\n",
    "# Initialiser le compteur\n",
    "total_null_rows = 0\n",
    "\n",
    "# Parcourir toutes les colonnes du DataFrame\n",
    "for col_name in df.columns:\n",
    "    # Compter le nombre de lignes avec des valeurs nulles dans cette colonne\n",
    "    null_rows_count = df.filter(df[col_name].isNull()).count()\n",
    "    # Ajouter au compteur total\n",
    "    total_null_rows += null_rows_count\n",
    "    # Afficher le nombre de lignes avec des valeurs nulles dans cette colonne\n",
    "    print(\"Nombre de lignes avec des valeurs nulles dans la colonne\", col_name, \":\", null_rows_count)\n",
    "\n",
    "# Afficher le nombre total de lignes avec des valeurs nulles dans le DataFrame\n",
    "print(\"Nombre total de lignes avec des valeurs nulles dans le DataFrame :\", total_null_rows)\n"
   ]
  },
  {
   "cell_type": "code",
   "execution_count": 8,
   "id": "04e12d3e-9867-44ca-9051-3e9321046c1f",
   "metadata": {},
   "outputs": [
    {
     "data": {
      "text/html": [
       "<table border='1'>\n",
       "<tr><th>age</th><th>sexe</th><th>taux</th><th>situationFamiliale</th><th>nbEnfantsAcharge</th><th>2eme voiture</th><th>immatriculation</th></tr>\n",
       "<tr><td>40</td><td>F</td><td>513</td><td>En Couple</td><td>2</td><td>false</td><td>8638 TQ 28</td></tr>\n",
       "<tr><td>47</td><td>M</td><td>546</td><td>Celibataire</td><td>0</td><td>false</td><td>1673 XO 64</td></tr>\n",
       "<tr><td>27</td><td>M</td><td>505</td><td>En Couple</td><td>0</td><td>false</td><td>3226 JN 69</td></tr>\n",
       "<tr><td>26</td><td>M</td><td>527</td><td>En Couple</td><td>1</td><td>false</td><td>4198 RJ 72</td></tr>\n",
       "<tr><td>35</td><td>M</td><td>489</td><td>En Couple</td><td>3</td><td>false</td><td>4491 LL 56</td></tr>\n",
       "<tr><td>20</td><td>M</td><td>1059</td><td>Celibataire</td><td>0</td><td>false</td><td>9433 KO 45</td></tr>\n",
       "<tr><td>19</td><td>M</td><td>507</td><td>Celibataire</td><td>0</td><td>false</td><td>4945 ZP 98</td></tr>\n",
       "<tr><td>76</td><td>F</td><td>1222</td><td>En Couple</td><td>0</td><td>false</td><td>376 WN 83</td></tr>\n",
       "<tr><td>26</td><td>M</td><td>154</td><td>Celibataire</td><td>0</td><td>false</td><td>5175 XJ 18</td></tr>\n",
       "<tr><td>61</td><td>M</td><td>1292</td><td>En Couple</td><td>0</td><td>false</td><td>931 PG 41</td></tr>\n",
       "<tr><td>83</td><td>M</td><td>593</td><td>Celibataire</td><td>0</td><td>false</td><td>6836 BP 45</td></tr>\n",
       "<tr><td>40</td><td>M</td><td>1039</td><td>En Couple</td><td>1</td><td>false</td><td>9044 VD 92</td></tr>\n",
       "<tr><td>29</td><td>M</td><td>536</td><td>En Couple</td><td>1</td><td>false</td><td>1829 HQ 31</td></tr>\n",
       "<tr><td>47</td><td>F</td><td>209</td><td>Celibataire</td><td>0</td><td>false</td><td>3807 EZ 21</td></tr>\n",
       "<tr><td>47</td><td>M</td><td>563</td><td>En Couple</td><td>2</td><td>false</td><td>3382 YO 89</td></tr>\n",
       "<tr><td>56</td><td>F</td><td>165</td><td>Celibataire</td><td>0</td><td>false</td><td>1044 XB 74</td></tr>\n",
       "<tr><td>47</td><td>M</td><td>463</td><td>Celibataire</td><td>0</td><td>false</td><td>6504 AR 40</td></tr>\n",
       "<tr><td>20</td><td>M</td><td>159</td><td>En Couple</td><td>3</td><td>true</td><td>9066 RZ 11</td></tr>\n",
       "<tr><td>25</td><td>F</td><td>587</td><td>Celibataire</td><td>0</td><td>false</td><td>2041 GB 89</td></tr>\n",
       "<tr><td>78</td><td>M</td><td>559</td><td>Celibataire</td><td>0</td><td>false</td><td>1220 ZA 66</td></tr>\n",
       "</table>\n",
       "only showing top 20 rows\n"
      ],
      "text/plain": [
       "DataFrame[age: string, sexe: string, taux: string, situationFamiliale: string, nbEnfantsAcharge: string, 2eme voiture: string, immatriculation: string]"
      ]
     },
     "execution_count": 8,
     "metadata": {},
     "output_type": "execute_result"
    }
   ],
   "source": [
    "df"
   ]
  },
  {
   "cell_type": "code",
   "execution_count": 9,
   "id": "225eecc2-ff34-43ad-b46d-0db1acc62231",
   "metadata": {},
   "outputs": [
    {
     "name": "stdout",
     "output_type": "stream",
     "text": [
      "Nombre de lignes avec des valeurs nulles dans la colonne age : 0\n",
      "Nombre de lignes avec des valeurs nulles dans la colonne sexe : 0\n",
      "Nombre de lignes avec des valeurs nulles dans la colonne taux : 0\n",
      "Nombre de lignes avec des valeurs nulles dans la colonne situationFamiliale : 0\n",
      "Nombre de lignes avec des valeurs nulles dans la colonne nbEnfantsAcharge : 0\n",
      "Nombre de lignes avec des valeurs nulles dans la colonne 2eme voiture : 0\n",
      "Nombre de lignes avec des valeurs nulles dans la colonne immatriculation : 0\n",
      "Nombre total de lignes avec des valeurs nulles dans le DataFrame : 0\n"
     ]
    }
   ],
   "source": [
    "from pyspark.sql import SparkSession\n",
    "from pyspark.sql.functions import col\n",
    "\n",
    "# Créer la session Spark\n",
    "spark = SparkSession.builder \\\n",
    "    .appName(\"Count Null Rows\") \\\n",
    "    .getOrCreate()\n",
    "\n",
    "\n",
    "\n",
    "# Initialiser le compteur\n",
    "total_null_rows = 0\n",
    "\n",
    "# Parcourir toutes les colonnes du DataFrame\n",
    "for col_name in df.columns:\n",
    "    # Compter le nombre de lignes avec des valeurs nulles dans cette colonne\n",
    "    null_rows_count = df.filter(df[col_name].isNull()).count()\n",
    "    # Ajouter au compteur total\n",
    "    total_null_rows += null_rows_count\n",
    "    # Afficher le nombre de lignes avec des valeurs nulles dans cette colonne\n",
    "    print(\"Nombre de lignes avec des valeurs nulles dans la colonne\", col_name, \":\", null_rows_count)\n",
    "\n",
    "# Afficher le nombre total de lignes avec des valeurs nulles dans le DataFrame\n",
    "print(\"Nombre total de lignes avec des valeurs nulles dans le DataFrame :\", total_null_rows)\n"
   ]
  },
  {
   "cell_type": "code",
   "execution_count": 4,
   "id": "20174da4-5946-432d-8628-4775e822c35a",
   "metadata": {},
   "outputs": [
    {
     "name": "stdout",
     "output_type": "stream",
     "text": [
      "DataFrame après remplacement des valeurs nulles :\n",
      "+---+-----+----+------------------+----------------+------------+---------------+\n",
      "|age| sexe|taux|situationFamiliale|nbEnfantsAcharge|2eme voiture|immatriculation|\n",
      "+---+-----+----+------------------+----------------+------------+---------------+\n",
      "| 40|    F| 513|         En Couple|               2|       false|     8638 TQ 28|\n",
      "| 47|    M| 546|       C�libataire|               0|       false|     1673 XO 64|\n",
      "| 27|Homme| 505|         En Couple|               0|       false|     3226 JN 69|\n",
      "| 26|    M| 527|         En Couple|               1|       false|     4198 RJ 72|\n",
      "| 35|    M| 489|         En Couple|               3|       false|     4491 LL 56|\n",
      "| 20|    M|1059|       C�libataire|               0|       false|     9433 KO 45|\n",
      "| 19|    M| 507|       C�libataire|               0|       false|     4945 ZP 98|\n",
      "| 76|    F|1222|         En Couple|               0|       false|      376 WN 83|\n",
      "| 26|    M| 154|       C�libataire|               0|       false|     5175 XJ 18|\n",
      "| 61|    M|1292|         En Couple|               0|       false|      931 PG 41|\n",
      "| 83|    M| 593|       C�libataire|               0|       false|     6836 BP 45|\n",
      "| 40|    M|1039|         En Couple|               1|       false|     9044 VD 92|\n",
      "| 29|    M| 536|         En Couple|               1|       false|     1829 HQ 31|\n",
      "| 47|    F| 209|       C�libataire|               0|       false|     3807 EZ 21|\n",
      "| 47|    M| 563|         En Couple|               2|       false|     3382 YO 89|\n",
      "| 56|    F| 165|       C�libataire|               0|       false|     1044 XB 74|\n",
      "| 47|    M| 463|       C�libataire|               0|       false|     6504 AR 40|\n",
      "| 20|    M| 159|         En Couple|               3|        true|     9066 RZ 11|\n",
      "| 25|    F| 587|       C�libataire|               0|       false|     2041 GB 89|\n",
      "| 78|    M| 559|       C�libataire|               0|       false|     1220 ZA 66|\n",
      "+---+-----+----+------------------+----------------+------------+---------------+\n",
      "only showing top 20 rows\n",
      "\n"
     ]
    }
   ],
   "source": [
    "# Remplacer les valeurs nulles dans la colonne 'immatriculation' par '3467 SB 72|'\n",
    "df = df.fillna({'nbEnfantsAcharge': '2'})\n",
    "\n",
    "# Afficher le DataFrame après remplacement\n",
    "print(\"DataFrame après remplacement des valeurs nulles :\")\n",
    "df.show()"
   ]
  },
  {
   "cell_type": "code",
   "execution_count": 12,
   "id": "5d9ce9ae-fea9-4f1c-805a-fb9f25f6c091",
   "metadata": {},
   "outputs": [
    {
     "name": "stdout",
     "output_type": "stream",
     "text": [
      "Nombre de lignes avec des valeurs nulles dans la colonne age : 0\n",
      "Nombre de lignes avec des valeurs nulles dans la colonne sexe : 0\n",
      "Nombre de lignes avec des valeurs nulles dans la colonne taux : 0\n",
      "Nombre de lignes avec des valeurs nulles dans la colonne situationFamiliale : 0\n",
      "Nombre de lignes avec des valeurs nulles dans la colonne nbEnfantsAcharge : 0\n",
      "Nombre de lignes avec des valeurs nulles dans la colonne 2eme voiture : 0\n",
      "Nombre de lignes avec des valeurs nulles dans la colonne immatriculation : 0\n",
      "Nombre total de lignes avec des valeurs nulles dans le DataFrame : 0\n"
     ]
    }
   ],
   "source": [
    "from pyspark.sql import SparkSession\n",
    "from pyspark.sql.functions import col\n",
    "\n",
    "# Créer la session Spark\n",
    "spark = SparkSession.builder \\\n",
    "    .appName(\"Count Null Rows\") \\\n",
    "    .getOrCreate()\n",
    "\n",
    "\n",
    "\n",
    "# Initialiser le compteur\n",
    "total_null_rows = 0\n",
    "\n",
    "# Parcourir toutes les colonnes du DataFrame\n",
    "for col_name in df.columns:\n",
    "    # Compter le nombre de lignes avec des valeurs nulles dans cette colonne\n",
    "    null_rows_count = df.filter(df[col_name].isNull()).count()\n",
    "    # Ajouter au compteur total\n",
    "    total_null_rows += null_rows_count\n",
    "    # Afficher le nombre de lignes avec des valeurs nulles dans cette colonne\n",
    "    print(\"Nombre de lignes avec des valeurs nulles dans la colonne\", col_name, \":\", null_rows_count)\n",
    "\n",
    "# Afficher le nombre total de lignes avec des valeurs nulles dans le DataFrame\n",
    "print(\"Nombre total de lignes avec des valeurs nulles dans le DataFrame :\", total_null_rows)\n"
   ]
  },
  {
   "cell_type": "code",
   "execution_count": 13,
   "id": "25baf4a4-fa09-4d63-a412-8d7dd7f8d7c6",
   "metadata": {},
   "outputs": [
    {
     "name": "stdout",
     "output_type": "stream",
     "text": [
      "DataFrame après remplacement des valeurs nulles :\n",
      "+---+----+----+------------------+----------------+------------+---------------+\n",
      "|age|sexe|taux|situationFamiliale|nbEnfantsAcharge|2eme voiture|immatriculation|\n",
      "+---+----+----+------------------+----------------+------------+---------------+\n",
      "| 40|   F| 513|         En Couple|               2|       false|     8638 TQ 28|\n",
      "| 47|   M| 546|       Celibataire|               0|       false|     1673 XO 64|\n",
      "| 27|   M| 505|         En Couple|               0|       false|     3226 JN 69|\n",
      "| 26|   M| 527|         En Couple|               1|       false|     4198 RJ 72|\n",
      "| 35|   M| 489|         En Couple|               3|       false|     4491 LL 56|\n",
      "| 20|   M|1059|       Celibataire|               0|       false|     9433 KO 45|\n",
      "| 19|   M| 507|       Celibataire|               0|       false|     4945 ZP 98|\n",
      "| 76|   F|1222|         En Couple|               0|       false|      376 WN 83|\n",
      "| 26|   M| 154|       Celibataire|               0|       false|     5175 XJ 18|\n",
      "| 61|   M|1292|         En Couple|               0|       false|      931 PG 41|\n",
      "| 83|   M| 593|       Celibataire|               0|       false|     6836 BP 45|\n",
      "| 40|   M|1039|         En Couple|               1|       false|     9044 VD 92|\n",
      "| 29|   M| 536|         En Couple|               1|       false|     1829 HQ 31|\n",
      "| 47|   F| 209|       Celibataire|               0|       false|     3807 EZ 21|\n",
      "| 47|   M| 563|         En Couple|               2|       false|     3382 YO 89|\n",
      "| 56|   F| 165|       Celibataire|               0|       false|     1044 XB 74|\n",
      "| 47|   M| 463|       Celibataire|               0|       false|     6504 AR 40|\n",
      "| 20|   M| 159|         En Couple|               3|        true|     9066 RZ 11|\n",
      "| 25|   F| 587|       Celibataire|               0|       false|     2041 GB 89|\n",
      "| 78|   M| 559|       Celibataire|               0|       false|     1220 ZA 66|\n",
      "+---+----+----+------------------+----------------+------------+---------------+\n",
      "only showing top 20 rows\n",
      "\n"
     ]
    }
   ],
   "source": [
    "# Remplacer les valeurs nulles dans la colonne 'immatriculation' par '3467 SB 72|'\n",
    "df = df.fillna({'2eme voiture': 'false'})\n",
    "\n",
    "# Afficher le DataFrame après remplacement\n",
    "print(\"DataFrame après remplacement des valeurs nulles :\")\n",
    "df.show()"
   ]
  },
  {
   "cell_type": "code",
   "execution_count": 5,
   "id": "dfec02d6-b192-489f-8500-549fbb066e7f",
   "metadata": {},
   "outputs": [
    {
     "name": "stdout",
     "output_type": "stream",
     "text": [
      "DataFrame après remplacement des valeurs nulles :\n",
      "+---+-----+----+------------------+----------------+------------+---------------+\n",
      "|age| sexe|taux|situationFamiliale|nbEnfantsAcharge|2eme voiture|immatriculation|\n",
      "+---+-----+----+------------------+----------------+------------+---------------+\n",
      "| 40|    F| 513|         En Couple|               2|       false|     8638 TQ 28|\n",
      "| 47|    M| 546|       C�libataire|               0|       false|     1673 XO 64|\n",
      "| 27|Homme| 505|         En Couple|               0|       false|     3226 JN 69|\n",
      "| 26|    M| 527|         En Couple|               1|       false|     4198 RJ 72|\n",
      "| 35|    M| 489|         En Couple|               3|       false|     4491 LL 56|\n",
      "| 20|    M|1059|       C�libataire|               0|       false|     9433 KO 45|\n",
      "| 19|    M| 507|       C�libataire|               0|       false|     4945 ZP 98|\n",
      "| 76|    F|1222|         En Couple|               0|       false|      376 WN 83|\n",
      "| 26|    M| 154|       C�libataire|               0|       false|     5175 XJ 18|\n",
      "| 61|    M|1292|         En Couple|               0|       false|      931 PG 41|\n",
      "| 83|    M| 593|       C�libataire|               0|       false|     6836 BP 45|\n",
      "| 40|    M|1039|         En Couple|               1|       false|     9044 VD 92|\n",
      "| 29|    M| 536|         En Couple|               1|       false|     1829 HQ 31|\n",
      "| 47|    F| 209|       C�libataire|               0|       false|     3807 EZ 21|\n",
      "| 47|    M| 563|         En Couple|               2|       false|     3382 YO 89|\n",
      "| 56|    F| 165|       C�libataire|               0|       false|     1044 XB 74|\n",
      "| 47|    M| 463|       C�libataire|               0|       false|     6504 AR 40|\n",
      "| 20|    M| 159|         En Couple|               3|        true|     9066 RZ 11|\n",
      "| 25|    F| 587|       C�libataire|               0|       false|     2041 GB 89|\n",
      "| 78|    M| 559|       C�libataire|               0|       false|     1220 ZA 66|\n",
      "+---+-----+----+------------------+----------------+------------+---------------+\n",
      "only showing top 20 rows\n",
      "\n"
     ]
    }
   ],
   "source": [
    "# Remplacer les valeurs nulles dans la colonne 'immatriculation' par '3467 SB 72|'\n",
    "df = df.fillna({'immatriculation': '8638 TQ 28'})\n",
    "\n",
    "# Afficher le DataFrame après remplacement\n",
    "print(\"DataFrame après remplacement des valeurs nulles :\")\n",
    "df.show()"
   ]
  },
  {
   "cell_type": "code",
   "execution_count": 15,
   "id": "d7143823-7c14-4b0b-bc67-77e3791630a0",
   "metadata": {},
   "outputs": [
    {
     "name": "stdout",
     "output_type": "stream",
     "text": [
      "Nombre de lignes avec des valeurs nulles dans la colonne age : 0\n",
      "Nombre de lignes avec des valeurs nulles dans la colonne sexe : 0\n",
      "Nombre de lignes avec des valeurs nulles dans la colonne taux : 0\n",
      "Nombre de lignes avec des valeurs nulles dans la colonne situationFamiliale : 0\n",
      "Nombre de lignes avec des valeurs nulles dans la colonne nbEnfantsAcharge : 0\n",
      "Nombre de lignes avec des valeurs nulles dans la colonne 2eme voiture : 0\n",
      "Nombre de lignes avec des valeurs nulles dans la colonne immatriculation : 0\n",
      "Nombre total de lignes avec des valeurs nulles dans le DataFrame : 0\n"
     ]
    }
   ],
   "source": [
    "from pyspark.sql import SparkSession\n",
    "from pyspark.sql.functions import col\n",
    "\n",
    "# Créer la session Spark\n",
    "spark = SparkSession.builder \\\n",
    "    .appName(\"Count Null Rows\") \\\n",
    "    .getOrCreate()\n",
    "\n",
    "\n",
    "\n",
    "# Initialiser le compteur\n",
    "total_null_rows = 0\n",
    "\n",
    "# Parcourir toutes les colonnes du DataFrame\n",
    "for col_name in df.columns:\n",
    "    # Compter le nombre de lignes avec des valeurs nulles dans cette colonne\n",
    "    null_rows_count = df.filter(df[col_name].isNull()).count()\n",
    "    # Ajouter au compteur total\n",
    "    total_null_rows += null_rows_count\n",
    "    # Afficher le nombre de lignes avec des valeurs nulles dans cette colonne\n",
    "    print(\"Nombre de lignes avec des valeurs nulles dans la colonne\", col_name, \":\", null_rows_count)\n",
    "\n",
    "# Afficher le nombre total de lignes avec des valeurs nulles dans le DataFrame\n",
    "print(\"Nombre total de lignes avec des valeurs nulles dans le DataFrame :\", total_null_rows)\n"
   ]
  },
  {
   "cell_type": "code",
   "execution_count": 23,
   "id": "de851855-9aaa-4938-b43b-b167758acdbf",
   "metadata": {},
   "outputs": [
    {
     "ename": "NameError",
     "evalue": "name 'cleaned_df' is not defined",
     "output_type": "error",
     "traceback": [
      "\u001b[0;31m---------------------------------------------------------------------------\u001b[0m",
      "\u001b[0;31mNameError\u001b[0m                                 Traceback (most recent call last)",
      "Cell \u001b[0;32mIn[23], line 5\u001b[0m\n\u001b[1;32m      2\u001b[0m output_path \u001b[38;5;241m=\u001b[39m \u001b[38;5;124m\"\u001b[39m\u001b[38;5;124m./Cleaned/Client_15\u001b[39m\u001b[38;5;124m\"\u001b[39m\n\u001b[1;32m      4\u001b[0m \u001b[38;5;66;03m# Save the cleaned DataFrame to a new CSV file\u001b[39;00m\n\u001b[0;32m----> 5\u001b[0m \u001b[43mcleaned_df\u001b[49m\u001b[38;5;241m.\u001b[39mwrite\u001b[38;5;241m.\u001b[39mcsv(output_path, header\u001b[38;5;241m=\u001b[39m\u001b[38;5;28;01mTrue\u001b[39;00m, mode\u001b[38;5;241m=\u001b[39m\u001b[38;5;124m\"\u001b[39m\u001b[38;5;124moverwrite\u001b[39m\u001b[38;5;124m\"\u001b[39m)\n\u001b[1;32m      7\u001b[0m \u001b[38;5;66;03m# Display a message to confirm the save\u001b[39;00m\n\u001b[1;32m      8\u001b[0m \u001b[38;5;28mprint\u001b[39m(\u001b[38;5;124m\"\u001b[39m\u001b[38;5;124mCleaned DataFrame has been saved to:\u001b[39m\u001b[38;5;124m\"\u001b[39m, output_path)\n",
      "\u001b[0;31mNameError\u001b[0m: name 'cleaned_df' is not defined"
     ]
    }
   ],
   "source": [
    "# Define the path for the cleaned CSV file\n",
    "output_path = \"./Cleaned/Client_15\"\n",
    "\n",
    "# Save the cleaned DataFrame to a new CSV file\n",
    "cleaned_df.write.csv(output_path, header=True, mode=\"overwrite\")\n",
    "\n",
    "# Display a message to confirm the save\n",
    "print(\"Cleaned DataFrame has been saved to:\", output_path)"
   ]
  },
  {
   "cell_type": "code",
   "execution_count": 20,
   "id": "1df02ebb-f97a-4204-a824-592465668467",
   "metadata": {},
   "outputs": [
    {
     "data": {
      "text/html": [
       "<table border='1'>\n",
       "<tr><th>age</th><th>sexe</th><th>taux</th><th>situationFamiliale</th><th>nbEnfantsAcharge</th><th>2eme voiture</th><th>immatriculation</th></tr>\n",
       "<tr><td>23</td><td>M</td><td>242</td><td>En Couple</td><td>0</td><td>false</td><td>1134 BL 57</td></tr>\n",
       "<tr><td>23</td><td>M</td><td>547</td><td>En Couple</td><td>2</td><td>false</td><td>7528 VW 49</td></tr>\n",
       "<tr><td>23</td><td>M</td><td>172</td><td>En Couple</td><td>3</td><td>false</td><td>6565 DK 65</td></tr>\n",
       "<tr><td>23</td><td>F</td><td>246</td><td>En Couple</td><td>4</td><td>false</td><td>9959 AK 55</td></tr>\n",
       "<tr><td>23</td><td>F</td><td>444</td><td>Celibataire</td><td>0</td><td>false</td><td>3257 IE 20</td></tr>\n",
       "<tr><td>23</td><td>F</td><td>427</td><td>Celibataire</td><td>0</td><td>false</td><td>985 FB 17</td></tr>\n",
       "<tr><td>23</td><td>M</td><td>1255</td><td>En Couple</td><td>0</td><td>false</td><td>8380 IS 80</td></tr>\n",
       "<tr><td>23</td><td>M</td><td>215</td><td>Celibataire</td><td>0</td><td>false</td><td>6111 IK 72</td></tr>\n",
       "<tr><td>23</td><td>M</td><td>1241</td><td>Celibataire</td><td>0</td><td>false</td><td>9116 LM 92</td></tr>\n",
       "<tr><td>23</td><td>F</td><td>529</td><td>En Couple</td><td>0</td><td>false</td><td>6383 IY 76</td></tr>\n",
       "<tr><td>23</td><td>M</td><td>451</td><td>Celibataire</td><td>0</td><td>false</td><td>2179 WB 91</td></tr>\n",
       "<tr><td>23</td><td>F</td><td>862</td><td>Celibataire</td><td>0</td><td>false</td><td>5437 WI 93</td></tr>\n",
       "<tr><td>23</td><td>M</td><td>447</td><td>En Couple</td><td>2</td><td>false</td><td>280 DM 57</td></tr>\n",
       "<tr><td>23</td><td>F</td><td>759</td><td>En Couple</td><td>0</td><td>false</td><td>7461 TU 12</td></tr>\n",
       "<tr><td>23</td><td>M</td><td>512</td><td>En Couple</td><td>0</td><td>false</td><td>6794 LZ 59</td></tr>\n",
       "<tr><td>23</td><td>F</td><td>223</td><td>En Couple</td><td>4</td><td>true</td><td>8472 YS 23</td></tr>\n",
       "<tr><td>23</td><td>M</td><td>218</td><td>En Couple</td><td>0</td><td>true</td><td>5503 DI 42</td></tr>\n",
       "<tr><td>23</td><td>F</td><td>1360</td><td>Celibataire</td><td>0</td><td>false</td><td>5177 OS 83</td></tr>\n",
       "<tr><td>23</td><td>M</td><td>526</td><td>En Couple</td><td>4</td><td>false</td><td>1314 WP 10</td></tr>\n",
       "<tr><td>23</td><td>M</td><td>209</td><td>En Couple</td><td>1</td><td>false</td><td>612 XF 11</td></tr>\n",
       "</table>\n",
       "only showing top 20 rows\n"
      ],
      "text/plain": [
       "+---+----+----+------------------+----------------+------------+---------------+\n",
       "|age|sexe|taux|situationFamiliale|nbEnfantsAcharge|2eme voiture|immatriculation|\n",
       "+---+----+----+------------------+----------------+------------+---------------+\n",
       "| 23|   M| 242|         En Couple|               0|       false|     1134 BL 57|\n",
       "| 23|   M| 547|         En Couple|               2|       false|     7528 VW 49|\n",
       "| 23|   M| 172|         En Couple|               3|       false|     6565 DK 65|\n",
       "| 23|   F| 246|         En Couple|               4|       false|     9959 AK 55|\n",
       "| 23|   F| 444|       Celibataire|               0|       false|     3257 IE 20|\n",
       "| 23|   F| 427|       Celibataire|               0|       false|      985 FB 17|\n",
       "| 23|   M|1255|         En Couple|               0|       false|     8380 IS 80|\n",
       "| 23|   M| 215|       Celibataire|               0|       false|     6111 IK 72|\n",
       "| 23|   M|1241|       Celibataire|               0|       false|     9116 LM 92|\n",
       "| 23|   F| 529|         En Couple|               0|       false|     6383 IY 76|\n",
       "| 23|   M| 451|       Celibataire|               0|       false|     2179 WB 91|\n",
       "| 23|   F| 862|       Celibataire|               0|       false|     5437 WI 93|\n",
       "| 23|   M| 447|         En Couple|               2|       false|      280 DM 57|\n",
       "| 23|   F| 759|         En Couple|               0|       false|     7461 TU 12|\n",
       "| 23|   M| 512|         En Couple|               0|       false|     6794 LZ 59|\n",
       "| 23|   F| 223|         En Couple|               4|        true|     8472 YS 23|\n",
       "| 23|   M| 218|         En Couple|               0|        true|     5503 DI 42|\n",
       "| 23|   F|1360|       Celibataire|               0|       false|     5177 OS 83|\n",
       "| 23|   M| 526|         En Couple|               4|       false|     1314 WP 10|\n",
       "| 23|   M| 209|         En Couple|               1|       false|      612 XF 11|\n",
       "+---+----+----+------------------+----------------+------------+---------------+\n",
       "only showing top 20 rows"
      ]
     },
     "execution_count": 20,
     "metadata": {},
     "output_type": "execute_result"
    }
   ],
   "source": [
    "filtered_df = df.filter(df['age'] == 23)\n",
    "\n",
    "filtered_df"
   ]
  }
 ],
 "metadata": {
  "kernelspec": {
   "display_name": "Python 3 (ipykernel)",
   "language": "python",
   "name": "python3"
  },
  "language_info": {
   "codemirror_mode": {
    "name": "ipython",
    "version": 3
   },
   "file_extension": ".py",
   "mimetype": "text/x-python",
   "name": "python",
   "nbconvert_exporter": "python",
   "pygments_lexer": "ipython3",
   "version": "3.11.6"
  }
 },
 "nbformat": 4,
 "nbformat_minor": 5
}
