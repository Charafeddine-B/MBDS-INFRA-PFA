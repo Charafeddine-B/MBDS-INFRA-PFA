{
 "cells": [
  {
   "cell_type": "code",
   "execution_count": 7,
   "id": "23d5acf5-04a9-4566-92a1-0f4ed7c72284",
   "metadata": {},
   "outputs": [
    {
     "name": "stdout",
     "output_type": "stream",
     "text": [
      "+---+----+----+------------------+----------------+------------+---------------+\n",
      "|age|sexe|taux|situationFamiliale|nbEnfantsAcharge|2eme voiture|immatriculation|\n",
      "+---+----+----+------------------+----------------+------------+---------------+\n",
      "| 25|   F| 159|         En Couple|               2|       false|     3467 SB 72|\n",
      "| 53|   M| 594|         En Couple|               2|       false|      113 LY 42|\n",
      "| 20|   F| 949|         En Couple|               1|       false|      925 WK 87|\n",
      "| 29|   M| 571|         En Couple|               2|       false|     3279 RV 81|\n",
      "| 47|   M| 502|         En Couple|               1|       false|       82 RZ 54|\n",
      "| 29|   F| 503|         En Couple|               3|       false|     8290 SD 41|\n",
      "| 52|   F| 211|         En Couple|               4|        true|     9339 BW 87|\n",
      "| 58|   M| 536|       C�libataire|               0|       false|     3696 JS 92|\n",
      "| 21|   M| 211|         En Couple|               4|       false|     6484 MS 45|\n",
      "| 42|   M| 176|         En Couple|               2|       false|     9896 TW 50|\n",
      "| 21|   M| 428|         En Couple|               0|        true|     6514 YR 16|\n",
      "| 66|   F| 185|         En Couple|               3|        true|     7622 EH 72|\n",
      "| 54|   M| 562|         En Couple|               4|        true|      467 TY 24|\n",
      "| 41|   M| 555|         En Couple|               1|       false|      909 CW 94|\n",
      "| 63|   M|   ?|         En Couple|               0|       false|     7875 EC 47|\n",
      "| 29|   F| 967|         En Couple|               2|        true|     9037 LB 45|\n",
      "| 46|   F| 152|         En Couple|               3|       false|     4515 MQ 44|\n",
      "| 42|   F| 189|         En Couple|               1|        true|     2348 RP 45|\n",
      "| 43|   F|1034|         En Couple|               4|       false|     2002 FT 62|\n",
      "| 29|   M| 167|         En Couple|               4|        true|     4622 CW 66|\n",
      "+---+----+----+------------------+----------------+------------+---------------+\n",
      "only showing top 20 rows\n",
      "\n"
     ]
    }
   ],
   "source": [
    "# Import SparkSession\n",
    "from pyspark.sql import SparkSession\n",
    "from pyspark.sql.functions import col, regexp_replace\n",
    "from pyspark.sql.functions import when\n",
    "\n",
    "# Create SparkSession\n",
    "spark = SparkSession.builder \\\n",
    "    .appName(\"Read CSV Clients_6\") \\\n",
    "    .getOrCreate()\n",
    "\n",
    "# Read CSV into DataFrame\n",
    "df = spark.read.csv(\"./data/Clients_6.csv\", header=True, inferSchema=True)\n",
    "\n",
    "# Display DataFrame\n",
    "df.show()\n"
   ]
  },
  {
   "cell_type": "code",
   "execution_count": 8,
   "id": "a2704db2-38b5-4f22-b368-c8f740ab888b",
   "metadata": {},
   "outputs": [
    {
     "name": "stdout",
     "output_type": "stream",
     "text": [
      "+---+----+----+------------------+----------------+------------+---------------+\n",
      "|age|sexe|taux|situationFamiliale|nbEnfantsAcharge|2eme voiture|immatriculation|\n",
      "+---+----+----+------------------+----------------+------------+---------------+\n",
      "| 25|   F| 159|         En Couple|               2|       false|     3467 SB 72|\n",
      "| 53|   M| 594|         En Couple|               2|       false|      113 LY 42|\n",
      "| 20|   F| 949|         En Couple|               1|       false|      925 WK 87|\n",
      "| 29|   M| 571|         En Couple|               2|       false|     3279 RV 81|\n",
      "| 47|   M| 502|         En Couple|               1|       false|       82 RZ 54|\n",
      "| 29|   F| 503|         En Couple|               3|       false|     8290 SD 41|\n",
      "| 52|   F| 211|         En Couple|               4|        true|     9339 BW 87|\n",
      "| 58|   M| 536|       Celibataire|               0|       false|     3696 JS 92|\n",
      "| 21|   M| 211|         En Couple|               4|       false|     6484 MS 45|\n",
      "| 42|   M| 176|         En Couple|               2|       false|     9896 TW 50|\n",
      "| 21|   M| 428|         En Couple|               0|        true|     6514 YR 16|\n",
      "| 66|   F| 185|         En Couple|               3|        true|     7622 EH 72|\n",
      "| 54|   M| 562|         En Couple|               4|        true|      467 TY 24|\n",
      "| 41|   M| 555|         En Couple|               1|       false|      909 CW 94|\n",
      "| 63|   M|   ?|         En Couple|               0|       false|     7875 EC 47|\n",
      "| 29|   F| 967|         En Couple|               2|        true|     9037 LB 45|\n",
      "| 46|   F| 152|         En Couple|               3|       false|     4515 MQ 44|\n",
      "| 42|   F| 189|         En Couple|               1|        true|     2348 RP 45|\n",
      "| 43|   F|1034|         En Couple|               4|       false|     2002 FT 62|\n",
      "| 29|   M| 167|         En Couple|               4|        true|     4622 CW 66|\n",
      "+---+----+----+------------------+----------------+------------+---------------+\n",
      "only showing top 20 rows\n",
      "\n"
     ]
    }
   ],
   "source": [
    "from pyspark.sql.functions import when\n",
    "\n",
    "# Define the DataFrame with replacements\n",
    "df = df.withColumn(\"situationFamiliale\", regexp_replace(col(\"situationFamiliale\"), \"�\", \"e\")) \\\n",
    "               .withColumn(\"sexe\", \n",
    "                           when(col(\"sexe\").rlike(\"Homme|Masculin\"), \"M\")\n",
    "                           .when(col(\"sexe\").rlike(\"Femme|F�minin\"), \"F\")\n",
    "                           .otherwise(col(\"sexe\")))\n",
    "                \n",
    "                \n",
    "\n",
    "# Display the cleaned DataFrame\n",
    "df.show()"
   ]
  },
  {
   "cell_type": "code",
   "execution_count": 9,
   "id": "32adb6c7-ed51-468a-9ff0-1f62d0618606",
   "metadata": {},
   "outputs": [
    {
     "name": "stdout",
     "output_type": "stream",
     "text": [
      "Cleaned DataFrame has been saved to: ./Cleaned/Client6/\n"
     ]
    }
   ],
   "source": [
    "# Define the path for the cleaned CSV file\n",
    "output_path = \"./Cleaned/Client6/\"\n",
    "\n",
    "# Save the cleaned DataFrame to a new CSV file\n",
    "df.write.csv(output_path, header=True, mode=\"overwrite\")\n",
    "\n",
    "# Display a message to confirm the save\n",
    "print(\"Cleaned DataFrame has been saved to:\", output_path)"
   ]
  },
  {
   "cell_type": "code",
   "execution_count": 2,
   "id": "a2caca66-5090-4843-b709-050e058ba2b6",
   "metadata": {},
   "outputs": [
    {
     "ename": "NameError",
     "evalue": "name 'df' is not defined",
     "output_type": "error",
     "traceback": [
      "\u001b[0;31m---------------------------------------------------------------------------\u001b[0m",
      "\u001b[0;31mNameError\u001b[0m                                 Traceback (most recent call last)",
      "Cell \u001b[0;32mIn[2], line 4\u001b[0m\n\u001b[1;32m      1\u001b[0m \u001b[38;5;28;01mfrom\u001b[39;00m \u001b[38;5;21;01mpyspark\u001b[39;00m\u001b[38;5;21;01m.\u001b[39;00m\u001b[38;5;21;01msql\u001b[39;00m\u001b[38;5;21;01m.\u001b[39;00m\u001b[38;5;21;01mfunctions\u001b[39;00m \u001b[38;5;28;01mimport\u001b[39;00m col\n\u001b[1;32m      3\u001b[0m \u001b[38;5;66;03m# Iterate over each column\u001b[39;00m\n\u001b[0;32m----> 4\u001b[0m \u001b[38;5;28;01mfor\u001b[39;00m column_name \u001b[38;5;129;01min\u001b[39;00m \u001b[43mdf\u001b[49m\u001b[38;5;241m.\u001b[39mcolumns:\n\u001b[1;32m      5\u001b[0m     \u001b[38;5;66;03m# Filter rows with null or empty values in the column\u001b[39;00m\n\u001b[1;32m      6\u001b[0m     empty_values_df \u001b[38;5;241m=\u001b[39m df\u001b[38;5;241m.\u001b[39mfilter((col(column_name) \u001b[38;5;241m==\u001b[39m \u001b[38;5;124m\"\u001b[39m\u001b[38;5;124m\"\u001b[39m) \u001b[38;5;241m|\u001b[39m col(column_name)\u001b[38;5;241m.\u001b[39misNull())\n\u001b[1;32m      8\u001b[0m     \u001b[38;5;66;03m# Check if there are any empty values in the column\u001b[39;00m\n",
      "\u001b[0;31mNameError\u001b[0m: name 'df' is not defined"
     ]
    }
   ],
   "source": [
    "from pyspark.sql.functions import col\n",
    "\n",
    "# Iterate over each column\n",
    "for column_name in df.columns:\n",
    "    # Filter rows with null or empty values in the column\n",
    "    empty_values_df = df.filter((col(column_name) == \"\") | col(column_name).isNull())\n",
    "    \n",
    "    # Check if there are any empty values in the column\n",
    "    if empty_values_df.count() > 0:\n",
    "        print(\"There are empty values in the column:\", column_name)\n",
    "        # Display the rows with empty values\n",
    "        empty_values_df.show()\n",
    "    else:\n",
    "        print(\"There are no empty values in the column:\", column_name)\n"
   ]
  },
  {
   "cell_type": "code",
   "execution_count": 63,
   "id": "a4b22922-df88-477c-875d-8f7e27cfc665",
   "metadata": {},
   "outputs": [
    {
     "name": "stdout",
     "output_type": "stream",
     "text": [
      "Nombre de lignes avec des valeurs nulles dans la colonne age : 0\n",
      "Nombre de lignes avec des valeurs nulles dans la colonne sexe : 0\n",
      "Nombre de lignes avec des valeurs nulles dans la colonne taux : 0\n",
      "Nombre de lignes avec des valeurs nulles dans la colonne situationFamiliale : 0\n",
      "Nombre de lignes avec des valeurs nulles dans la colonne nbEnfantsAcharge : 0\n",
      "Nombre de lignes avec des valeurs nulles dans la colonne 2eme voiture : 0\n",
      "Nombre de lignes avec des valeurs nulles dans la colonne immatriculation : 0\n",
      "Nombre total de lignes avec des valeurs nulles dans le DataFrame : 0\n"
     ]
    }
   ],
   "source": [
    "from pyspark.sql import SparkSession\n",
    "from pyspark.sql.functions import col\n",
    "\n",
    "# Créer la session Spark\n",
    "spark = SparkSession.builder \\\n",
    "    .appName(\"Count Null Rows\") \\\n",
    "    .getOrCreate()\n",
    "\n",
    "\n",
    "\n",
    "# Initialiser le compteur\n",
    "total_null_rows = 0\n",
    "\n",
    "# Parcourir toutes les colonnes du DataFrame\n",
    "for col_name in df.columns:\n",
    "    # Compter le nombre de lignes avec des valeurs nulles dans cette colonne\n",
    "    null_rows_count = df.filter(df[col_name].isNull()).count()\n",
    "    # Ajouter au compteur total\n",
    "    total_null_rows += null_rows_count\n",
    "    # Afficher le nombre de lignes avec des valeurs nulles dans cette colonne\n",
    "    print(\"Nombre de lignes avec des valeurs nulles dans la colonne\", col_name, \":\", null_rows_count)\n",
    "\n",
    "# Afficher le nombre total de lignes avec des valeurs nulles dans le DataFrame\n",
    "print(\"Nombre total de lignes avec des valeurs nulles dans le DataFrame :\", total_null_rows)\n"
   ]
  },
  {
   "cell_type": "code",
   "execution_count": 1,
   "id": "cbb201f4-b061-48ae-a1cf-fa07c51088de",
   "metadata": {},
   "outputs": [
    {
     "ename": "NameError",
     "evalue": "name 'df' is not defined",
     "output_type": "error",
     "traceback": [
      "\u001b[0;31m---------------------------------------------------------------------------\u001b[0m",
      "\u001b[0;31mNameError\u001b[0m                                 Traceback (most recent call last)",
      "Cell \u001b[0;32mIn[1], line 1\u001b[0m\n\u001b[0;32m----> 1\u001b[0m \u001b[43mdf\u001b[49m\u001b[38;5;241m.\u001b[39mshow()\n",
      "\u001b[0;31mNameError\u001b[0m: name 'df' is not defined"
     ]
    }
   ],
   "source": [
    "df.show()"
   ]
  },
  {
   "cell_type": "code",
   "execution_count": 64,
   "id": "59fa3cc2-fd21-4130-8850-638a8a13bec4",
   "metadata": {},
   "outputs": [
    {
     "name": "stdout",
     "output_type": "stream",
     "text": [
      "+---+----+----+------------------+----------------+------------+---------------+\n",
      "|age|sexe|taux|situationFamiliale|nbEnfantsAcharge|2eme voiture|immatriculation|\n",
      "+---+----+----+------------------+----------------+------------+---------------+\n",
      "| 25|   F| 159|         En Couple|               2|       false|     3467 SB 72|\n",
      "| 53|   M| 594|         En Couple|               2|       false|      113 LY 42|\n",
      "| 20|   F| 949|         En Couple|               1|       false|      925 WK 87|\n",
      "| 29|   M| 571|         En Couple|               2|       false|     3279 RV 81|\n",
      "| 47|   M| 502|         En Couple|               1|       false|       82 RZ 54|\n",
      "| 29|   F| 503|         En Couple|               3|       false|     8290 SD 41|\n",
      "| 52|   F| 211|         En Couple|               4|        true|     9339 BW 87|\n",
      "| 58|   M| 536|       Celibataire|               0|       false|     3696 JS 92|\n",
      "| 21|   M| 211|         En Couple|               4|       false|     6484 MS 45|\n",
      "| 42|   M| 176|         En Couple|               2|       false|     9896 TW 50|\n",
      "| 21|   M| 428|         En Couple|               0|        true|     6514 YR 16|\n",
      "| 66|   F| 185|         En Couple|               3|        true|     7622 EH 72|\n",
      "| 54|   M| 562|         En Couple|               4|        true|      467 TY 24|\n",
      "| 41|   M| 555|         En Couple|               1|       false|      909 CW 94|\n",
      "| 63|   M|   ?|         En Couple|               0|       false|     7875 EC 47|\n",
      "| 29|   F| 967|         En Couple|               2|        true|     9037 LB 45|\n",
      "| 46|   F| 152|         En Couple|               3|       false|     4515 MQ 44|\n",
      "| 42|   F| 189|         En Couple|               1|        true|     2348 RP 45|\n",
      "| 43|   F|1034|         En Couple|               4|       false|     2002 FT 62|\n",
      "| 29|   M| 167|         En Couple|               4|        true|     4622 CW 66|\n",
      "+---+----+----+------------------+----------------+------------+---------------+\n",
      "only showing top 20 rows\n",
      "\n"
     ]
    }
   ],
   "source": [
    "# Define a regular expression pattern to replace é with e\n",
    "df = df.withColumn(\"situationFamiliale\", regexp_replace(col(\"situationFamiliale\"), \"�\", \"e\"))\n",
    "\n",
    "# Display the cleaned DataFrame\n",
    "df.show()"
   ]
  },
  {
   "cell_type": "code",
   "execution_count": 65,
   "id": "2568a31b-f497-4071-9134-d5cbf7b21ac5",
   "metadata": {},
   "outputs": [
    {
     "name": "stdout",
     "output_type": "stream",
     "text": [
      "Nombre de lignes avec des valeurs nulles dans la colonne age : 0\n",
      "Nombre de lignes avec des valeurs nulles dans la colonne sexe : 0\n",
      "Nombre de lignes avec des valeurs nulles dans la colonne taux : 0\n",
      "Nombre de lignes avec des valeurs nulles dans la colonne situationFamiliale : 0\n",
      "Nombre de lignes avec des valeurs nulles dans la colonne nbEnfantsAcharge : 0\n",
      "Nombre de lignes avec des valeurs nulles dans la colonne 2eme voiture : 0\n",
      "Nombre de lignes avec des valeurs nulles dans la colonne immatriculation : 0\n",
      "Nombre total de lignes avec des valeurs nulles dans le DataFrame : 0\n"
     ]
    }
   ],
   "source": [
    "from pyspark.sql import SparkSession\n",
    "from pyspark.sql.functions import col\n",
    "\n",
    "# Créer la session Spark\n",
    "spark = SparkSession.builder \\\n",
    "    .appName(\"Count Null Rows\") \\\n",
    "    .getOrCreate()\n",
    "\n",
    "\n",
    "\n",
    "# Initialiser le compteur\n",
    "total_null_rows = 0\n",
    "\n",
    "# Parcourir toutes les colonnes du DataFrame\n",
    "for col_name in df.columns:\n",
    "    # Compter le nombre de lignes avec des valeurs nulles dans cette colonne\n",
    "    null_rows_count = df.filter(df[col_name].isNull()).count()\n",
    "    # Ajouter au compteur total\n",
    "    total_null_rows += null_rows_count\n",
    "    # Afficher le nombre de lignes avec des valeurs nulles dans cette colonne\n",
    "    print(\"Nombre de lignes avec des valeurs nulles dans la colonne\", col_name, \":\", null_rows_count)\n",
    "\n",
    "# Afficher le nombre total de lignes avec des valeurs nulles dans le DataFrame\n",
    "print(\"Nombre total de lignes avec des valeurs nulles dans le DataFrame :\", total_null_rows)\n"
   ]
  },
  {
   "cell_type": "code",
   "execution_count": 66,
   "id": "51217567-d803-4b6d-967f-99fd80d6182b",
   "metadata": {},
   "outputs": [
    {
     "name": "stdout",
     "output_type": "stream",
     "text": [
      "DataFrame après remplacement des valeurs nulles :\n",
      "+---+----+----+------------------+----------------+------------+---------------+\n",
      "|age|sexe|taux|situationFamiliale|nbEnfantsAcharge|2eme voiture|immatriculation|\n",
      "+---+----+----+------------------+----------------+------------+---------------+\n",
      "| 25|   F| 159|         En Couple|               2|       false|     3467 SB 72|\n",
      "| 53|   M| 594|         En Couple|               2|       false|      113 LY 42|\n",
      "| 20|   F| 949|         En Couple|               1|       false|      925 WK 87|\n",
      "| 29|   M| 571|         En Couple|               2|       false|     3279 RV 81|\n",
      "| 47|   M| 502|         En Couple|               1|       false|       82 RZ 54|\n",
      "| 29|   F| 503|         En Couple|               3|       false|     8290 SD 41|\n",
      "| 52|   F| 211|         En Couple|               4|        true|     9339 BW 87|\n",
      "| 58|   M| 536|       Celibataire|               0|       false|     3696 JS 92|\n",
      "| 21|   M| 211|         En Couple|               4|       false|     6484 MS 45|\n",
      "| 42|   M| 176|         En Couple|               2|       false|     9896 TW 50|\n",
      "| 21|   M| 428|         En Couple|               0|        true|     6514 YR 16|\n",
      "| 66|   F| 185|         En Couple|               3|        true|     7622 EH 72|\n",
      "| 54|   M| 562|         En Couple|               4|        true|      467 TY 24|\n",
      "| 41|   M| 555|         En Couple|               1|       false|      909 CW 94|\n",
      "| 63|   M|   ?|         En Couple|               0|       false|     7875 EC 47|\n",
      "| 29|   F| 967|         En Couple|               2|        true|     9037 LB 45|\n",
      "| 46|   F| 152|         En Couple|               3|       false|     4515 MQ 44|\n",
      "| 42|   F| 189|         En Couple|               1|        true|     2348 RP 45|\n",
      "| 43|   F|1034|         En Couple|               4|       false|     2002 FT 62|\n",
      "| 29|   M| 167|         En Couple|               4|        true|     4622 CW 66|\n",
      "+---+----+----+------------------+----------------+------------+---------------+\n",
      "only showing top 20 rows\n",
      "\n"
     ]
    }
   ],
   "source": [
    "# Remplacer les valeurs nulles dans la colonne 'immatriculation' par '3467 SB 72|'\n",
    "df = df.fillna({'immatriculation': '3467 SB 72'})\n",
    "\n",
    "# Afficher le DataFrame après remplacement\n",
    "print(\"DataFrame après remplacement des valeurs nulles :\")\n",
    "df.show()"
   ]
  },
  {
   "cell_type": "code",
   "execution_count": 67,
   "id": "2c330112-84d3-4785-9665-f21db61d18aa",
   "metadata": {},
   "outputs": [
    {
     "name": "stdout",
     "output_type": "stream",
     "text": [
      "DataFrame après remplacement de '?' par '167' :\n",
      "+---+----+----+------------------+----------------+------------+---------------+\n",
      "|age|sexe|taux|situationFamiliale|nbEnfantsAcharge|2eme voiture|immatriculation|\n",
      "+---+----+----+------------------+----------------+------------+---------------+\n",
      "| 25|   F| 159|         En Couple|               2|       false|     3467 SB 72|\n",
      "| 53|   M| 594|         En Couple|               2|       false|      113 LY 42|\n",
      "| 20|   F| 949|         En Couple|               1|       false|      925 WK 87|\n",
      "| 29|   M| 571|         En Couple|               2|       false|     3279 RV 81|\n",
      "| 47|   M| 502|         En Couple|               1|       false|       82 RZ 54|\n",
      "| 29|   F| 503|         En Couple|               3|       false|     8290 SD 41|\n",
      "| 52|   F| 211|         En Couple|               4|        true|     9339 BW 87|\n",
      "| 58|   M| 536|       Celibataire|               0|       false|     3696 JS 92|\n",
      "| 21|   M| 211|         En Couple|               4|       false|     6484 MS 45|\n",
      "| 42|   M| 176|         En Couple|               2|       false|     9896 TW 50|\n",
      "| 21|   M| 428|         En Couple|               0|        true|     6514 YR 16|\n",
      "| 66|   F| 185|         En Couple|               3|        true|     7622 EH 72|\n",
      "| 54|   M| 562|         En Couple|               4|        true|      467 TY 24|\n",
      "| 41|   M| 555|         En Couple|               1|       false|      909 CW 94|\n",
      "| 63|   M| 167|         En Couple|               0|       false|     7875 EC 47|\n",
      "| 29|   F| 967|         En Couple|               2|        true|     9037 LB 45|\n",
      "| 46|   F| 152|         En Couple|               3|       false|     4515 MQ 44|\n",
      "| 42|   F| 189|         En Couple|               1|        true|     2348 RP 45|\n",
      "| 43|   F|1034|         En Couple|               4|       false|     2002 FT 62|\n",
      "| 29|   M| 167|         En Couple|               4|        true|     4622 CW 66|\n",
      "+---+----+----+------------------+----------------+------------+---------------+\n",
      "only showing top 20 rows\n",
      "\n"
     ]
    }
   ],
   "source": [
    "# Remplacer la valeur '?' par '167' dans la colonne 'taux'\n",
    "df = df.withColumn(\"taux\", regexp_replace(\"taux\", \"\\\\?\", \"167\"))\n",
    "\n",
    "# Afficher le DataFrame après remplacement\n",
    "print(\"DataFrame après remplacement de '?' par '167' :\")\n",
    "df.show()"
   ]
  },
  {
   "cell_type": "code",
   "execution_count": 68,
   "id": "b8a15631-97d3-4e88-a7d6-d1fb1197019f",
   "metadata": {},
   "outputs": [
    {
     "name": "stdout",
     "output_type": "stream",
     "text": [
      "Nombre de lignes avec des valeurs nulles dans la colonne age : 0\n",
      "Nombre de lignes avec des valeurs nulles dans la colonne sexe : 0\n",
      "Nombre de lignes avec des valeurs nulles dans la colonne taux : 0\n",
      "Nombre de lignes avec des valeurs nulles dans la colonne situationFamiliale : 0\n",
      "Nombre de lignes avec des valeurs nulles dans la colonne nbEnfantsAcharge : 0\n",
      "Nombre de lignes avec des valeurs nulles dans la colonne 2eme voiture : 0\n",
      "Nombre de lignes avec des valeurs nulles dans la colonne immatriculation : 0\n",
      "Nombre total de lignes avec des valeurs nulles dans le DataFrame : 0\n"
     ]
    }
   ],
   "source": [
    "from pyspark.sql import SparkSession\n",
    "from pyspark.sql.functions import col\n",
    "\n",
    "# Créer la session Spark\n",
    "spark = SparkSession.builder \\\n",
    "    .appName(\"Count Null Rows\") \\\n",
    "    .getOrCreate()\n",
    "\n",
    "\n",
    "\n",
    "# Initialiser le compteur\n",
    "total_null_rows = 0\n",
    "\n",
    "# Parcourir toutes les colonnes du DataFrame\n",
    "for col_name in df.columns:\n",
    "    # Compter le nombre de lignes avec des valeurs nulles dans cette colonne\n",
    "    null_rows_count = df.filter(df[col_name].isNull()).count()\n",
    "    # Ajouter au compteur total\n",
    "    total_null_rows += null_rows_count\n",
    "    # Afficher le nombre de lignes avec des valeurs nulles dans cette colonne\n",
    "    print(\"Nombre de lignes avec des valeurs nulles dans la colonne\", col_name, \":\", null_rows_count)\n",
    "\n",
    "# Afficher le nombre total de lignes avec des valeurs nulles dans le DataFrame\n",
    "print(\"Nombre total de lignes avec des valeurs nulles dans le DataFrame :\", total_null_rows)\n"
   ]
  },
  {
   "cell_type": "code",
   "execution_count": 69,
   "id": "3f06a858-fa3b-4d7e-ac9d-945d92c22db1",
   "metadata": {},
   "outputs": [
    {
     "name": "stdout",
     "output_type": "stream",
     "text": [
      "+---+----+----+--------------------+----------------+------------+---------------+\n",
      "|age|sexe|taux|  situationFamiliale|nbEnfantsAcharge|2eme voiture|immatriculation|\n",
      "+---+----+----+--------------------+----------------+------------+---------------+\n",
      "| 25| MFM| 159|En CoupleEEn Coup...|               2|       false|     3467 SB 72|\n",
      "| 53| MFM| 594|En CoupleEEn Coup...|               2|       false|      113 LY 42|\n",
      "| 20| MFM| 949|En CoupleEEn Coup...|               1|       false|      925 WK 87|\n",
      "| 29| MFM| 571|En CoupleEEn Coup...|               2|       false|     3279 RV 81|\n",
      "| 47| MFM| 502|En CoupleEEn Coup...|               1|       false|       82 RZ 54|\n",
      "| 29| MFM| 503|En CoupleEEn Coup...|               3|       false|     8290 SD 41|\n",
      "| 52| MFM| 211|En CoupleEEn Coup...|               4|        true|     9339 BW 87|\n",
      "| 58| MFM| 536|En CoupleCEn Coup...|               0|       false|     3696 JS 92|\n",
      "| 21| MFM| 211|En CoupleEEn Coup...|               4|       false|     6484 MS 45|\n",
      "| 42| MFM| 176|En CoupleEEn Coup...|               2|       false|     9896 TW 50|\n",
      "| 21| MFM| 428|En CoupleEEn Coup...|               0|        true|     6514 YR 16|\n",
      "| 66| MFM| 185|En CoupleEEn Coup...|               3|        true|     7622 EH 72|\n",
      "| 54| MFM| 562|En CoupleEEn Coup...|               4|        true|      467 TY 24|\n",
      "| 41| MFM| 555|En CoupleEEn Coup...|               1|       false|      909 CW 94|\n",
      "| 63| MFM| 167|En CoupleEEn Coup...|               0|       false|     7875 EC 47|\n",
      "| 29| MFM| 967|En CoupleEEn Coup...|               2|        true|     9037 LB 45|\n",
      "| 46| MFM| 152|En CoupleEEn Coup...|               3|       false|     4515 MQ 44|\n",
      "| 42| MFM| 189|En CoupleEEn Coup...|               1|        true|     2348 RP 45|\n",
      "| 43| MFM|1034|En CoupleEEn Coup...|               4|       false|     2002 FT 62|\n",
      "| 29| MFM| 167|En CoupleEEn Coup...|               4|        true|     4622 CW 66|\n",
      "+---+----+----+--------------------+----------------+------------+---------------+\n",
      "only showing top 20 rows\n",
      "\n"
     ]
    }
   ],
   "source": [
    "from pyspark.sql.functions import when, regexp_replace, col\n",
    "\n",
    "# Define the DataFrame with replacements\n",
    "df = df.withColumn(\"situationFamiliale\", regexp_replace(col(\"situationFamiliale\"), \"�\", \"e\")) \\\n",
    "               .withColumn(\"sexe\", \n",
    "                           when(col(\"sexe\").rlike(\"Homme|Masculin\"), \"M\")\n",
    "                           .when(col(\"sexe\").rlike(\"Femme|F�minin\"), \"F\")\n",
    "                           .when(col(\"sexe\").rlike(\"\"), \"F\")\n",
    "                           .when(col(\"sexe\").rlike(\"\"), \"F\")\n",
    "                           .otherwise(col(\"sexe\")))\n",
    "\n",
    "#df = df.withColumn(\"situationFamiliale\", regexp_replace(col(\"situationFamiliale\"), \"\\\\?\", \"En Couple\"))  # Escape '?' with '\\\\'\n",
    "df = df.withColumn(\"situationFamiliale\", regexp_replace(col(\"situationFamiliale\"), \"\", \"En Couple\"))\n",
    "df = df.withColumn(\"situationFamiliale\", regexp_replace(col(\"situationFamiliale\"), \"N/D\", \"En Couple\"))\n",
    "                \n",
    "df = df.withColumn(\"sexe\", regexp_replace(col(\"sexe\"), \"N/D\", \"F\"))\n",
    "df = df.withColumn(\"sexe\", regexp_replace(col(\"sexe\"), \"\", \"M\"))\n",
    "\n",
    "# Display the cleaned DataFrame\n",
    "df.show()\n"
   ]
  },
  {
   "cell_type": "code",
   "execution_count": 70,
   "id": "379f7d59-8fe5-4da1-b54e-556e0220c7d6",
   "metadata": {},
   "outputs": [
    {
     "name": "stdout",
     "output_type": "stream",
     "text": [
      "Cleaned DataFrame has been saved to: ./Cleaned/Client6.csv\n"
     ]
    }
   ],
   "source": [
    "# Define the path for the cleaned CSV file\n",
    "output_path = \"./Cleaned/Client6.csv\"\n",
    "\n",
    "# Save the cleaned DataFrame to a new CSV file\n",
    "df.write.csv(output_path, header=True, mode=\"overwrite\")\n",
    "\n",
    "# Display a message to confirm the save\n",
    "print(\"Cleaned DataFrame has been saved to:\", output_path)"
   ]
  },
  {
   "cell_type": "code",
   "execution_count": 80,
   "id": "63c8d581-fc82-4e51-bcb2-a45fdf83e2cd",
   "metadata": {},
   "outputs": [],
   "source": [
    "from pyspark.sql import SparkSession\n",
    "from pyspark.sql.functions import when\n",
    "\n",
    "# Initialisation de la session Spark\n",
    "spark = SparkSession.builder \\\n",
    "    .appName(\"Remplissage des valeurs vides dans la colonne 'age'\") \\\n",
    "    .getOrCreate()\n",
    "\n",
    "# Chargement du DataFrame depuis le fichier CSV\n",
    "df = spark.read.csv(\"Cleaned/Client6.csv\", header=True, inferSchema=True)\n",
    "\n",
    "# Remplacer les valeurs vides dans la colonne \"age\" par des valeurs numériques entre 20 et 60\n",
    "df_filled = df.withColumn(\"age\", when(df[\"age\"].isNull(), random.randint(20, 60)).otherwise(df[\"age\"]))\n",
    "\n",
    "# Maintenant, df_filled contient les valeurs remplacées\n"
   ]
  },
  {
   "cell_type": "code",
   "execution_count": 78,
   "id": "0ee65caa-fc12-4f56-9cee-136782c17468",
   "metadata": {},
   "outputs": [
    {
     "name": "stdout",
     "output_type": "stream",
     "text": [
      "+---+----+----+--------------------+----------------+------------+---------------+\n",
      "|age|sexe|taux|  situationFamiliale|nbEnfantsAcharge|2eme voiture|immatriculation|\n",
      "+---+----+----+--------------------+----------------+------------+---------------+\n",
      "| 25| MFM| 159|En CoupleEEn Coup...|               2|       false|     3467 SB 72|\n",
      "| 53| MFM| 594|En CoupleEEn Coup...|               2|       false|      113 LY 42|\n",
      "| 20| MFM| 949|En CoupleEEn Coup...|               1|       false|      925 WK 87|\n",
      "| 29| MFM| 571|En CoupleEEn Coup...|               2|       false|     3279 RV 81|\n",
      "| 47| MFM| 502|En CoupleEEn Coup...|               1|       false|       82 RZ 54|\n",
      "| 29| MFM| 503|En CoupleEEn Coup...|               3|       false|     8290 SD 41|\n",
      "| 52| MFM| 211|En CoupleEEn Coup...|               4|        true|     9339 BW 87|\n",
      "| 58| MFM| 536|En CoupleCEn Coup...|               0|       false|     3696 JS 92|\n",
      "| 21| MFM| 211|En CoupleEEn Coup...|               4|       false|     6484 MS 45|\n",
      "| 42| MFM| 176|En CoupleEEn Coup...|               2|       false|     9896 TW 50|\n",
      "| 21| MFM| 428|En CoupleEEn Coup...|               0|        true|     6514 YR 16|\n",
      "| 66| MFM| 185|En CoupleEEn Coup...|               3|        true|     7622 EH 72|\n",
      "| 54| MFM| 562|En CoupleEEn Coup...|               4|        true|      467 TY 24|\n",
      "| 41| MFM| 555|En CoupleEEn Coup...|               1|       false|      909 CW 94|\n",
      "| 63| MFM| 167|En CoupleEEn Coup...|               0|       false|     7875 EC 47|\n",
      "| 29| MFM| 967|En CoupleEEn Coup...|               2|        true|     9037 LB 45|\n",
      "| 46| MFM| 152|En CoupleEEn Coup...|               3|       false|     4515 MQ 44|\n",
      "| 42| MFM| 189|En CoupleEEn Coup...|               1|        true|     2348 RP 45|\n",
      "| 43| MFM|1034|En CoupleEEn Coup...|               4|       false|     2002 FT 62|\n",
      "| 29| MFM| 167|En CoupleEEn Coup...|               4|        true|     4622 CW 66|\n",
      "+---+----+----+--------------------+----------------+------------+---------------+\n",
      "only showing top 20 rows\n",
      "\n"
     ]
    }
   ],
   "source": [
    "df_filled.show()"
   ]
  }
 ],
 "metadata": {
  "kernelspec": {
   "display_name": "Python 3 (ipykernel)",
   "language": "python",
   "name": "python3"
  },
  "language_info": {
   "codemirror_mode": {
    "name": "ipython",
    "version": 3
   },
   "file_extension": ".py",
   "mimetype": "text/x-python",
   "name": "python",
   "nbconvert_exporter": "python",
   "pygments_lexer": "ipython3",
   "version": "3.11.6"
  }
 },
 "nbformat": 4,
 "nbformat_minor": 5
}
