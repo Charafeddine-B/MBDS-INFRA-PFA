{
 "cells": [
  {
   "cell_type": "code",
   "execution_count": 1,
   "id": "b77aff90-9777-49dd-9999-ecff1c2b531e",
   "metadata": {},
   "outputs": [
    {
     "name": "stdout",
     "output_type": "stream",
     "text": [
      "+---+----+----+------------------+----------------+------------+\n",
      "|age|sexe|taux|situationFamiliale|nbEnfantsAcharge|2eme voiture|\n",
      "+---+----+----+------------------+----------------+------------+\n",
      "| 21|   F|1396|       C�libataire|               0|       false|\n",
      "| 35|   M| 223|       C�libataire|               0|       false|\n",
      "| 48|   M| 401|       C�libataire|               0|       false|\n",
      "| 26|   F| 420|         En Couple|               3|        true|\n",
      "| 80|   M| 530|         En Couple|               3|       false|\n",
      "| 27|   F| 153|         En Couple|               2|       false|\n",
      "| 59|   F| 572|         En Couple|               2|       false|\n",
      "| 43|   F| 431|       C�libataire|               0|       false|\n",
      "| 64|   M| 559|       C�libataire|               0|       false|\n",
      "| 22|   M| 154|         En Couple|               1|       false|\n",
      "| 79|   F| 981|         En Couple|               2|       false|\n",
      "| 55|   M| 588|       C�libataire|               0|       false|\n",
      "| 19|   F| 212|       C�libataire|               0|       false|\n",
      "| 34|   F|1112|         En Couple|               0|       false|\n",
      "| 60|   M| 524|         En Couple|               0|        true|\n",
      "| 22|   M| 411|         En Couple|               3|        true|\n",
      "| 58|   M|1192|         En Couple|               0|       false|\n",
      "| 54|   F| 452|         En Couple|               3|        true|\n",
      "| 35|   M| 589|       C�libataire|               0|       false|\n",
      "| 59|   M| 748|         En Couple|               0|        true|\n",
      "+---+----+----+------------------+----------------+------------+\n",
      "\n"
     ]
    }
   ],
   "source": [
    "# Import SparkSession\n",
    "from pyspark.sql import SparkSession\n",
    "from pyspark.sql.functions import col, regexp_replace\n",
    "\n",
    "# Create SparkSession\n",
    "spark = SparkSession.builder \\\n",
    "    .appName(\"Read CSV Marketing\") \\\n",
    "    .getOrCreate()\n",
    "\n",
    "# Read CSV into DataFrame\n",
    "df = spark.read.csv(\"./data/Marketing.csv\", header=True, inferSchema=True)\n",
    "\n",
    "# Display DataFrame\n",
    "df.show()"
   ]
  },
  {
   "cell_type": "code",
   "execution_count": 2,
   "id": "dcb2ded1-9456-4138-814d-2c1640586a19",
   "metadata": {},
   "outputs": [
    {
     "name": "stdout",
     "output_type": "stream",
     "text": [
      "+---+----+----+------------------+----------------+------------+\n",
      "|age|sexe|taux|situationFamiliale|nbEnfantsAcharge|2eme voiture|\n",
      "+---+----+----+------------------+----------------+------------+\n",
      "| 21|   F|1396|       Celibataire|               0|       false|\n",
      "| 35|   M| 223|       Celibataire|               0|       false|\n",
      "| 48|   M| 401|       Celibataire|               0|       false|\n",
      "| 26|   F| 420|         En Couple|               3|        true|\n",
      "| 80|   M| 530|         En Couple|               3|       false|\n",
      "| 27|   F| 153|         En Couple|               2|       false|\n",
      "| 59|   F| 572|         En Couple|               2|       false|\n",
      "| 43|   F| 431|       Celibataire|               0|       false|\n",
      "| 64|   M| 559|       Celibataire|               0|       false|\n",
      "| 22|   M| 154|         En Couple|               1|       false|\n",
      "| 79|   F| 981|         En Couple|               2|       false|\n",
      "| 55|   M| 588|       Celibataire|               0|       false|\n",
      "| 19|   F| 212|       Celibataire|               0|       false|\n",
      "| 34|   F|1112|         En Couple|               0|       false|\n",
      "| 60|   M| 524|         En Couple|               0|        true|\n",
      "| 22|   M| 411|         En Couple|               3|        true|\n",
      "| 58|   M|1192|         En Couple|               0|       false|\n",
      "| 54|   F| 452|         En Couple|               3|        true|\n",
      "| 35|   M| 589|       Celibataire|               0|       false|\n",
      "| 59|   M| 748|         En Couple|               0|        true|\n",
      "+---+----+----+------------------+----------------+------------+\n",
      "\n"
     ]
    }
   ],
   "source": [
    "\n",
    "\n",
    "# Define a regular expression pattern to replace é with e\n",
    "df = df.withColumn(\"situationFamiliale\", regexp_replace(col(\"situationFamiliale\"), \"�\", \"e\"))\n",
    "\n",
    "# Display the cleaned DataFrame\n",
    "df.show()"
   ]
  },
  {
   "cell_type": "code",
   "execution_count": 4,
   "id": "c767cc01-647b-4718-9e2f-d370ba6c4ff7",
   "metadata": {},
   "outputs": [
    {
     "name": "stdout",
     "output_type": "stream",
     "text": [
      "Cleaned DataFrame has been saved to: ./Cleaned/Marketing\n"
     ]
    }
   ],
   "source": [
    "# Define the path for the cleaned CSV file\n",
    "output_path = \"./Cleaned/Marketing\"\n",
    "\n",
    "# Save the cleaned DataFrame to a new CSV file\n",
    "df.write.csv(output_path, header=True, mode=\"overwrite\")\n",
    "\n",
    "# Display a message to confirm the save\n",
    "print(\"Cleaned DataFrame has been saved to:\", output_path)"
   ]
  },
  {
   "cell_type": "code",
   "execution_count": 42,
   "id": "3891dfd7-d728-44dc-a124-ac1b2c98a442",
   "metadata": {},
   "outputs": [
    {
     "name": "stdout",
     "output_type": "stream",
     "text": [
      "File does not exist: ./Marketing\n"
     ]
    }
   ],
   "source": [
    "import shutil\n",
    "\n",
    "# Define the path to the cleaned CSV file\n",
    "cleaned_file_path = \"./Marketing\"\n",
    "\n",
    "if os.path.exists(cleaned_file_path):\n",
    "    # Delete the file\n",
    "    shutil.rmtree(cleaned_file_path)\n",
    "    print(\"File deleted successfully:\", cleaned_file_path)\n",
    "else:\n",
    "    print(\"File does not exist:\", cleaned_file_path)\n"
   ]
  },
  {
   "cell_type": "code",
   "execution_count": 43,
   "id": "3fde546c-284c-432f-8168-5cea4cf9f6cc",
   "metadata": {},
   "outputs": [
    {
     "name": "stdout",
     "output_type": "stream",
     "text": [
      "There are no empty values in the column: age\n",
      "There are no empty values in the column: sexe\n",
      "There are no empty values in the column: taux\n",
      "There are no empty values in the column: situationFamiliale\n",
      "There are no empty values in the column: nbEnfantsAcharge\n",
      "There are no empty values in the column: 2eme voiture\n"
     ]
    }
   ],
   "source": [
    "from pyspark.sql.functions import col\n",
    "\n",
    "# Iterate over each column\n",
    "for column_name in df.columns:\n",
    "    # Filter rows with null or empty values in the column\n",
    "    empty_values_df = df.filter((col(column_name) == \"\") | col(column_name).isNull())\n",
    "    \n",
    "    # Check if there are any empty values in the column\n",
    "    if empty_values_df.count() > 0:\n",
    "        print(\"There are empty values in the column:\", column_name)\n",
    "        # Display the rows with empty values\n",
    "        empty_values_df.show()\n",
    "    else:\n",
    "        print(\"There are no empty values in the column:\", column_name)\n"
   ]
  },
  {
   "cell_type": "code",
   "execution_count": 44,
   "id": "cb52a080-c4c8-4268-8139-76e6104812c3",
   "metadata": {},
   "outputs": [
    {
     "name": "stdout",
     "output_type": "stream",
     "text": [
      "+---+----+----+------------------+----------------+------------+\n",
      "|age|sexe|taux|situationFamiliale|nbEnfantsAcharge|2eme voiture|\n",
      "+---+----+----+------------------+----------------+------------+\n",
      "| 21|   F|1396|       Celibataire|               0|       false|\n",
      "| 35|   M| 223|       Celibataire|               0|       false|\n",
      "| 48|   M| 401|       Celibataire|               0|       false|\n",
      "| 26|   F| 420|         En Couple|               3|        true|\n",
      "| 80|   M| 530|         En Couple|               3|       false|\n",
      "| 27|   F| 153|         En Couple|               2|       false|\n",
      "| 59|   F| 572|         En Couple|               2|       false|\n",
      "| 43|   F| 431|       Celibataire|               0|       false|\n",
      "| 64|   M| 559|       Celibataire|               0|       false|\n",
      "| 22|   M| 154|         En Couple|               1|       false|\n",
      "| 79|   F| 981|         En Couple|               2|       false|\n",
      "| 55|   M| 588|       Celibataire|               0|       false|\n",
      "| 19|   F| 212|       Celibataire|               0|       false|\n",
      "| 34|   F|1112|         En Couple|               0|       false|\n",
      "| 60|   M| 524|         En Couple|               0|        true|\n",
      "| 22|   M| 411|         En Couple|               3|        true|\n",
      "| 58|   M|1192|         En Couple|               0|       false|\n",
      "| 54|   F| 452|         En Couple|               3|        true|\n",
      "| 35|   M| 589|       Celibataire|               0|       false|\n",
      "| 59|   M| 748|         En Couple|               0|        true|\n",
      "+---+----+----+------------------+----------------+------------+\n",
      "\n"
     ]
    }
   ],
   "source": [
    "df.show()"
   ]
  },
  {
   "cell_type": "code",
   "execution_count": 52,
   "id": "e6be26c6-2e1e-432c-9b86-aad80f073ea6",
   "metadata": {},
   "outputs": [
    {
     "name": "stdout",
     "output_type": "stream",
     "text": [
      "Nombre de lignes avec des valeurs nulles dans la colonne age : 0\n",
      "Nombre de lignes avec des valeurs nulles dans la colonne sexe : 0\n",
      "Nombre de lignes avec des valeurs nulles dans la colonne taux : 0\n",
      "Nombre de lignes avec des valeurs nulles dans la colonne situationFamiliale : 0\n",
      "Nombre de lignes avec des valeurs nulles dans la colonne nbEnfantsAcharge : 0\n",
      "Nombre de lignes avec des valeurs nulles dans la colonne 2eme voiture : 0\n",
      "Nombre total de lignes avec des valeurs nulles dans le DataFrame : 0\n"
     ]
    }
   ],
   "source": [
    "from pyspark.sql import SparkSession\n",
    "from pyspark.sql.functions import col\n",
    "\n",
    "# Créer la session Spark\n",
    "spark = SparkSession.builder \\\n",
    "    .appName(\"Count Null Rows\") \\\n",
    "    .getOrCreate()\n",
    "\n",
    "\n",
    "\n",
    "# Initialiser le compteur\n",
    "total_null_rows = 0\n",
    "\n",
    "# Parcourir toutes les colonnes du DataFrame\n",
    "for col_name in df.columns:\n",
    "    # Compter le nombre de lignes avec des valeurs nulles dans cette colonne\n",
    "    null_rows_count = df.filter(df[col_name].isNull()).count()\n",
    "    # Ajouter au compteur total\n",
    "    total_null_rows += null_rows_count\n",
    "    # Afficher le nombre de lignes avec des valeurs nulles dans cette colonne\n",
    "    print(\"Nombre de lignes avec des valeurs nulles dans la colonne\", col_name, \":\", null_rows_count)\n",
    "\n",
    "# Afficher le nombre total de lignes avec des valeurs nulles dans le DataFrame\n",
    "print(\"Nombre total de lignes avec des valeurs nulles dans le DataFrame :\", total_null_rows)\n"
   ]
  }
 ],
 "metadata": {
  "kernelspec": {
   "display_name": "Python 3 (ipykernel)",
   "language": "python",
   "name": "python3"
  },
  "language_info": {
   "codemirror_mode": {
    "name": "ipython",
    "version": 3
   },
   "file_extension": ".py",
   "mimetype": "text/x-python",
   "name": "python",
   "nbconvert_exporter": "python",
   "pygments_lexer": "ipython3",
   "version": "3.11.6"
  }
 },
 "nbformat": 4,
 "nbformat_minor": 5
}
