{
 "cells": [
  {
   "cell_type": "code",
   "execution_count": 7,
   "id": "1039335a-7519-4daa-9a1f-c1d922cd363e",
   "metadata": {},
   "outputs": [
    {
     "name": "stdout",
     "output_type": "stream",
     "text": [
      "+----------+--------------+---------+-----------+--------+--------+-------+--------+-----+\n",
      "|    marque|           nom|puissance|   longueur|nbPlaces|nbPortes|couleur|occasion| prix|\n",
      "+----------+--------------+---------+-----------+--------+--------+-------+--------+-----+\n",
      "|     Volvo|        S80 T6|      272|tr�s longue|       5|       5|  blanc|   false|50500|\n",
      "|     Volvo|        S80 T6|      272|tr�s longue|       5|       5|   noir|   false|50500|\n",
      "|     Volvo|        S80 T6|      272|tr�s longue|       5|       5|  rouge|   false|50500|\n",
      "|     Volvo|        S80 T6|      272|tr�s longue|       5|       5|   gris|    true|35350|\n",
      "|     Volvo|        S80 T6|      272|tr�s longue|       5|       5|   bleu|    true|35350|\n",
      "|     Volvo|        S80 T6|      272|tr�s longue|       5|       5|   gris|   false|50500|\n",
      "|     Volvo|        S80 T6|      272|tr�s longue|       5|       5|   bleu|   false|50500|\n",
      "|     Volvo|        S80 T6|      272|tr�s longue|       5|       5|  rouge|    true|35350|\n",
      "|     Volvo|        S80 T6|      272|tr�s longue|       5|       5|  blanc|    true|35350|\n",
      "|     Volvo|        S80 T6|      272|tr�s longue|       5|       5|   noir|    true|35350|\n",
      "|Volkswagen|Touran 2.0 FSI|      150|     longue|       7|       5|  rouge|   false|27340|\n",
      "|Volkswagen|Touran 2.0 FSI|      150|     longue|       7|       5|   gris|    true|19138|\n",
      "|Volkswagen|Touran 2.0 FSI|      150|     longue|       7|       5|   bleu|    true|19138|\n",
      "|Volkswagen|Touran 2.0 FSI|      150|     longue|       7|       5|   gris|   false|27340|\n",
      "|Volkswagen|Touran 2.0 FSI|      150|     longue|       7|       5|   bleu|   false|27340|\n",
      "|Volkswagen|Touran 2.0 FSI|      150|     longue|       7|       5|  blanc|    true|19138|\n",
      "|Volkswagen|Touran 2.0 FSI|      150|     longue|       7|       5|   noir|    true|19138|\n",
      "|Volkswagen|Touran 2.0 FSI|      150|     longue|       7|       5|  rouge|    true|19138|\n",
      "|Volkswagen|Touran 2.0 FSI|      150|     longue|       7|       5|  blanc|   false|27340|\n",
      "|Volkswagen|Touran 2.0 FSI|      150|     longue|       7|       5|   noir|   false|27340|\n",
      "+----------+--------------+---------+-----------+--------+--------+-------+--------+-----+\n",
      "only showing top 20 rows\n",
      "\n"
     ]
    }
   ],
   "source": [
    "# Import SparkSession\n",
    "from pyspark.sql import SparkSession\n",
    "from pyspark.sql.functions import col, regexp_replace\n",
    "\n",
    "# Create SparkSession\n",
    "spark = SparkSession.builder \\\n",
    "    .appName(\"Read CSV Catalogue\") \\\n",
    "    .getOrCreate()\n",
    "\n",
    "# Read CSV into DataFrame\n",
    "df = spark.read.csv(\"./data/Catalogue.csv\", header=True, inferSchema=True)\n",
    "\n",
    "# Display DataFrame\n",
    "df.show()"
   ]
  },
  {
   "cell_type": "code",
   "execution_count": 8,
   "id": "1574acdf-f377-4d73-b978-1b0534fd93e5",
   "metadata": {},
   "outputs": [
    {
     "name": "stdout",
     "output_type": "stream",
     "text": [
      "+----------+--------------+---------+-----------+--------+--------+-------+--------+-----+\n",
      "|    marque|           nom|puissance|   longueur|nbPlaces|nbPortes|couleur|occasion| prix|\n",
      "+----------+--------------+---------+-----------+--------+--------+-------+--------+-----+\n",
      "|     Volvo|        S80 T6|      272|tres longue|       5|       5|  blanc|   false|50500|\n",
      "|     Volvo|        S80 T6|      272|tres longue|       5|       5|   noir|   false|50500|\n",
      "|     Volvo|        S80 T6|      272|tres longue|       5|       5|  rouge|   false|50500|\n",
      "|     Volvo|        S80 T6|      272|tres longue|       5|       5|   gris|    true|35350|\n",
      "|     Volvo|        S80 T6|      272|tres longue|       5|       5|   bleu|    true|35350|\n",
      "|     Volvo|        S80 T6|      272|tres longue|       5|       5|   gris|   false|50500|\n",
      "|     Volvo|        S80 T6|      272|tres longue|       5|       5|   bleu|   false|50500|\n",
      "|     Volvo|        S80 T6|      272|tres longue|       5|       5|  rouge|    true|35350|\n",
      "|     Volvo|        S80 T6|      272|tres longue|       5|       5|  blanc|    true|35350|\n",
      "|     Volvo|        S80 T6|      272|tres longue|       5|       5|   noir|    true|35350|\n",
      "|Volkswagen|Touran 2.0 FSI|      150|     longue|       7|       5|  rouge|   false|27340|\n",
      "|Volkswagen|Touran 2.0 FSI|      150|     longue|       7|       5|   gris|    true|19138|\n",
      "|Volkswagen|Touran 2.0 FSI|      150|     longue|       7|       5|   bleu|    true|19138|\n",
      "|Volkswagen|Touran 2.0 FSI|      150|     longue|       7|       5|   gris|   false|27340|\n",
      "|Volkswagen|Touran 2.0 FSI|      150|     longue|       7|       5|   bleu|   false|27340|\n",
      "|Volkswagen|Touran 2.0 FSI|      150|     longue|       7|       5|  blanc|    true|19138|\n",
      "|Volkswagen|Touran 2.0 FSI|      150|     longue|       7|       5|   noir|    true|19138|\n",
      "|Volkswagen|Touran 2.0 FSI|      150|     longue|       7|       5|  rouge|    true|19138|\n",
      "|Volkswagen|Touran 2.0 FSI|      150|     longue|       7|       5|  blanc|   false|27340|\n",
      "|Volkswagen|Touran 2.0 FSI|      150|     longue|       7|       5|   noir|   false|27340|\n",
      "+----------+--------------+---------+-----------+--------+--------+-------+--------+-----+\n",
      "only showing top 20 rows\n",
      "\n"
     ]
    }
   ],
   "source": [
    "from pyspark.sql.functions import regexp_replace, col\n",
    "\n",
    "# Define a regular expression pattern to replace � with e\n",
    "replacement_rule = regexp_replace(col(\"marque\"), \"�\", \"e\")\n",
    "\n",
    "# Apply the replacement rule to the marque column\n",
    "cleaned_df = df.withColumn(\"marque\", replacement_rule)\n",
    "\n",
    "# Apply the replacement rule to the longueur column\n",
    "cleaned_df = cleaned_df.withColumn(\"longueur\", regexp_replace(col(\"longueur\"), \"�\", \"e\"))\n",
    "\n",
    "# Display the cleaned DataFrame\n",
    "cleaned_df.show()\n"
   ]
  },
  {
   "cell_type": "code",
   "execution_count": 6,
   "id": "caee19e6-48a0-44cb-9b13-b6d848834421",
   "metadata": {},
   "outputs": [
    {
     "name": "stdout",
     "output_type": "stream",
     "text": [
      "+----------+--------------+---------+-----------+--------+--------+-------+--------+-----+\n",
      "|    marque|           nom|puissance|   longueur|nbPlaces|nbPortes|couleur|occasion| prix|\n",
      "+----------+--------------+---------+-----------+--------+--------+-------+--------+-----+\n",
      "|     Volvo|        S80 T6|      272|tr�s longue|       5|       5|  blanc|   false|50500|\n",
      "|     Volvo|        S80 T6|      272|tr�s longue|       5|       5|   noir|   false|50500|\n",
      "|     Volvo|        S80 T6|      272|tr�s longue|       5|       5|  rouge|   false|50500|\n",
      "|     Volvo|        S80 T6|      272|tr�s longue|       5|       5|   gris|    true|35350|\n",
      "|     Volvo|        S80 T6|      272|tr�s longue|       5|       5|   bleu|    true|35350|\n",
      "|     Volvo|        S80 T6|      272|tr�s longue|       5|       5|   gris|   false|50500|\n",
      "|     Volvo|        S80 T6|      272|tr�s longue|       5|       5|   bleu|   false|50500|\n",
      "|     Volvo|        S80 T6|      272|tr�s longue|       5|       5|  rouge|    true|35350|\n",
      "|     Volvo|        S80 T6|      272|tr�s longue|       5|       5|  blanc|    true|35350|\n",
      "|     Volvo|        S80 T6|      272|tr�s longue|       5|       5|   noir|    true|35350|\n",
      "|Volkswagen|Touran 2.0 FSI|      150|     longue|       7|       5|  rouge|   false|27340|\n",
      "|Volkswagen|Touran 2.0 FSI|      150|     longue|       7|       5|   gris|    true|19138|\n",
      "|Volkswagen|Touran 2.0 FSI|      150|     longue|       7|       5|   bleu|    true|19138|\n",
      "|Volkswagen|Touran 2.0 FSI|      150|     longue|       7|       5|   gris|   false|27340|\n",
      "|Volkswagen|Touran 2.0 FSI|      150|     longue|       7|       5|   bleu|   false|27340|\n",
      "|Volkswagen|Touran 2.0 FSI|      150|     longue|       7|       5|  blanc|    true|19138|\n",
      "|Volkswagen|Touran 2.0 FSI|      150|     longue|       7|       5|   noir|    true|19138|\n",
      "|Volkswagen|Touran 2.0 FSI|      150|     longue|       7|       5|  rouge|    true|19138|\n",
      "|Volkswagen|Touran 2.0 FSI|      150|     longue|       7|       5|  blanc|   false|27340|\n",
      "|Volkswagen|Touran 2.0 FSI|      150|     longue|       7|       5|   noir|   false|27340|\n",
      "+----------+--------------+---------+-----------+--------+--------+-------+--------+-----+\n",
      "only showing top 20 rows\n",
      "\n"
     ]
    }
   ],
   "source": [
    "\n",
    "# Define a regular expression pattern to replace é with e\n",
    "replacement_rule = regexp_replace(col(\"marque\"), \"�\", \"e\") #df.withColumn(\"marque\", regexp_replace(col(\"marque\"), \"�\", \"e\"))\n",
    "cleaned_df = df.withColumn(\"marque\", replacement_rule)\n",
    "# Display the cleaned DataFrame\n",
    "cleaned_df.show()"
   ]
  },
  {
   "cell_type": "code",
   "execution_count": 9,
   "id": "8b743c54-acd4-43f6-8225-def55e5a456b",
   "metadata": {},
   "outputs": [
    {
     "name": "stdout",
     "output_type": "stream",
     "text": [
      "Cleaned DataFrame has been saved to: ./Cleaned/catalogue\n"
     ]
    }
   ],
   "source": [
    "# Define the path for the cleaned CSV file\n",
    "output_path = \"./Cleaned/catalogue\"\n",
    "\n",
    "# Save the cleaned DataFrame to a new CSV file\n",
    "cleaned_df.write.csv(output_path, header=True, mode=\"overwrite\")\n",
    "\n",
    "# Display a message to confirm the save\n",
    "print(\"Cleaned DataFrame has been saved to:\", output_path)"
   ]
  },
  {
   "cell_type": "code",
   "execution_count": 3,
   "id": "2d3d2e07-4c89-4f36-92ee-330141e1f8e1",
   "metadata": {
    "scrolled": true
   },
   "outputs": [
    {
     "name": "stdout",
     "output_type": "stream",
     "text": [
      "There are no empty values in the column: marque\n",
      "There are no empty values in the column: nom\n",
      "There are no empty values in the column: puissance\n",
      "There are no empty values in the column: longueur\n",
      "There are no empty values in the column: nbPlaces\n",
      "There are no empty values in the column: nbPortes\n",
      "There are no empty values in the column: couleur\n",
      "There are no empty values in the column: occasion\n",
      "There are no empty values in the column: prix\n"
     ]
    }
   ],
   "source": [
    "from pyspark.sql.functions import col\n",
    "\n",
    "# Iterate over each column\n",
    "for column_name in df.columns:\n",
    "    # Filter rows with null or empty values in the column\n",
    "    empty_values_df = df.filter((col(column_name) == \"\") | col(column_name).isNull())\n",
    "    \n",
    "    # Check if there are any empty values in the column\n",
    "    if empty_values_df.count() > 0:\n",
    "        print(\"There are empty values in the column:\", column_name)\n",
    "        # Display the rows with empty values\n",
    "        empty_values_df.show()\n",
    "    else:\n",
    "        print(\"There are no empty values in the column:\", column_name)\n"
   ]
  },
  {
   "cell_type": "code",
   "execution_count": 4,
   "id": "fad8acfa-30e4-4521-93fb-40b0585ce0c7",
   "metadata": {},
   "outputs": [
    {
     "ename": "AnalysisException",
     "evalue": "[DATATYPE_MISMATCH.DATA_DIFF_TYPES] Cannot resolve \"CASE WHEN (occasion IS NULL) THEN lag(occasion, 1, NULL) OVER (ORDER BY 0 ASC NULLS FIRST ROWS BETWEEN -1 FOLLOWING AND -1 FOLLOWING) ELSE occasion END\" due to data type mismatch: Input to `casewhen` should all be the same type, but it's [\"BOOLEAN\", \"STRING\"].;\n'Project [marque#298, nom#333, puissance#413, longueur#368, nbPlaces#424, nbPortes#435, couleur#403, CASE WHEN isnull(occasion#24) THEN lag(occasion#24, -1, null) windowspecdefinition(0 ASC NULLS FIRST, specifiedwindowframe(RowFrame, -1, -1)) ELSE occasion END AS occasion#446, prix#25]\n+- Project [marque#298, nom#333, puissance#413, longueur#368, nbPlaces#424, nbPortes#435, couleur#403, occasion#24, prix#25]\n   +- Project [marque#298, nom#333, puissance#413, longueur#368, nbPlaces#424, couleur#403, occasion#24, prix#25, nbPortes#22, _we0#436, CASE WHEN isnull(nbPortes#22) THEN cast(_we0#436 as string) ELSE nbPortes END AS nbPortes#435]\n      +- Window [lag(nbPortes#22, -1, null) windowspecdefinition(0 ASC NULLS FIRST, specifiedwindowframe(RowFrame, -1, -1)) AS _we0#436], [0 ASC NULLS FIRST]\n         +- Project [marque#298, nom#333, puissance#413, longueur#368, nbPlaces#424, couleur#403, occasion#24, prix#25, nbPortes#22]\n            +- Project [marque#298, nom#333, puissance#413, longueur#368, nbPlaces#424, nbPortes#22, couleur#403, occasion#24, prix#25]\n               +- Project [marque#298, nom#333, puissance#413, longueur#368, nbPortes#22, couleur#403, occasion#24, prix#25, nbPlaces#21, _we0#425, CASE WHEN isnull(nbPlaces#21) THEN cast(_we0#425 as string) ELSE nbPlaces END AS nbPlaces#424]\n                  +- Window [lag(nbPlaces#21, -1, null) windowspecdefinition(0 ASC NULLS FIRST, specifiedwindowframe(RowFrame, -1, -1)) AS _we0#425], [0 ASC NULLS FIRST]\n                     +- Project [marque#298, nom#333, puissance#413, longueur#368, nbPortes#22, couleur#403, occasion#24, prix#25, nbPlaces#21]\n                        +- Project [marque#298, nom#333, puissance#413, longueur#368, nbPlaces#21, nbPortes#22, couleur#403, occasion#24, prix#25]\n                           +- Project [marque#298, nom#333, longueur#368, nbPlaces#21, nbPortes#22, couleur#403, occasion#24, prix#25, puissance#19, _we0#414, CASE WHEN isnull(puissance#19) THEN cast(_we0#414 as string) ELSE puissance END AS puissance#413]\n                              +- Window [lag(puissance#19, -1, null) windowspecdefinition(0 ASC NULLS FIRST, specifiedwindowframe(RowFrame, -1, -1)) AS _we0#414], [0 ASC NULLS FIRST]\n                                 +- Project [marque#298, nom#333, longueur#368, nbPlaces#21, nbPortes#22, couleur#403, occasion#24, prix#25, puissance#19]\n                                    +- Project [marque#298, nom#333, puissance#19, longueur#368, nbPlaces#21, nbPortes#22, coalesce(couleur#23, cast(blanc as string)) AS couleur#403, occasion#24, prix#25]\n                                       +- Project [marque#298, nom#333, puissance#19, coalesce(longueur#20, cast(longue as string)) AS longueur#368, nbPlaces#21, nbPortes#22, couleur#23, occasion#24, prix#25]\n                                          +- Project [marque#298, coalesce(nom#18, cast(Polo 1.2 6V as string)) AS nom#333, puissance#19, longueur#20, nbPlaces#21, nbPortes#22, couleur#23, occasion#24, prix#25]\n                                             +- Project [coalesce(marque#17, cast(Volkswagen as string)) AS marque#298, nom#18, puissance#19, longueur#20, nbPlaces#21, nbPortes#22, couleur#23, occasion#24, prix#25]\n                                                +- Relation [marque#17,nom#18,puissance#19,longueur#20,nbPlaces#21,nbPortes#22,couleur#23,occasion#24,prix#25] csv\n",
     "output_type": "error",
     "traceback": [
      "\u001b[0;31m---------------------------------------------------------------------------\u001b[0m",
      "\u001b[0;31mAnalysisException\u001b[0m                         Traceback (most recent call last)",
      "Cell \u001b[0;32mIn[4], line 11\u001b[0m\n\u001b[1;32m      9\u001b[0m \u001b[38;5;66;03m# Variables numériques : remplacer les valeurs manquantes par la valeur précédente dans la même colonne\u001b[39;00m\n\u001b[1;32m     10\u001b[0m \u001b[38;5;28;01mfor\u001b[39;00m col_name \u001b[38;5;129;01min\u001b[39;00m [col \u001b[38;5;28;01mfor\u001b[39;00m col, dtype \u001b[38;5;129;01min\u001b[39;00m df\u001b[38;5;241m.\u001b[39mdtypes \u001b[38;5;28;01mif\u001b[39;00m dtype \u001b[38;5;241m!=\u001b[39m \u001b[38;5;124m'\u001b[39m\u001b[38;5;124mstring\u001b[39m\u001b[38;5;124m'\u001b[39m]:\n\u001b[0;32m---> 11\u001b[0m     df \u001b[38;5;241m=\u001b[39m \u001b[43mdf\u001b[49m\u001b[38;5;241;43m.\u001b[39;49m\u001b[43mwithColumn\u001b[49m\u001b[43m(\u001b[49m\u001b[43mcol_name\u001b[49m\u001b[43m,\u001b[49m\u001b[43m \u001b[49m\u001b[43mwhen\u001b[49m\u001b[43m(\u001b[49m\u001b[43mcol\u001b[49m\u001b[43m(\u001b[49m\u001b[43mcol_name\u001b[49m\u001b[43m)\u001b[49m\u001b[38;5;241;43m.\u001b[39;49m\u001b[43misNull\u001b[49m\u001b[43m(\u001b[49m\u001b[43m)\u001b[49m\u001b[43m,\u001b[49m\u001b[43m \u001b[49m\u001b[43mlag\u001b[49m\u001b[43m(\u001b[49m\u001b[43mcol_name\u001b[49m\u001b[43m)\u001b[49m\u001b[38;5;241;43m.\u001b[39;49m\u001b[43mover\u001b[49m\u001b[43m(\u001b[49m\u001b[43mWindow\u001b[49m\u001b[38;5;241;43m.\u001b[39;49m\u001b[43morderBy\u001b[49m\u001b[43m(\u001b[49m\u001b[43mlit\u001b[49m\u001b[43m(\u001b[49m\u001b[38;5;241;43m0\u001b[39;49m\u001b[43m)\u001b[49m\u001b[43m)\u001b[49m\u001b[43m)\u001b[49m\u001b[43m)\u001b[49m\u001b[38;5;241;43m.\u001b[39;49m\u001b[43motherwise\u001b[49m\u001b[43m(\u001b[49m\u001b[43mcol_name\u001b[49m\u001b[43m)\u001b[49m\u001b[43m)\u001b[49m\n\u001b[1;32m     13\u001b[0m \u001b[38;5;66;03m# Afficher le DataFrame après le remplissage\u001b[39;00m\n\u001b[1;32m     14\u001b[0m df\u001b[38;5;241m.\u001b[39mshow()\n",
      "File \u001b[0;32m/usr/local/spark/python/pyspark/sql/dataframe.py:5170\u001b[0m, in \u001b[0;36mDataFrame.withColumn\u001b[0;34m(self, colName, col)\u001b[0m\n\u001b[1;32m   5165\u001b[0m \u001b[38;5;28;01mif\u001b[39;00m \u001b[38;5;129;01mnot\u001b[39;00m \u001b[38;5;28misinstance\u001b[39m(col, Column):\n\u001b[1;32m   5166\u001b[0m     \u001b[38;5;28;01mraise\u001b[39;00m PySparkTypeError(\n\u001b[1;32m   5167\u001b[0m         error_class\u001b[38;5;241m=\u001b[39m\u001b[38;5;124m\"\u001b[39m\u001b[38;5;124mNOT_COLUMN\u001b[39m\u001b[38;5;124m\"\u001b[39m,\n\u001b[1;32m   5168\u001b[0m         message_parameters\u001b[38;5;241m=\u001b[39m{\u001b[38;5;124m\"\u001b[39m\u001b[38;5;124marg_name\u001b[39m\u001b[38;5;124m\"\u001b[39m: \u001b[38;5;124m\"\u001b[39m\u001b[38;5;124mcol\u001b[39m\u001b[38;5;124m\"\u001b[39m, \u001b[38;5;124m\"\u001b[39m\u001b[38;5;124marg_type\u001b[39m\u001b[38;5;124m\"\u001b[39m: \u001b[38;5;28mtype\u001b[39m(col)\u001b[38;5;241m.\u001b[39m\u001b[38;5;18m__name__\u001b[39m},\n\u001b[1;32m   5169\u001b[0m     )\n\u001b[0;32m-> 5170\u001b[0m \u001b[38;5;28;01mreturn\u001b[39;00m DataFrame(\u001b[38;5;28;43mself\u001b[39;49m\u001b[38;5;241;43m.\u001b[39;49m\u001b[43m_jdf\u001b[49m\u001b[38;5;241;43m.\u001b[39;49m\u001b[43mwithColumn\u001b[49m\u001b[43m(\u001b[49m\u001b[43mcolName\u001b[49m\u001b[43m,\u001b[49m\u001b[43m \u001b[49m\u001b[43mcol\u001b[49m\u001b[38;5;241;43m.\u001b[39;49m\u001b[43m_jc\u001b[49m\u001b[43m)\u001b[49m, \u001b[38;5;28mself\u001b[39m\u001b[38;5;241m.\u001b[39msparkSession)\n",
      "File \u001b[0;32m/usr/local/spark/python/lib/py4j-0.10.9.7-src.zip/py4j/java_gateway.py:1322\u001b[0m, in \u001b[0;36mJavaMember.__call__\u001b[0;34m(self, *args)\u001b[0m\n\u001b[1;32m   1316\u001b[0m command \u001b[38;5;241m=\u001b[39m proto\u001b[38;5;241m.\u001b[39mCALL_COMMAND_NAME \u001b[38;5;241m+\u001b[39m\\\n\u001b[1;32m   1317\u001b[0m     \u001b[38;5;28mself\u001b[39m\u001b[38;5;241m.\u001b[39mcommand_header \u001b[38;5;241m+\u001b[39m\\\n\u001b[1;32m   1318\u001b[0m     args_command \u001b[38;5;241m+\u001b[39m\\\n\u001b[1;32m   1319\u001b[0m     proto\u001b[38;5;241m.\u001b[39mEND_COMMAND_PART\n\u001b[1;32m   1321\u001b[0m answer \u001b[38;5;241m=\u001b[39m \u001b[38;5;28mself\u001b[39m\u001b[38;5;241m.\u001b[39mgateway_client\u001b[38;5;241m.\u001b[39msend_command(command)\n\u001b[0;32m-> 1322\u001b[0m return_value \u001b[38;5;241m=\u001b[39m \u001b[43mget_return_value\u001b[49m\u001b[43m(\u001b[49m\n\u001b[1;32m   1323\u001b[0m \u001b[43m    \u001b[49m\u001b[43manswer\u001b[49m\u001b[43m,\u001b[49m\u001b[43m \u001b[49m\u001b[38;5;28;43mself\u001b[39;49m\u001b[38;5;241;43m.\u001b[39;49m\u001b[43mgateway_client\u001b[49m\u001b[43m,\u001b[49m\u001b[43m \u001b[49m\u001b[38;5;28;43mself\u001b[39;49m\u001b[38;5;241;43m.\u001b[39;49m\u001b[43mtarget_id\u001b[49m\u001b[43m,\u001b[49m\u001b[43m \u001b[49m\u001b[38;5;28;43mself\u001b[39;49m\u001b[38;5;241;43m.\u001b[39;49m\u001b[43mname\u001b[49m\u001b[43m)\u001b[49m\n\u001b[1;32m   1325\u001b[0m \u001b[38;5;28;01mfor\u001b[39;00m temp_arg \u001b[38;5;129;01min\u001b[39;00m temp_args:\n\u001b[1;32m   1326\u001b[0m     \u001b[38;5;28;01mif\u001b[39;00m \u001b[38;5;28mhasattr\u001b[39m(temp_arg, \u001b[38;5;124m\"\u001b[39m\u001b[38;5;124m_detach\u001b[39m\u001b[38;5;124m\"\u001b[39m):\n",
      "File \u001b[0;32m/usr/local/spark/python/pyspark/errors/exceptions/captured.py:185\u001b[0m, in \u001b[0;36mcapture_sql_exception.<locals>.deco\u001b[0;34m(*a, **kw)\u001b[0m\n\u001b[1;32m    181\u001b[0m converted \u001b[38;5;241m=\u001b[39m convert_exception(e\u001b[38;5;241m.\u001b[39mjava_exception)\n\u001b[1;32m    182\u001b[0m \u001b[38;5;28;01mif\u001b[39;00m \u001b[38;5;129;01mnot\u001b[39;00m \u001b[38;5;28misinstance\u001b[39m(converted, UnknownException):\n\u001b[1;32m    183\u001b[0m     \u001b[38;5;66;03m# Hide where the exception came from that shows a non-Pythonic\u001b[39;00m\n\u001b[1;32m    184\u001b[0m     \u001b[38;5;66;03m# JVM exception message.\u001b[39;00m\n\u001b[0;32m--> 185\u001b[0m     \u001b[38;5;28;01mraise\u001b[39;00m converted \u001b[38;5;28;01mfrom\u001b[39;00m \u001b[38;5;28;01mNone\u001b[39;00m\n\u001b[1;32m    186\u001b[0m \u001b[38;5;28;01melse\u001b[39;00m:\n\u001b[1;32m    187\u001b[0m     \u001b[38;5;28;01mraise\u001b[39;00m\n",
      "\u001b[0;31mAnalysisException\u001b[0m: [DATATYPE_MISMATCH.DATA_DIFF_TYPES] Cannot resolve \"CASE WHEN (occasion IS NULL) THEN lag(occasion, 1, NULL) OVER (ORDER BY 0 ASC NULLS FIRST ROWS BETWEEN -1 FOLLOWING AND -1 FOLLOWING) ELSE occasion END\" due to data type mismatch: Input to `casewhen` should all be the same type, but it's [\"BOOLEAN\", \"STRING\"].;\n'Project [marque#298, nom#333, puissance#413, longueur#368, nbPlaces#424, nbPortes#435, couleur#403, CASE WHEN isnull(occasion#24) THEN lag(occasion#24, -1, null) windowspecdefinition(0 ASC NULLS FIRST, specifiedwindowframe(RowFrame, -1, -1)) ELSE occasion END AS occasion#446, prix#25]\n+- Project [marque#298, nom#333, puissance#413, longueur#368, nbPlaces#424, nbPortes#435, couleur#403, occasion#24, prix#25]\n   +- Project [marque#298, nom#333, puissance#413, longueur#368, nbPlaces#424, couleur#403, occasion#24, prix#25, nbPortes#22, _we0#436, CASE WHEN isnull(nbPortes#22) THEN cast(_we0#436 as string) ELSE nbPortes END AS nbPortes#435]\n      +- Window [lag(nbPortes#22, -1, null) windowspecdefinition(0 ASC NULLS FIRST, specifiedwindowframe(RowFrame, -1, -1)) AS _we0#436], [0 ASC NULLS FIRST]\n         +- Project [marque#298, nom#333, puissance#413, longueur#368, nbPlaces#424, couleur#403, occasion#24, prix#25, nbPortes#22]\n            +- Project [marque#298, nom#333, puissance#413, longueur#368, nbPlaces#424, nbPortes#22, couleur#403, occasion#24, prix#25]\n               +- Project [marque#298, nom#333, puissance#413, longueur#368, nbPortes#22, couleur#403, occasion#24, prix#25, nbPlaces#21, _we0#425, CASE WHEN isnull(nbPlaces#21) THEN cast(_we0#425 as string) ELSE nbPlaces END AS nbPlaces#424]\n                  +- Window [lag(nbPlaces#21, -1, null) windowspecdefinition(0 ASC NULLS FIRST, specifiedwindowframe(RowFrame, -1, -1)) AS _we0#425], [0 ASC NULLS FIRST]\n                     +- Project [marque#298, nom#333, puissance#413, longueur#368, nbPortes#22, couleur#403, occasion#24, prix#25, nbPlaces#21]\n                        +- Project [marque#298, nom#333, puissance#413, longueur#368, nbPlaces#21, nbPortes#22, couleur#403, occasion#24, prix#25]\n                           +- Project [marque#298, nom#333, longueur#368, nbPlaces#21, nbPortes#22, couleur#403, occasion#24, prix#25, puissance#19, _we0#414, CASE WHEN isnull(puissance#19) THEN cast(_we0#414 as string) ELSE puissance END AS puissance#413]\n                              +- Window [lag(puissance#19, -1, null) windowspecdefinition(0 ASC NULLS FIRST, specifiedwindowframe(RowFrame, -1, -1)) AS _we0#414], [0 ASC NULLS FIRST]\n                                 +- Project [marque#298, nom#333, longueur#368, nbPlaces#21, nbPortes#22, couleur#403, occasion#24, prix#25, puissance#19]\n                                    +- Project [marque#298, nom#333, puissance#19, longueur#368, nbPlaces#21, nbPortes#22, coalesce(couleur#23, cast(blanc as string)) AS couleur#403, occasion#24, prix#25]\n                                       +- Project [marque#298, nom#333, puissance#19, coalesce(longueur#20, cast(longue as string)) AS longueur#368, nbPlaces#21, nbPortes#22, couleur#23, occasion#24, prix#25]\n                                          +- Project [marque#298, coalesce(nom#18, cast(Polo 1.2 6V as string)) AS nom#333, puissance#19, longueur#20, nbPlaces#21, nbPortes#22, couleur#23, occasion#24, prix#25]\n                                             +- Project [coalesce(marque#17, cast(Volkswagen as string)) AS marque#298, nom#18, puissance#19, longueur#20, nbPlaces#21, nbPortes#22, couleur#23, occasion#24, prix#25]\n                                                +- Relation [marque#17,nom#18,puissance#19,longueur#20,nbPlaces#21,nbPortes#22,couleur#23,occasion#24,prix#25] csv\n"
     ]
    }
   ],
   "source": [
    "from pyspark.sql import Window\n",
    "from pyspark.sql.functions import lag, when, col, lit\n",
    "\n",
    "# Variables catégoriques : remplacer les valeurs manquantes par les valeurs les plus fréquentes\n",
    "for col_name in [col for col, dtype in df.dtypes if dtype == 'string']:\n",
    "    mode_value = df.groupBy(col_name).count().orderBy(\"count\", ascending=False).first()[0]\n",
    "    df = df.fillna(mode_value, subset=[col_name])\n",
    "\n",
    "# Variables numériques : remplacer les valeurs manquantes par la valeur précédente dans la même colonne\n",
    "for col_name in [col for col, dtype in df.dtypes if dtype != 'string']:\n",
    "    df = df.withColumn(col_name, when(col(col_name).isNull(), lag(col_name).over(Window.orderBy(lit(0)))).otherwise(col_name))\n",
    "\n",
    "# Afficher le DataFrame après le remplissage\n",
    "df.show()\n",
    "\n"
   ]
  },
  {
   "cell_type": "code",
   "execution_count": 22,
   "id": "2c5b53b7-c890-4373-841e-b093a711a36b",
   "metadata": {},
   "outputs": [
    {
     "name": "stdout",
     "output_type": "stream",
     "text": [
      "+----------+--------------+---------+-----------+--------+--------+-------+--------+-----+\n",
      "|    marque|           nom|puissance|   longueur|nbPlaces|nbPortes|couleur|occasion| prix|\n",
      "+----------+--------------+---------+-----------+--------+--------+-------+--------+-----+\n",
      "|     Volvo|        S80 T6|puissance|tr�s longue|nbPlaces|nbPortes|  blanc|   false|50500|\n",
      "|     Volvo|        S80 T6|puissance|tr�s longue|nbPlaces|nbPortes|   noir|   false|50500|\n",
      "|     Volvo|        S80 T6|puissance|tr�s longue|nbPlaces|nbPortes|  rouge|   false|50500|\n",
      "|     Volvo|        S80 T6|puissance|tr�s longue|nbPlaces|nbPortes|   gris|    true|35350|\n",
      "|     Volvo|        S80 T6|puissance|tr�s longue|nbPlaces|nbPortes|   bleu|    true|35350|\n",
      "|     Volvo|        S80 T6|puissance|tr�s longue|nbPlaces|nbPortes|   gris|   false|50500|\n",
      "|     Volvo|        S80 T6|puissance|tr�s longue|nbPlaces|nbPortes|   bleu|   false|50500|\n",
      "|     Volvo|        S80 T6|puissance|tr�s longue|nbPlaces|nbPortes|  rouge|    true|35350|\n",
      "|     Volvo|        S80 T6|puissance|tr�s longue|nbPlaces|nbPortes|  blanc|    true|35350|\n",
      "|     Volvo|        S80 T6|puissance|tr�s longue|nbPlaces|nbPortes|   noir|    true|35350|\n",
      "|Volkswagen|Touran 2.0 FSI|puissance|     longue|nbPlaces|nbPortes|  rouge|   false|27340|\n",
      "|Volkswagen|Touran 2.0 FSI|puissance|     longue|nbPlaces|nbPortes|   gris|    true|19138|\n",
      "|Volkswagen|Touran 2.0 FSI|puissance|     longue|nbPlaces|nbPortes|   bleu|    true|19138|\n",
      "|Volkswagen|Touran 2.0 FSI|puissance|     longue|nbPlaces|nbPortes|   gris|   false|27340|\n",
      "|Volkswagen|Touran 2.0 FSI|puissance|     longue|nbPlaces|nbPortes|   bleu|   false|27340|\n",
      "|Volkswagen|Touran 2.0 FSI|puissance|     longue|nbPlaces|nbPortes|  blanc|    true|19138|\n",
      "|Volkswagen|Touran 2.0 FSI|puissance|     longue|nbPlaces|nbPortes|   noir|    true|19138|\n",
      "|Volkswagen|Touran 2.0 FSI|puissance|     longue|nbPlaces|nbPortes|  rouge|    true|19138|\n",
      "|Volkswagen|Touran 2.0 FSI|puissance|     longue|nbPlaces|nbPortes|  blanc|   false|27340|\n",
      "|Volkswagen|Touran 2.0 FSI|puissance|     longue|nbPlaces|nbPortes|   noir|   false|27340|\n",
      "+----------+--------------+---------+-----------+--------+--------+-------+--------+-----+\n",
      "only showing top 20 rows\n",
      "\n"
     ]
    }
   ],
   "source": [
    "df.show()"
   ]
  },
  {
   "cell_type": "code",
   "execution_count": 5,
   "id": "45f1f031-a04c-40a3-aa18-11da882329f2",
   "metadata": {},
   "outputs": [
    {
     "name": "stdout",
     "output_type": "stream",
     "text": [
      "There are no empty values in the column: marque\n",
      "There are no empty values in the column: nom\n",
      "There are no empty values in the column: puissance\n",
      "There are no empty values in the column: longueur\n",
      "There are no empty values in the column: nbPlaces\n",
      "There are no empty values in the column: nbPortes\n",
      "There are no empty values in the column: couleur\n",
      "There are no empty values in the column: occasion\n",
      "There are no empty values in the column: prix\n"
     ]
    }
   ],
   "source": [
    "from pyspark.sql.functions import col\n",
    "\n",
    "# Iterate over each column\n",
    "for column_name in df.columns:\n",
    "    # Filter rows with null or empty values in the column\n",
    "    empty_values_df = df.filter((col(column_name) == \"\") | col(column_name).isNull())\n",
    "    \n",
    "    # Check if there are any empty values in the column\n",
    "    if empty_values_df.count() > 0:\n",
    "        print(\"There are empty values in the column:\", column_name)\n",
    "        # Display the rows with empty values\n",
    "        empty_values_df.show()\n",
    "    else:\n",
    "        print(\"There are no empty values in the column:\", column_name)"
   ]
  },
  {
   "cell_type": "code",
   "execution_count": 43,
   "id": "d3baa93c-476a-480f-ad36-26a9e7bac907",
   "metadata": {},
   "outputs": [
    {
     "name": "stdout",
     "output_type": "stream",
     "text": [
      "Nombre de lignes avec des valeurs nulles dans la colonne marque : 0\n",
      "Nombre de lignes avec des valeurs nulles dans la colonne nom : 0\n",
      "Nombre de lignes avec des valeurs nulles dans la colonne puissance : 0\n",
      "Nombre de lignes avec des valeurs nulles dans la colonne longueur : 0\n",
      "Nombre de lignes avec des valeurs nulles dans la colonne nbPlaces : 0\n",
      "Nombre de lignes avec des valeurs nulles dans la colonne nbPortes : 0\n",
      "Nombre de lignes avec des valeurs nulles dans la colonne couleur : 0\n",
      "Nombre de lignes avec des valeurs nulles dans la colonne occasion : 0\n",
      "Nombre de lignes avec des valeurs nulles dans la colonne prix : 0\n",
      "Nombre total de lignes avec des valeurs nulles dans le DataFrame : 0\n"
     ]
    }
   ],
   "source": [
    "from pyspark.sql import SparkSession\n",
    "from pyspark.sql.functions import col\n",
    "\n",
    "# Créer la session Spark\n",
    "spark = SparkSession.builder \\\n",
    "    .appName(\"Count Null Rows\") \\\n",
    "    .getOrCreate()\n",
    "\n",
    "\n",
    "\n",
    "# Initialiser le compteur\n",
    "total_null_rows = 0\n",
    "\n",
    "# Parcourir toutes les colonnes du DataFrame\n",
    "for col_name in df.columns:\n",
    "    # Compter le nombre de lignes avec des valeurs nulles dans cette colonne\n",
    "    null_rows_count = df.filter(df[col_name].isNull()).count()\n",
    "    # Ajouter au compteur total\n",
    "    total_null_rows += null_rows_count\n",
    "    # Afficher le nombre de lignes avec des valeurs nulles dans cette colonne\n",
    "    print(\"Nombre de lignes avec des valeurs nulles dans la colonne\", col_name, \":\", null_rows_count)\n",
    "\n",
    "# Afficher le nombre total de lignes avec des valeurs nulles dans le DataFrame\n",
    "print(\"Nombre total de lignes avec des valeurs nulles dans le DataFrame :\", total_null_rows)\n"
   ]
  },
  {
   "cell_type": "code",
   "execution_count": null,
   "id": "3582e22b-43b7-4d6a-9003-6238c097ac50",
   "metadata": {},
   "outputs": [],
   "source": []
  }
 ],
 "metadata": {
  "kernelspec": {
   "display_name": "Python 3 (ipykernel)",
   "language": "python",
   "name": "python3"
  },
  "language_info": {
   "codemirror_mode": {
    "name": "ipython",
    "version": 3
   },
   "file_extension": ".py",
   "mimetype": "text/x-python",
   "name": "python",
   "nbconvert_exporter": "python",
   "pygments_lexer": "ipython3",
   "version": "3.11.6"
  }
 },
 "nbformat": 4,
 "nbformat_minor": 5
}
